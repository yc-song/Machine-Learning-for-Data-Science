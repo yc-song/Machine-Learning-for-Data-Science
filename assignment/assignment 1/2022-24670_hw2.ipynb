{
 "cells": [
  {
   "cell_type": "code",
   "execution_count": 105,
   "outputs": [],
   "source": [
    "import pandas as pd\n",
    "import numpy as np\n",
    "import statsmodels as sms\n",
    "import statsmodels.api as sm\n",
    "from sklearn.model_selection import train_test_split\n",
    "from sklearn.model_selection import KFold\n",
    "from sklearn.linear_model import LogisticRegression\n",
    "from sklearn.preprocessing import StandardScaler\n",
    "from sklearn import linear_model\n",
    "from sklearn.model_selection import cross_val_score\n",
    "import matplotlib.pyplot as plt\n",
    "from sklearn.decomposition import PCA\n",
    "import plotly.express as px\n",
    "from sklearn.neighbors import KNeighborsClassifier\n",
    "from sklearn.model_selection import RepeatedStratifiedKFold\n",
    "from sklearn.model_selection import cross_validate\n",
    "from sklearn import svm\n",
    "import openpyxl\n",
    "import statsmodels.discrete.discrete_model as smd"
   ],
   "metadata": {
    "collapsed": false,
    "pycharm": {
     "name": "#%%\n"
    }
   }
  },
  {
   "cell_type": "markdown",
   "source": [],
   "metadata": {
    "collapsed": false
   }
  },
  {
   "cell_type": "code",
   "execution_count": 5,
   "outputs": [
    {
     "name": "stdout",
     "output_type": "stream",
     "text": [
      "      class\n",
      "0       1.0\n",
      "1       3.0\n",
      "2       1.0\n",
      "3       1.0\n",
      "4       1.0\n",
      "...     ...\n",
      "1447    1.0\n",
      "1448    3.0\n",
      "1449    1.0\n",
      "1450    3.0\n",
      "1451    1.0\n",
      "\n",
      "[1452 rows x 1 columns]\n"
     ]
    }
   ],
   "source": [
    "#import CSV file\n",
    "X_train = pd.read_csv('OnlineAd_X_train.csv', header=None)\n",
    "Y_train = pd.read_csv('OnlineAd_Y_train.csv',names= ['class','class 2','class 3'])\n",
    "Y_train.loc[Y_train['class 2'] == 1, ['class']] = 2\n",
    "Y_train.loc[Y_train['class 3'] == 1, ['class']] = 3\n",
    "Y_train.drop(columns= ['class 2','class 3'])\n",
    "Y_train= Y_train['class']\n",
    "Y_train=pd.DataFrame(Y_train)\n",
    "print(Y_train)"
   ],
   "metadata": {
    "collapsed": false,
    "pycharm": {
     "name": "#%%\n"
    }
   }
  },
  {
   "cell_type": "code",
   "execution_count": 100,
   "outputs": [
    {
     "name": "stderr",
     "output_type": "stream",
     "text": [
      "g:\\my drive\\22-1\\머신러닝\\assignment 2\\venv\\lib\\site-packages\\plotly\\express\\_core.py:1101: PerformanceWarning: DataFrame is highly fragmented.  This is usually the result of calling `frame.insert` many times, which has poor performance.  Consider joining all columns at once using pd.concat(axis=1) instead. To get a de-fragmented frame, use `newframe = frame.copy()`\n",
      "  df_output[df_input.columns] = df_input[df_input.columns]\n",
      "g:\\my drive\\22-1\\머신러닝\\assignment 2\\venv\\lib\\site-packages\\plotly\\express\\_core.py:1101: PerformanceWarning: DataFrame is highly fragmented.  This is usually the result of calling `frame.insert` many times, which has poor performance.  Consider joining all columns at once using pd.concat(axis=1) instead. To get a de-fragmented frame, use `newframe = frame.copy()`\n",
      "  df_output[df_input.columns] = df_input[df_input.columns]\n",
      "g:\\my drive\\22-1\\머신러닝\\assignment 2\\venv\\lib\\site-packages\\plotly\\express\\_core.py:1101: PerformanceWarning: DataFrame is highly fragmented.  This is usually the result of calling `frame.insert` many times, which has poor performance.  Consider joining all columns at once using pd.concat(axis=1) instead. To get a de-fragmented frame, use `newframe = frame.copy()`\n",
      "  df_output[df_input.columns] = df_input[df_input.columns]\n",
      "g:\\my drive\\22-1\\머신러닝\\assignment 2\\venv\\lib\\site-packages\\plotly\\express\\_core.py:1101: PerformanceWarning: DataFrame is highly fragmented.  This is usually the result of calling `frame.insert` many times, which has poor performance.  Consider joining all columns at once using pd.concat(axis=1) instead. To get a de-fragmented frame, use `newframe = frame.copy()`\n",
      "  df_output[df_input.columns] = df_input[df_input.columns]\n",
      "g:\\my drive\\22-1\\머신러닝\\assignment 2\\venv\\lib\\site-packages\\plotly\\express\\_core.py:1101: PerformanceWarning: DataFrame is highly fragmented.  This is usually the result of calling `frame.insert` many times, which has poor performance.  Consider joining all columns at once using pd.concat(axis=1) instead. To get a de-fragmented frame, use `newframe = frame.copy()`\n",
      "  df_output[df_input.columns] = df_input[df_input.columns]\n",
      "g:\\my drive\\22-1\\머신러닝\\assignment 2\\venv\\lib\\site-packages\\plotly\\express\\_core.py:1101: PerformanceWarning: DataFrame is highly fragmented.  This is usually the result of calling `frame.insert` many times, which has poor performance.  Consider joining all columns at once using pd.concat(axis=1) instead. To get a de-fragmented frame, use `newframe = frame.copy()`\n",
      "  df_output[df_input.columns] = df_input[df_input.columns]\n",
      "g:\\my drive\\22-1\\머신러닝\\assignment 2\\venv\\lib\\site-packages\\plotly\\express\\_core.py:1101: PerformanceWarning: DataFrame is highly fragmented.  This is usually the result of calling `frame.insert` many times, which has poor performance.  Consider joining all columns at once using pd.concat(axis=1) instead. To get a de-fragmented frame, use `newframe = frame.copy()`\n",
      "  df_output[df_input.columns] = df_input[df_input.columns]\n",
      "g:\\my drive\\22-1\\머신러닝\\assignment 2\\venv\\lib\\site-packages\\plotly\\express\\_core.py:1101: PerformanceWarning: DataFrame is highly fragmented.  This is usually the result of calling `frame.insert` many times, which has poor performance.  Consider joining all columns at once using pd.concat(axis=1) instead. To get a de-fragmented frame, use `newframe = frame.copy()`\n",
      "  df_output[df_input.columns] = df_input[df_input.columns]\n",
      "g:\\my drive\\22-1\\머신러닝\\assignment 2\\venv\\lib\\site-packages\\plotly\\express\\_core.py:1101: PerformanceWarning: DataFrame is highly fragmented.  This is usually the result of calling `frame.insert` many times, which has poor performance.  Consider joining all columns at once using pd.concat(axis=1) instead. To get a de-fragmented frame, use `newframe = frame.copy()`\n",
      "  df_output[df_input.columns] = df_input[df_input.columns]\n",
      "g:\\my drive\\22-1\\머신러닝\\assignment 2\\venv\\lib\\site-packages\\plotly\\express\\_core.py:1101: PerformanceWarning: DataFrame is highly fragmented.  This is usually the result of calling `frame.insert` many times, which has poor performance.  Consider joining all columns at once using pd.concat(axis=1) instead. To get a de-fragmented frame, use `newframe = frame.copy()`\n",
      "  df_output[df_input.columns] = df_input[df_input.columns]\n",
      "g:\\my drive\\22-1\\머신러닝\\assignment 2\\venv\\lib\\site-packages\\plotly\\express\\_core.py:1101: PerformanceWarning: DataFrame is highly fragmented.  This is usually the result of calling `frame.insert` many times, which has poor performance.  Consider joining all columns at once using pd.concat(axis=1) instead. To get a de-fragmented frame, use `newframe = frame.copy()`\n",
      "  df_output[df_input.columns] = df_input[df_input.columns]\n",
      "g:\\my drive\\22-1\\머신러닝\\assignment 2\\venv\\lib\\site-packages\\plotly\\express\\_core.py:1101: PerformanceWarning: DataFrame is highly fragmented.  This is usually the result of calling `frame.insert` many times, which has poor performance.  Consider joining all columns at once using pd.concat(axis=1) instead. To get a de-fragmented frame, use `newframe = frame.copy()`\n",
      "  df_output[df_input.columns] = df_input[df_input.columns]\n",
      "g:\\my drive\\22-1\\머신러닝\\assignment 2\\venv\\lib\\site-packages\\plotly\\express\\_core.py:1101: PerformanceWarning: DataFrame is highly fragmented.  This is usually the result of calling `frame.insert` many times, which has poor performance.  Consider joining all columns at once using pd.concat(axis=1) instead. To get a de-fragmented frame, use `newframe = frame.copy()`\n",
      "  df_output[df_input.columns] = df_input[df_input.columns]\n",
      "g:\\my drive\\22-1\\머신러닝\\assignment 2\\venv\\lib\\site-packages\\plotly\\express\\_core.py:1101: PerformanceWarning: DataFrame is highly fragmented.  This is usually the result of calling `frame.insert` many times, which has poor performance.  Consider joining all columns at once using pd.concat(axis=1) instead. To get a de-fragmented frame, use `newframe = frame.copy()`\n",
      "  df_output[df_input.columns] = df_input[df_input.columns]\n",
      "g:\\my drive\\22-1\\머신러닝\\assignment 2\\venv\\lib\\site-packages\\plotly\\express\\_core.py:1101: PerformanceWarning: DataFrame is highly fragmented.  This is usually the result of calling `frame.insert` many times, which has poor performance.  Consider joining all columns at once using pd.concat(axis=1) instead. To get a de-fragmented frame, use `newframe = frame.copy()`\n",
      "  df_output[df_input.columns] = df_input[df_input.columns]\n",
      "g:\\my drive\\22-1\\머신러닝\\assignment 2\\venv\\lib\\site-packages\\plotly\\express\\_core.py:1101: PerformanceWarning: DataFrame is highly fragmented.  This is usually the result of calling `frame.insert` many times, which has poor performance.  Consider joining all columns at once using pd.concat(axis=1) instead. To get a de-fragmented frame, use `newframe = frame.copy()`\n",
      "  df_output[df_input.columns] = df_input[df_input.columns]\n",
      "g:\\my drive\\22-1\\머신러닝\\assignment 2\\venv\\lib\\site-packages\\plotly\\express\\_core.py:1101: PerformanceWarning: DataFrame is highly fragmented.  This is usually the result of calling `frame.insert` many times, which has poor performance.  Consider joining all columns at once using pd.concat(axis=1) instead. To get a de-fragmented frame, use `newframe = frame.copy()`\n",
      "  df_output[df_input.columns] = df_input[df_input.columns]\n",
      "g:\\my drive\\22-1\\머신러닝\\assignment 2\\venv\\lib\\site-packages\\plotly\\express\\_core.py:1101: PerformanceWarning: DataFrame is highly fragmented.  This is usually the result of calling `frame.insert` many times, which has poor performance.  Consider joining all columns at once using pd.concat(axis=1) instead. To get a de-fragmented frame, use `newframe = frame.copy()`\n",
      "  df_output[df_input.columns] = df_input[df_input.columns]\n",
      "g:\\my drive\\22-1\\머신러닝\\assignment 2\\venv\\lib\\site-packages\\plotly\\express\\_core.py:1101: PerformanceWarning: DataFrame is highly fragmented.  This is usually the result of calling `frame.insert` many times, which has poor performance.  Consider joining all columns at once using pd.concat(axis=1) instead. To get a de-fragmented frame, use `newframe = frame.copy()`\n",
      "  df_output[df_input.columns] = df_input[df_input.columns]\n",
      "g:\\my drive\\22-1\\머신러닝\\assignment 2\\venv\\lib\\site-packages\\plotly\\express\\_core.py:1101: PerformanceWarning: DataFrame is highly fragmented.  This is usually the result of calling `frame.insert` many times, which has poor performance.  Consider joining all columns at once using pd.concat(axis=1) instead. To get a de-fragmented frame, use `newframe = frame.copy()`\n",
      "  df_output[df_input.columns] = df_input[df_input.columns]\n",
      "g:\\my drive\\22-1\\머신러닝\\assignment 2\\venv\\lib\\site-packages\\plotly\\express\\_core.py:1101: PerformanceWarning: DataFrame is highly fragmented.  This is usually the result of calling `frame.insert` many times, which has poor performance.  Consider joining all columns at once using pd.concat(axis=1) instead. To get a de-fragmented frame, use `newframe = frame.copy()`\n",
      "  df_output[df_input.columns] = df_input[df_input.columns]\n",
      "g:\\my drive\\22-1\\머신러닝\\assignment 2\\venv\\lib\\site-packages\\plotly\\express\\_core.py:1101: PerformanceWarning: DataFrame is highly fragmented.  This is usually the result of calling `frame.insert` many times, which has poor performance.  Consider joining all columns at once using pd.concat(axis=1) instead. To get a de-fragmented frame, use `newframe = frame.copy()`\n",
      "  df_output[df_input.columns] = df_input[df_input.columns]\n",
      "g:\\my drive\\22-1\\머신러닝\\assignment 2\\venv\\lib\\site-packages\\plotly\\express\\_core.py:1101: PerformanceWarning: DataFrame is highly fragmented.  This is usually the result of calling `frame.insert` many times, which has poor performance.  Consider joining all columns at once using pd.concat(axis=1) instead. To get a de-fragmented frame, use `newframe = frame.copy()`\n",
      "  df_output[df_input.columns] = df_input[df_input.columns]\n",
      "g:\\my drive\\22-1\\머신러닝\\assignment 2\\venv\\lib\\site-packages\\plotly\\express\\_core.py:1101: PerformanceWarning: DataFrame is highly fragmented.  This is usually the result of calling `frame.insert` many times, which has poor performance.  Consider joining all columns at once using pd.concat(axis=1) instead. To get a de-fragmented frame, use `newframe = frame.copy()`\n",
      "  df_output[df_input.columns] = df_input[df_input.columns]\n",
      "g:\\my drive\\22-1\\머신러닝\\assignment 2\\venv\\lib\\site-packages\\plotly\\express\\_core.py:1101: PerformanceWarning: DataFrame is highly fragmented.  This is usually the result of calling `frame.insert` many times, which has poor performance.  Consider joining all columns at once using pd.concat(axis=1) instead. To get a de-fragmented frame, use `newframe = frame.copy()`\n",
      "  df_output[df_input.columns] = df_input[df_input.columns]\n",
      "g:\\my drive\\22-1\\머신러닝\\assignment 2\\venv\\lib\\site-packages\\plotly\\express\\_core.py:1101: PerformanceWarning: DataFrame is highly fragmented.  This is usually the result of calling `frame.insert` many times, which has poor performance.  Consider joining all columns at once using pd.concat(axis=1) instead. To get a de-fragmented frame, use `newframe = frame.copy()`\n",
      "  df_output[df_input.columns] = df_input[df_input.columns]\n",
      "g:\\my drive\\22-1\\머신러닝\\assignment 2\\venv\\lib\\site-packages\\plotly\\express\\_core.py:1101: PerformanceWarning: DataFrame is highly fragmented.  This is usually the result of calling `frame.insert` many times, which has poor performance.  Consider joining all columns at once using pd.concat(axis=1) instead. To get a de-fragmented frame, use `newframe = frame.copy()`\n",
      "  df_output[df_input.columns] = df_input[df_input.columns]\n",
      "g:\\my drive\\22-1\\머신러닝\\assignment 2\\venv\\lib\\site-packages\\plotly\\express\\_core.py:1101: PerformanceWarning: DataFrame is highly fragmented.  This is usually the result of calling `frame.insert` many times, which has poor performance.  Consider joining all columns at once using pd.concat(axis=1) instead. To get a de-fragmented frame, use `newframe = frame.copy()`\n",
      "  df_output[df_input.columns] = df_input[df_input.columns]\n",
      "g:\\my drive\\22-1\\머신러닝\\assignment 2\\venv\\lib\\site-packages\\plotly\\express\\_core.py:1101: PerformanceWarning: DataFrame is highly fragmented.  This is usually the result of calling `frame.insert` many times, which has poor performance.  Consider joining all columns at once using pd.concat(axis=1) instead. To get a de-fragmented frame, use `newframe = frame.copy()`\n",
      "  df_output[df_input.columns] = df_input[df_input.columns]\n",
      "g:\\my drive\\22-1\\머신러닝\\assignment 2\\venv\\lib\\site-packages\\plotly\\express\\_core.py:1101: PerformanceWarning: DataFrame is highly fragmented.  This is usually the result of calling `frame.insert` many times, which has poor performance.  Consider joining all columns at once using pd.concat(axis=1) instead. To get a de-fragmented frame, use `newframe = frame.copy()`\n",
      "  df_output[df_input.columns] = df_input[df_input.columns]\n",
      "g:\\my drive\\22-1\\머신러닝\\assignment 2\\venv\\lib\\site-packages\\plotly\\express\\_core.py:1101: PerformanceWarning: DataFrame is highly fragmented.  This is usually the result of calling `frame.insert` many times, which has poor performance.  Consider joining all columns at once using pd.concat(axis=1) instead. To get a de-fragmented frame, use `newframe = frame.copy()`\n",
      "  df_output[df_input.columns] = df_input[df_input.columns]\n",
      "g:\\my drive\\22-1\\머신러닝\\assignment 2\\venv\\lib\\site-packages\\plotly\\express\\_core.py:1101: PerformanceWarning: DataFrame is highly fragmented.  This is usually the result of calling `frame.insert` many times, which has poor performance.  Consider joining all columns at once using pd.concat(axis=1) instead. To get a de-fragmented frame, use `newframe = frame.copy()`\n",
      "  df_output[df_input.columns] = df_input[df_input.columns]\n",
      "g:\\my drive\\22-1\\머신러닝\\assignment 2\\venv\\lib\\site-packages\\plotly\\express\\_core.py:1101: PerformanceWarning: DataFrame is highly fragmented.  This is usually the result of calling `frame.insert` many times, which has poor performance.  Consider joining all columns at once using pd.concat(axis=1) instead. To get a de-fragmented frame, use `newframe = frame.copy()`\n",
      "  df_output[df_input.columns] = df_input[df_input.columns]\n",
      "g:\\my drive\\22-1\\머신러닝\\assignment 2\\venv\\lib\\site-packages\\plotly\\express\\_core.py:1101: PerformanceWarning: DataFrame is highly fragmented.  This is usually the result of calling `frame.insert` many times, which has poor performance.  Consider joining all columns at once using pd.concat(axis=1) instead. To get a de-fragmented frame, use `newframe = frame.copy()`\n",
      "  df_output[df_input.columns] = df_input[df_input.columns]\n",
      "g:\\my drive\\22-1\\머신러닝\\assignment 2\\venv\\lib\\site-packages\\plotly\\express\\_core.py:1101: PerformanceWarning: DataFrame is highly fragmented.  This is usually the result of calling `frame.insert` many times, which has poor performance.  Consider joining all columns at once using pd.concat(axis=1) instead. To get a de-fragmented frame, use `newframe = frame.copy()`\n",
      "  df_output[df_input.columns] = df_input[df_input.columns]\n",
      "g:\\my drive\\22-1\\머신러닝\\assignment 2\\venv\\lib\\site-packages\\plotly\\express\\_core.py:1101: PerformanceWarning: DataFrame is highly fragmented.  This is usually the result of calling `frame.insert` many times, which has poor performance.  Consider joining all columns at once using pd.concat(axis=1) instead. To get a de-fragmented frame, use `newframe = frame.copy()`\n",
      "  df_output[df_input.columns] = df_input[df_input.columns]\n",
      "g:\\my drive\\22-1\\머신러닝\\assignment 2\\venv\\lib\\site-packages\\plotly\\express\\_core.py:1101: PerformanceWarning: DataFrame is highly fragmented.  This is usually the result of calling `frame.insert` many times, which has poor performance.  Consider joining all columns at once using pd.concat(axis=1) instead. To get a de-fragmented frame, use `newframe = frame.copy()`\n",
      "  df_output[df_input.columns] = df_input[df_input.columns]\n",
      "g:\\my drive\\22-1\\머신러닝\\assignment 2\\venv\\lib\\site-packages\\plotly\\express\\_core.py:1101: PerformanceWarning: DataFrame is highly fragmented.  This is usually the result of calling `frame.insert` many times, which has poor performance.  Consider joining all columns at once using pd.concat(axis=1) instead. To get a de-fragmented frame, use `newframe = frame.copy()`\n",
      "  df_output[df_input.columns] = df_input[df_input.columns]\n",
      "g:\\my drive\\22-1\\머신러닝\\assignment 2\\venv\\lib\\site-packages\\plotly\\express\\_core.py:1101: PerformanceWarning: DataFrame is highly fragmented.  This is usually the result of calling `frame.insert` many times, which has poor performance.  Consider joining all columns at once using pd.concat(axis=1) instead. To get a de-fragmented frame, use `newframe = frame.copy()`\n",
      "  df_output[df_input.columns] = df_input[df_input.columns]\n",
      "g:\\my drive\\22-1\\머신러닝\\assignment 2\\venv\\lib\\site-packages\\plotly\\express\\_core.py:1101: PerformanceWarning: DataFrame is highly fragmented.  This is usually the result of calling `frame.insert` many times, which has poor performance.  Consider joining all columns at once using pd.concat(axis=1) instead. To get a de-fragmented frame, use `newframe = frame.copy()`\n",
      "  df_output[df_input.columns] = df_input[df_input.columns]\n",
      "g:\\my drive\\22-1\\머신러닝\\assignment 2\\venv\\lib\\site-packages\\plotly\\express\\_core.py:1101: PerformanceWarning: DataFrame is highly fragmented.  This is usually the result of calling `frame.insert` many times, which has poor performance.  Consider joining all columns at once using pd.concat(axis=1) instead. To get a de-fragmented frame, use `newframe = frame.copy()`\n",
      "  df_output[df_input.columns] = df_input[df_input.columns]\n",
      "g:\\my drive\\22-1\\머신러닝\\assignment 2\\venv\\lib\\site-packages\\plotly\\express\\_core.py:1101: PerformanceWarning: DataFrame is highly fragmented.  This is usually the result of calling `frame.insert` many times, which has poor performance.  Consider joining all columns at once using pd.concat(axis=1) instead. To get a de-fragmented frame, use `newframe = frame.copy()`\n",
      "  df_output[df_input.columns] = df_input[df_input.columns]\n",
      "g:\\my drive\\22-1\\머신러닝\\assignment 2\\venv\\lib\\site-packages\\plotly\\express\\_core.py:1101: PerformanceWarning: DataFrame is highly fragmented.  This is usually the result of calling `frame.insert` many times, which has poor performance.  Consider joining all columns at once using pd.concat(axis=1) instead. To get a de-fragmented frame, use `newframe = frame.copy()`\n",
      "  df_output[df_input.columns] = df_input[df_input.columns]\n",
      "g:\\my drive\\22-1\\머신러닝\\assignment 2\\venv\\lib\\site-packages\\plotly\\express\\_core.py:1101: PerformanceWarning: DataFrame is highly fragmented.  This is usually the result of calling `frame.insert` many times, which has poor performance.  Consider joining all columns at once using pd.concat(axis=1) instead. To get a de-fragmented frame, use `newframe = frame.copy()`\n",
      "  df_output[df_input.columns] = df_input[df_input.columns]\n",
      "g:\\my drive\\22-1\\머신러닝\\assignment 2\\venv\\lib\\site-packages\\plotly\\express\\_core.py:1101: PerformanceWarning: DataFrame is highly fragmented.  This is usually the result of calling `frame.insert` many times, which has poor performance.  Consider joining all columns at once using pd.concat(axis=1) instead. To get a de-fragmented frame, use `newframe = frame.copy()`\n",
      "  df_output[df_input.columns] = df_input[df_input.columns]\n",
      "g:\\my drive\\22-1\\머신러닝\\assignment 2\\venv\\lib\\site-packages\\plotly\\express\\_core.py:1101: PerformanceWarning: DataFrame is highly fragmented.  This is usually the result of calling `frame.insert` many times, which has poor performance.  Consider joining all columns at once using pd.concat(axis=1) instead. To get a de-fragmented frame, use `newframe = frame.copy()`\n",
      "  df_output[df_input.columns] = df_input[df_input.columns]\n",
      "g:\\my drive\\22-1\\머신러닝\\assignment 2\\venv\\lib\\site-packages\\plotly\\express\\_core.py:1101: PerformanceWarning: DataFrame is highly fragmented.  This is usually the result of calling `frame.insert` many times, which has poor performance.  Consider joining all columns at once using pd.concat(axis=1) instead. To get a de-fragmented frame, use `newframe = frame.copy()`\n",
      "  df_output[df_input.columns] = df_input[df_input.columns]\n",
      "g:\\my drive\\22-1\\머신러닝\\assignment 2\\venv\\lib\\site-packages\\plotly\\express\\_core.py:1101: PerformanceWarning: DataFrame is highly fragmented.  This is usually the result of calling `frame.insert` many times, which has poor performance.  Consider joining all columns at once using pd.concat(axis=1) instead. To get a de-fragmented frame, use `newframe = frame.copy()`\n",
      "  df_output[df_input.columns] = df_input[df_input.columns]\n",
      "g:\\my drive\\22-1\\머신러닝\\assignment 2\\venv\\lib\\site-packages\\plotly\\express\\_core.py:1101: PerformanceWarning: DataFrame is highly fragmented.  This is usually the result of calling `frame.insert` many times, which has poor performance.  Consider joining all columns at once using pd.concat(axis=1) instead. To get a de-fragmented frame, use `newframe = frame.copy()`\n",
      "  df_output[df_input.columns] = df_input[df_input.columns]\n",
      "g:\\my drive\\22-1\\머신러닝\\assignment 2\\venv\\lib\\site-packages\\plotly\\express\\_core.py:1101: PerformanceWarning: DataFrame is highly fragmented.  This is usually the result of calling `frame.insert` many times, which has poor performance.  Consider joining all columns at once using pd.concat(axis=1) instead. To get a de-fragmented frame, use `newframe = frame.copy()`\n",
      "  df_output[df_input.columns] = df_input[df_input.columns]\n",
      "g:\\my drive\\22-1\\머신러닝\\assignment 2\\venv\\lib\\site-packages\\plotly\\express\\_core.py:1101: PerformanceWarning: DataFrame is highly fragmented.  This is usually the result of calling `frame.insert` many times, which has poor performance.  Consider joining all columns at once using pd.concat(axis=1) instead. To get a de-fragmented frame, use `newframe = frame.copy()`\n",
      "  df_output[df_input.columns] = df_input[df_input.columns]\n",
      "g:\\my drive\\22-1\\머신러닝\\assignment 2\\venv\\lib\\site-packages\\plotly\\express\\_core.py:1101: PerformanceWarning: DataFrame is highly fragmented.  This is usually the result of calling `frame.insert` many times, which has poor performance.  Consider joining all columns at once using pd.concat(axis=1) instead. To get a de-fragmented frame, use `newframe = frame.copy()`\n",
      "  df_output[df_input.columns] = df_input[df_input.columns]\n",
      "g:\\my drive\\22-1\\머신러닝\\assignment 2\\venv\\lib\\site-packages\\plotly\\express\\_core.py:1101: PerformanceWarning: DataFrame is highly fragmented.  This is usually the result of calling `frame.insert` many times, which has poor performance.  Consider joining all columns at once using pd.concat(axis=1) instead. To get a de-fragmented frame, use `newframe = frame.copy()`\n",
      "  df_output[df_input.columns] = df_input[df_input.columns]\n",
      "g:\\my drive\\22-1\\머신러닝\\assignment 2\\venv\\lib\\site-packages\\plotly\\express\\_core.py:1101: PerformanceWarning: DataFrame is highly fragmented.  This is usually the result of calling `frame.insert` many times, which has poor performance.  Consider joining all columns at once using pd.concat(axis=1) instead. To get a de-fragmented frame, use `newframe = frame.copy()`\n",
      "  df_output[df_input.columns] = df_input[df_input.columns]\n",
      "g:\\my drive\\22-1\\머신러닝\\assignment 2\\venv\\lib\\site-packages\\plotly\\express\\_core.py:1101: PerformanceWarning: DataFrame is highly fragmented.  This is usually the result of calling `frame.insert` many times, which has poor performance.  Consider joining all columns at once using pd.concat(axis=1) instead. To get a de-fragmented frame, use `newframe = frame.copy()`\n",
      "  df_output[df_input.columns] = df_input[df_input.columns]\n",
      "g:\\my drive\\22-1\\머신러닝\\assignment 2\\venv\\lib\\site-packages\\plotly\\express\\_core.py:1101: PerformanceWarning: DataFrame is highly fragmented.  This is usually the result of calling `frame.insert` many times, which has poor performance.  Consider joining all columns at once using pd.concat(axis=1) instead. To get a de-fragmented frame, use `newframe = frame.copy()`\n",
      "  df_output[df_input.columns] = df_input[df_input.columns]\n",
      "g:\\my drive\\22-1\\머신러닝\\assignment 2\\venv\\lib\\site-packages\\plotly\\express\\_core.py:1101: PerformanceWarning: DataFrame is highly fragmented.  This is usually the result of calling `frame.insert` many times, which has poor performance.  Consider joining all columns at once using pd.concat(axis=1) instead. To get a de-fragmented frame, use `newframe = frame.copy()`\n",
      "  df_output[df_input.columns] = df_input[df_input.columns]\n",
      "g:\\my drive\\22-1\\머신러닝\\assignment 2\\venv\\lib\\site-packages\\plotly\\express\\_core.py:1101: PerformanceWarning: DataFrame is highly fragmented.  This is usually the result of calling `frame.insert` many times, which has poor performance.  Consider joining all columns at once using pd.concat(axis=1) instead. To get a de-fragmented frame, use `newframe = frame.copy()`\n",
      "  df_output[df_input.columns] = df_input[df_input.columns]\n",
      "g:\\my drive\\22-1\\머신러닝\\assignment 2\\venv\\lib\\site-packages\\plotly\\express\\_core.py:1101: PerformanceWarning: DataFrame is highly fragmented.  This is usually the result of calling `frame.insert` many times, which has poor performance.  Consider joining all columns at once using pd.concat(axis=1) instead. To get a de-fragmented frame, use `newframe = frame.copy()`\n",
      "  df_output[df_input.columns] = df_input[df_input.columns]\n",
      "g:\\my drive\\22-1\\머신러닝\\assignment 2\\venv\\lib\\site-packages\\plotly\\express\\_core.py:1101: PerformanceWarning: DataFrame is highly fragmented.  This is usually the result of calling `frame.insert` many times, which has poor performance.  Consider joining all columns at once using pd.concat(axis=1) instead. To get a de-fragmented frame, use `newframe = frame.copy()`\n",
      "  df_output[df_input.columns] = df_input[df_input.columns]\n",
      "g:\\my drive\\22-1\\머신러닝\\assignment 2\\venv\\lib\\site-packages\\plotly\\express\\_core.py:1101: PerformanceWarning: DataFrame is highly fragmented.  This is usually the result of calling `frame.insert` many times, which has poor performance.  Consider joining all columns at once using pd.concat(axis=1) instead. To get a de-fragmented frame, use `newframe = frame.copy()`\n",
      "  df_output[df_input.columns] = df_input[df_input.columns]\n",
      "g:\\my drive\\22-1\\머신러닝\\assignment 2\\venv\\lib\\site-packages\\plotly\\express\\_core.py:1101: PerformanceWarning: DataFrame is highly fragmented.  This is usually the result of calling `frame.insert` many times, which has poor performance.  Consider joining all columns at once using pd.concat(axis=1) instead. To get a de-fragmented frame, use `newframe = frame.copy()`\n",
      "  df_output[df_input.columns] = df_input[df_input.columns]\n",
      "g:\\my drive\\22-1\\머신러닝\\assignment 2\\venv\\lib\\site-packages\\plotly\\express\\_core.py:1101: PerformanceWarning: DataFrame is highly fragmented.  This is usually the result of calling `frame.insert` many times, which has poor performance.  Consider joining all columns at once using pd.concat(axis=1) instead. To get a de-fragmented frame, use `newframe = frame.copy()`\n",
      "  df_output[df_input.columns] = df_input[df_input.columns]\n",
      "g:\\my drive\\22-1\\머신러닝\\assignment 2\\venv\\lib\\site-packages\\plotly\\express\\_core.py:1101: PerformanceWarning: DataFrame is highly fragmented.  This is usually the result of calling `frame.insert` many times, which has poor performance.  Consider joining all columns at once using pd.concat(axis=1) instead. To get a de-fragmented frame, use `newframe = frame.copy()`\n",
      "  df_output[df_input.columns] = df_input[df_input.columns]\n",
      "g:\\my drive\\22-1\\머신러닝\\assignment 2\\venv\\lib\\site-packages\\plotly\\express\\_core.py:1101: PerformanceWarning: DataFrame is highly fragmented.  This is usually the result of calling `frame.insert` many times, which has poor performance.  Consider joining all columns at once using pd.concat(axis=1) instead. To get a de-fragmented frame, use `newframe = frame.copy()`\n",
      "  df_output[df_input.columns] = df_input[df_input.columns]\n",
      "g:\\my drive\\22-1\\머신러닝\\assignment 2\\venv\\lib\\site-packages\\plotly\\express\\_core.py:1101: PerformanceWarning: DataFrame is highly fragmented.  This is usually the result of calling `frame.insert` many times, which has poor performance.  Consider joining all columns at once using pd.concat(axis=1) instead. To get a de-fragmented frame, use `newframe = frame.copy()`\n",
      "  df_output[df_input.columns] = df_input[df_input.columns]\n",
      "g:\\my drive\\22-1\\머신러닝\\assignment 2\\venv\\lib\\site-packages\\plotly\\express\\_core.py:1101: PerformanceWarning: DataFrame is highly fragmented.  This is usually the result of calling `frame.insert` many times, which has poor performance.  Consider joining all columns at once using pd.concat(axis=1) instead. To get a de-fragmented frame, use `newframe = frame.copy()`\n",
      "  df_output[df_input.columns] = df_input[df_input.columns]\n",
      "g:\\my drive\\22-1\\머신러닝\\assignment 2\\venv\\lib\\site-packages\\plotly\\express\\_core.py:1101: PerformanceWarning: DataFrame is highly fragmented.  This is usually the result of calling `frame.insert` many times, which has poor performance.  Consider joining all columns at once using pd.concat(axis=1) instead. To get a de-fragmented frame, use `newframe = frame.copy()`\n",
      "  df_output[df_input.columns] = df_input[df_input.columns]\n",
      "g:\\my drive\\22-1\\머신러닝\\assignment 2\\venv\\lib\\site-packages\\plotly\\express\\_core.py:1101: PerformanceWarning: DataFrame is highly fragmented.  This is usually the result of calling `frame.insert` many times, which has poor performance.  Consider joining all columns at once using pd.concat(axis=1) instead. To get a de-fragmented frame, use `newframe = frame.copy()`\n",
      "  df_output[df_input.columns] = df_input[df_input.columns]\n",
      "g:\\my drive\\22-1\\머신러닝\\assignment 2\\venv\\lib\\site-packages\\plotly\\express\\_core.py:1101: PerformanceWarning: DataFrame is highly fragmented.  This is usually the result of calling `frame.insert` many times, which has poor performance.  Consider joining all columns at once using pd.concat(axis=1) instead. To get a de-fragmented frame, use `newframe = frame.copy()`\n",
      "  df_output[df_input.columns] = df_input[df_input.columns]\n",
      "g:\\my drive\\22-1\\머신러닝\\assignment 2\\venv\\lib\\site-packages\\plotly\\express\\_core.py:1101: PerformanceWarning: DataFrame is highly fragmented.  This is usually the result of calling `frame.insert` many times, which has poor performance.  Consider joining all columns at once using pd.concat(axis=1) instead. To get a de-fragmented frame, use `newframe = frame.copy()`\n",
      "  df_output[df_input.columns] = df_input[df_input.columns]\n",
      "g:\\my drive\\22-1\\머신러닝\\assignment 2\\venv\\lib\\site-packages\\plotly\\express\\_core.py:1101: PerformanceWarning: DataFrame is highly fragmented.  This is usually the result of calling `frame.insert` many times, which has poor performance.  Consider joining all columns at once using pd.concat(axis=1) instead. To get a de-fragmented frame, use `newframe = frame.copy()`\n",
      "  df_output[df_input.columns] = df_input[df_input.columns]\n",
      "g:\\my drive\\22-1\\머신러닝\\assignment 2\\venv\\lib\\site-packages\\plotly\\express\\_core.py:1101: PerformanceWarning: DataFrame is highly fragmented.  This is usually the result of calling `frame.insert` many times, which has poor performance.  Consider joining all columns at once using pd.concat(axis=1) instead. To get a de-fragmented frame, use `newframe = frame.copy()`\n",
      "  df_output[df_input.columns] = df_input[df_input.columns]\n",
      "g:\\my drive\\22-1\\머신러닝\\assignment 2\\venv\\lib\\site-packages\\plotly\\express\\_core.py:1101: PerformanceWarning: DataFrame is highly fragmented.  This is usually the result of calling `frame.insert` many times, which has poor performance.  Consider joining all columns at once using pd.concat(axis=1) instead. To get a de-fragmented frame, use `newframe = frame.copy()`\n",
      "  df_output[df_input.columns] = df_input[df_input.columns]\n",
      "g:\\my drive\\22-1\\머신러닝\\assignment 2\\venv\\lib\\site-packages\\plotly\\express\\_core.py:1101: PerformanceWarning: DataFrame is highly fragmented.  This is usually the result of calling `frame.insert` many times, which has poor performance.  Consider joining all columns at once using pd.concat(axis=1) instead. To get a de-fragmented frame, use `newframe = frame.copy()`\n",
      "  df_output[df_input.columns] = df_input[df_input.columns]\n",
      "g:\\my drive\\22-1\\머신러닝\\assignment 2\\venv\\lib\\site-packages\\plotly\\express\\_core.py:1101: PerformanceWarning: DataFrame is highly fragmented.  This is usually the result of calling `frame.insert` many times, which has poor performance.  Consider joining all columns at once using pd.concat(axis=1) instead. To get a de-fragmented frame, use `newframe = frame.copy()`\n",
      "  df_output[df_input.columns] = df_input[df_input.columns]\n",
      "g:\\my drive\\22-1\\머신러닝\\assignment 2\\venv\\lib\\site-packages\\plotly\\express\\_core.py:1101: PerformanceWarning: DataFrame is highly fragmented.  This is usually the result of calling `frame.insert` many times, which has poor performance.  Consider joining all columns at once using pd.concat(axis=1) instead. To get a de-fragmented frame, use `newframe = frame.copy()`\n",
      "  df_output[df_input.columns] = df_input[df_input.columns]\n",
      "g:\\my drive\\22-1\\머신러닝\\assignment 2\\venv\\lib\\site-packages\\plotly\\express\\_core.py:1101: PerformanceWarning: DataFrame is highly fragmented.  This is usually the result of calling `frame.insert` many times, which has poor performance.  Consider joining all columns at once using pd.concat(axis=1) instead. To get a de-fragmented frame, use `newframe = frame.copy()`\n",
      "  df_output[df_input.columns] = df_input[df_input.columns]\n",
      "g:\\my drive\\22-1\\머신러닝\\assignment 2\\venv\\lib\\site-packages\\plotly\\express\\_core.py:1101: PerformanceWarning: DataFrame is highly fragmented.  This is usually the result of calling `frame.insert` many times, which has poor performance.  Consider joining all columns at once using pd.concat(axis=1) instead. To get a de-fragmented frame, use `newframe = frame.copy()`\n",
      "  df_output[df_input.columns] = df_input[df_input.columns]\n",
      "g:\\my drive\\22-1\\머신러닝\\assignment 2\\venv\\lib\\site-packages\\plotly\\express\\_core.py:1101: PerformanceWarning: DataFrame is highly fragmented.  This is usually the result of calling `frame.insert` many times, which has poor performance.  Consider joining all columns at once using pd.concat(axis=1) instead. To get a de-fragmented frame, use `newframe = frame.copy()`\n",
      "  df_output[df_input.columns] = df_input[df_input.columns]\n",
      "g:\\my drive\\22-1\\머신러닝\\assignment 2\\venv\\lib\\site-packages\\plotly\\express\\_core.py:1101: PerformanceWarning: DataFrame is highly fragmented.  This is usually the result of calling `frame.insert` many times, which has poor performance.  Consider joining all columns at once using pd.concat(axis=1) instead. To get a de-fragmented frame, use `newframe = frame.copy()`\n",
      "  df_output[df_input.columns] = df_input[df_input.columns]\n",
      "g:\\my drive\\22-1\\머신러닝\\assignment 2\\venv\\lib\\site-packages\\plotly\\express\\_core.py:1101: PerformanceWarning: DataFrame is highly fragmented.  This is usually the result of calling `frame.insert` many times, which has poor performance.  Consider joining all columns at once using pd.concat(axis=1) instead. To get a de-fragmented frame, use `newframe = frame.copy()`\n",
      "  df_output[df_input.columns] = df_input[df_input.columns]\n",
      "g:\\my drive\\22-1\\머신러닝\\assignment 2\\venv\\lib\\site-packages\\plotly\\express\\_core.py:1101: PerformanceWarning: DataFrame is highly fragmented.  This is usually the result of calling `frame.insert` many times, which has poor performance.  Consider joining all columns at once using pd.concat(axis=1) instead. To get a de-fragmented frame, use `newframe = frame.copy()`\n",
      "  df_output[df_input.columns] = df_input[df_input.columns]\n",
      "g:\\my drive\\22-1\\머신러닝\\assignment 2\\venv\\lib\\site-packages\\plotly\\express\\_core.py:1101: PerformanceWarning: DataFrame is highly fragmented.  This is usually the result of calling `frame.insert` many times, which has poor performance.  Consider joining all columns at once using pd.concat(axis=1) instead. To get a de-fragmented frame, use `newframe = frame.copy()`\n",
      "  df_output[df_input.columns] = df_input[df_input.columns]\n",
      "g:\\my drive\\22-1\\머신러닝\\assignment 2\\venv\\lib\\site-packages\\plotly\\express\\_core.py:1101: PerformanceWarning: DataFrame is highly fragmented.  This is usually the result of calling `frame.insert` many times, which has poor performance.  Consider joining all columns at once using pd.concat(axis=1) instead. To get a de-fragmented frame, use `newframe = frame.copy()`\n",
      "  df_output[df_input.columns] = df_input[df_input.columns]\n",
      "g:\\my drive\\22-1\\머신러닝\\assignment 2\\venv\\lib\\site-packages\\plotly\\express\\_core.py:1101: PerformanceWarning: DataFrame is highly fragmented.  This is usually the result of calling `frame.insert` many times, which has poor performance.  Consider joining all columns at once using pd.concat(axis=1) instead. To get a de-fragmented frame, use `newframe = frame.copy()`\n",
      "  df_output[df_input.columns] = df_input[df_input.columns]\n",
      "g:\\my drive\\22-1\\머신러닝\\assignment 2\\venv\\lib\\site-packages\\plotly\\express\\_core.py:1101: PerformanceWarning: DataFrame is highly fragmented.  This is usually the result of calling `frame.insert` many times, which has poor performance.  Consider joining all columns at once using pd.concat(axis=1) instead. To get a de-fragmented frame, use `newframe = frame.copy()`\n",
      "  df_output[df_input.columns] = df_input[df_input.columns]\n",
      "g:\\my drive\\22-1\\머신러닝\\assignment 2\\venv\\lib\\site-packages\\plotly\\express\\_core.py:1101: PerformanceWarning: DataFrame is highly fragmented.  This is usually the result of calling `frame.insert` many times, which has poor performance.  Consider joining all columns at once using pd.concat(axis=1) instead. To get a de-fragmented frame, use `newframe = frame.copy()`\n",
      "  df_output[df_input.columns] = df_input[df_input.columns]\n",
      "g:\\my drive\\22-1\\머신러닝\\assignment 2\\venv\\lib\\site-packages\\plotly\\express\\_core.py:1101: PerformanceWarning: DataFrame is highly fragmented.  This is usually the result of calling `frame.insert` many times, which has poor performance.  Consider joining all columns at once using pd.concat(axis=1) instead. To get a de-fragmented frame, use `newframe = frame.copy()`\n",
      "  df_output[df_input.columns] = df_input[df_input.columns]\n",
      "g:\\my drive\\22-1\\머신러닝\\assignment 2\\venv\\lib\\site-packages\\plotly\\express\\_core.py:1101: PerformanceWarning: DataFrame is highly fragmented.  This is usually the result of calling `frame.insert` many times, which has poor performance.  Consider joining all columns at once using pd.concat(axis=1) instead. To get a de-fragmented frame, use `newframe = frame.copy()`\n",
      "  df_output[df_input.columns] = df_input[df_input.columns]\n",
      "g:\\my drive\\22-1\\머신러닝\\assignment 2\\venv\\lib\\site-packages\\plotly\\express\\_core.py:1101: PerformanceWarning: DataFrame is highly fragmented.  This is usually the result of calling `frame.insert` many times, which has poor performance.  Consider joining all columns at once using pd.concat(axis=1) instead. To get a de-fragmented frame, use `newframe = frame.copy()`\n",
      "  df_output[df_input.columns] = df_input[df_input.columns]\n",
      "g:\\my drive\\22-1\\머신러닝\\assignment 2\\venv\\lib\\site-packages\\plotly\\express\\_core.py:1101: PerformanceWarning: DataFrame is highly fragmented.  This is usually the result of calling `frame.insert` many times, which has poor performance.  Consider joining all columns at once using pd.concat(axis=1) instead. To get a de-fragmented frame, use `newframe = frame.copy()`\n",
      "  df_output[df_input.columns] = df_input[df_input.columns]\n",
      "g:\\my drive\\22-1\\머신러닝\\assignment 2\\venv\\lib\\site-packages\\plotly\\express\\_core.py:1101: PerformanceWarning: DataFrame is highly fragmented.  This is usually the result of calling `frame.insert` many times, which has poor performance.  Consider joining all columns at once using pd.concat(axis=1) instead. To get a de-fragmented frame, use `newframe = frame.copy()`\n",
      "  df_output[df_input.columns] = df_input[df_input.columns]\n",
      "g:\\my drive\\22-1\\머신러닝\\assignment 2\\venv\\lib\\site-packages\\plotly\\express\\_core.py:1101: PerformanceWarning: DataFrame is highly fragmented.  This is usually the result of calling `frame.insert` many times, which has poor performance.  Consider joining all columns at once using pd.concat(axis=1) instead. To get a de-fragmented frame, use `newframe = frame.copy()`\n",
      "  df_output[df_input.columns] = df_input[df_input.columns]\n",
      "g:\\my drive\\22-1\\머신러닝\\assignment 2\\venv\\lib\\site-packages\\plotly\\express\\_core.py:1101: PerformanceWarning: DataFrame is highly fragmented.  This is usually the result of calling `frame.insert` many times, which has poor performance.  Consider joining all columns at once using pd.concat(axis=1) instead. To get a de-fragmented frame, use `newframe = frame.copy()`\n",
      "  df_output[df_input.columns] = df_input[df_input.columns]\n",
      "g:\\my drive\\22-1\\머신러닝\\assignment 2\\venv\\lib\\site-packages\\plotly\\express\\_core.py:1101: PerformanceWarning: DataFrame is highly fragmented.  This is usually the result of calling `frame.insert` many times, which has poor performance.  Consider joining all columns at once using pd.concat(axis=1) instead. To get a de-fragmented frame, use `newframe = frame.copy()`\n",
      "  df_output[df_input.columns] = df_input[df_input.columns]\n",
      "g:\\my drive\\22-1\\머신러닝\\assignment 2\\venv\\lib\\site-packages\\plotly\\express\\_core.py:1101: PerformanceWarning: DataFrame is highly fragmented.  This is usually the result of calling `frame.insert` many times, which has poor performance.  Consider joining all columns at once using pd.concat(axis=1) instead. To get a de-fragmented frame, use `newframe = frame.copy()`\n",
      "  df_output[df_input.columns] = df_input[df_input.columns]\n",
      "g:\\my drive\\22-1\\머신러닝\\assignment 2\\venv\\lib\\site-packages\\plotly\\express\\_core.py:1101: PerformanceWarning: DataFrame is highly fragmented.  This is usually the result of calling `frame.insert` many times, which has poor performance.  Consider joining all columns at once using pd.concat(axis=1) instead. To get a de-fragmented frame, use `newframe = frame.copy()`\n",
      "  df_output[df_input.columns] = df_input[df_input.columns]\n",
      "g:\\my drive\\22-1\\머신러닝\\assignment 2\\venv\\lib\\site-packages\\plotly\\express\\_core.py:1101: PerformanceWarning: DataFrame is highly fragmented.  This is usually the result of calling `frame.insert` many times, which has poor performance.  Consider joining all columns at once using pd.concat(axis=1) instead. To get a de-fragmented frame, use `newframe = frame.copy()`\n",
      "  df_output[df_input.columns] = df_input[df_input.columns]\n",
      "g:\\my drive\\22-1\\머신러닝\\assignment 2\\venv\\lib\\site-packages\\plotly\\express\\_core.py:1101: PerformanceWarning: DataFrame is highly fragmented.  This is usually the result of calling `frame.insert` many times, which has poor performance.  Consider joining all columns at once using pd.concat(axis=1) instead. To get a de-fragmented frame, use `newframe = frame.copy()`\n",
      "  df_output[df_input.columns] = df_input[df_input.columns]\n",
      "g:\\my drive\\22-1\\머신러닝\\assignment 2\\venv\\lib\\site-packages\\plotly\\express\\_core.py:1101: PerformanceWarning: DataFrame is highly fragmented.  This is usually the result of calling `frame.insert` many times, which has poor performance.  Consider joining all columns at once using pd.concat(axis=1) instead. To get a de-fragmented frame, use `newframe = frame.copy()`\n",
      "  df_output[df_input.columns] = df_input[df_input.columns]\n",
      "g:\\my drive\\22-1\\머신러닝\\assignment 2\\venv\\lib\\site-packages\\plotly\\express\\_core.py:1101: PerformanceWarning: DataFrame is highly fragmented.  This is usually the result of calling `frame.insert` many times, which has poor performance.  Consider joining all columns at once using pd.concat(axis=1) instead. To get a de-fragmented frame, use `newframe = frame.copy()`\n",
      "  df_output[df_input.columns] = df_input[df_input.columns]\n",
      "g:\\my drive\\22-1\\머신러닝\\assignment 2\\venv\\lib\\site-packages\\plotly\\express\\_core.py:1101: PerformanceWarning: DataFrame is highly fragmented.  This is usually the result of calling `frame.insert` many times, which has poor performance.  Consider joining all columns at once using pd.concat(axis=1) instead. To get a de-fragmented frame, use `newframe = frame.copy()`\n",
      "  df_output[df_input.columns] = df_input[df_input.columns]\n",
      "g:\\my drive\\22-1\\머신러닝\\assignment 2\\venv\\lib\\site-packages\\plotly\\express\\_core.py:1101: PerformanceWarning: DataFrame is highly fragmented.  This is usually the result of calling `frame.insert` many times, which has poor performance.  Consider joining all columns at once using pd.concat(axis=1) instead. To get a de-fragmented frame, use `newframe = frame.copy()`\n",
      "  df_output[df_input.columns] = df_input[df_input.columns]\n",
      "g:\\my drive\\22-1\\머신러닝\\assignment 2\\venv\\lib\\site-packages\\plotly\\express\\_core.py:1101: PerformanceWarning: DataFrame is highly fragmented.  This is usually the result of calling `frame.insert` many times, which has poor performance.  Consider joining all columns at once using pd.concat(axis=1) instead. To get a de-fragmented frame, use `newframe = frame.copy()`\n",
      "  df_output[df_input.columns] = df_input[df_input.columns]\n",
      "g:\\my drive\\22-1\\머신러닝\\assignment 2\\venv\\lib\\site-packages\\plotly\\express\\_core.py:1101: PerformanceWarning: DataFrame is highly fragmented.  This is usually the result of calling `frame.insert` many times, which has poor performance.  Consider joining all columns at once using pd.concat(axis=1) instead. To get a de-fragmented frame, use `newframe = frame.copy()`\n",
      "  df_output[df_input.columns] = df_input[df_input.columns]\n",
      "g:\\my drive\\22-1\\머신러닝\\assignment 2\\venv\\lib\\site-packages\\plotly\\express\\_core.py:1101: PerformanceWarning: DataFrame is highly fragmented.  This is usually the result of calling `frame.insert` many times, which has poor performance.  Consider joining all columns at once using pd.concat(axis=1) instead. To get a de-fragmented frame, use `newframe = frame.copy()`\n",
      "  df_output[df_input.columns] = df_input[df_input.columns]\n",
      "g:\\my drive\\22-1\\머신러닝\\assignment 2\\venv\\lib\\site-packages\\plotly\\express\\_core.py:1101: PerformanceWarning: DataFrame is highly fragmented.  This is usually the result of calling `frame.insert` many times, which has poor performance.  Consider joining all columns at once using pd.concat(axis=1) instead. To get a de-fragmented frame, use `newframe = frame.copy()`\n",
      "  df_output[df_input.columns] = df_input[df_input.columns]\n",
      "g:\\my drive\\22-1\\머신러닝\\assignment 2\\venv\\lib\\site-packages\\plotly\\express\\_core.py:1101: PerformanceWarning: DataFrame is highly fragmented.  This is usually the result of calling `frame.insert` many times, which has poor performance.  Consider joining all columns at once using pd.concat(axis=1) instead. To get a de-fragmented frame, use `newframe = frame.copy()`\n",
      "  df_output[df_input.columns] = df_input[df_input.columns]\n",
      "g:\\my drive\\22-1\\머신러닝\\assignment 2\\venv\\lib\\site-packages\\plotly\\express\\_core.py:1101: PerformanceWarning: DataFrame is highly fragmented.  This is usually the result of calling `frame.insert` many times, which has poor performance.  Consider joining all columns at once using pd.concat(axis=1) instead. To get a de-fragmented frame, use `newframe = frame.copy()`\n",
      "  df_output[df_input.columns] = df_input[df_input.columns]\n",
      "g:\\my drive\\22-1\\머신러닝\\assignment 2\\venv\\lib\\site-packages\\plotly\\express\\_core.py:1101: PerformanceWarning: DataFrame is highly fragmented.  This is usually the result of calling `frame.insert` many times, which has poor performance.  Consider joining all columns at once using pd.concat(axis=1) instead. To get a de-fragmented frame, use `newframe = frame.copy()`\n",
      "  df_output[df_input.columns] = df_input[df_input.columns]\n",
      "g:\\my drive\\22-1\\머신러닝\\assignment 2\\venv\\lib\\site-packages\\plotly\\express\\_core.py:1101: PerformanceWarning: DataFrame is highly fragmented.  This is usually the result of calling `frame.insert` many times, which has poor performance.  Consider joining all columns at once using pd.concat(axis=1) instead. To get a de-fragmented frame, use `newframe = frame.copy()`\n",
      "  df_output[df_input.columns] = df_input[df_input.columns]\n",
      "g:\\my drive\\22-1\\머신러닝\\assignment 2\\venv\\lib\\site-packages\\plotly\\express\\_core.py:1101: PerformanceWarning: DataFrame is highly fragmented.  This is usually the result of calling `frame.insert` many times, which has poor performance.  Consider joining all columns at once using pd.concat(axis=1) instead. To get a de-fragmented frame, use `newframe = frame.copy()`\n",
      "  df_output[df_input.columns] = df_input[df_input.columns]\n",
      "g:\\my drive\\22-1\\머신러닝\\assignment 2\\venv\\lib\\site-packages\\plotly\\express\\_core.py:1101: PerformanceWarning: DataFrame is highly fragmented.  This is usually the result of calling `frame.insert` many times, which has poor performance.  Consider joining all columns at once using pd.concat(axis=1) instead. To get a de-fragmented frame, use `newframe = frame.copy()`\n",
      "  df_output[df_input.columns] = df_input[df_input.columns]\n",
      "g:\\my drive\\22-1\\머신러닝\\assignment 2\\venv\\lib\\site-packages\\plotly\\express\\_core.py:1101: PerformanceWarning: DataFrame is highly fragmented.  This is usually the result of calling `frame.insert` many times, which has poor performance.  Consider joining all columns at once using pd.concat(axis=1) instead. To get a de-fragmented frame, use `newframe = frame.copy()`\n",
      "  df_output[df_input.columns] = df_input[df_input.columns]\n",
      "g:\\my drive\\22-1\\머신러닝\\assignment 2\\venv\\lib\\site-packages\\plotly\\express\\_core.py:1101: PerformanceWarning: DataFrame is highly fragmented.  This is usually the result of calling `frame.insert` many times, which has poor performance.  Consider joining all columns at once using pd.concat(axis=1) instead. To get a de-fragmented frame, use `newframe = frame.copy()`\n",
      "  df_output[df_input.columns] = df_input[df_input.columns]\n",
      "g:\\my drive\\22-1\\머신러닝\\assignment 2\\venv\\lib\\site-packages\\plotly\\express\\_core.py:1101: PerformanceWarning: DataFrame is highly fragmented.  This is usually the result of calling `frame.insert` many times, which has poor performance.  Consider joining all columns at once using pd.concat(axis=1) instead. To get a de-fragmented frame, use `newframe = frame.copy()`\n",
      "  df_output[df_input.columns] = df_input[df_input.columns]\n",
      "g:\\my drive\\22-1\\머신러닝\\assignment 2\\venv\\lib\\site-packages\\plotly\\express\\_core.py:1101: PerformanceWarning: DataFrame is highly fragmented.  This is usually the result of calling `frame.insert` many times, which has poor performance.  Consider joining all columns at once using pd.concat(axis=1) instead. To get a de-fragmented frame, use `newframe = frame.copy()`\n",
      "  df_output[df_input.columns] = df_input[df_input.columns]\n",
      "g:\\my drive\\22-1\\머신러닝\\assignment 2\\venv\\lib\\site-packages\\plotly\\express\\_core.py:1101: PerformanceWarning: DataFrame is highly fragmented.  This is usually the result of calling `frame.insert` many times, which has poor performance.  Consider joining all columns at once using pd.concat(axis=1) instead. To get a de-fragmented frame, use `newframe = frame.copy()`\n",
      "  df_output[df_input.columns] = df_input[df_input.columns]\n",
      "g:\\my drive\\22-1\\머신러닝\\assignment 2\\venv\\lib\\site-packages\\plotly\\express\\_core.py:1101: PerformanceWarning: DataFrame is highly fragmented.  This is usually the result of calling `frame.insert` many times, which has poor performance.  Consider joining all columns at once using pd.concat(axis=1) instead. To get a de-fragmented frame, use `newframe = frame.copy()`\n",
      "  df_output[df_input.columns] = df_input[df_input.columns]\n",
      "g:\\my drive\\22-1\\머신러닝\\assignment 2\\venv\\lib\\site-packages\\plotly\\express\\_core.py:1101: PerformanceWarning: DataFrame is highly fragmented.  This is usually the result of calling `frame.insert` many times, which has poor performance.  Consider joining all columns at once using pd.concat(axis=1) instead. To get a de-fragmented frame, use `newframe = frame.copy()`\n",
      "  df_output[df_input.columns] = df_input[df_input.columns]\n",
      "g:\\my drive\\22-1\\머신러닝\\assignment 2\\venv\\lib\\site-packages\\plotly\\express\\_core.py:1101: PerformanceWarning: DataFrame is highly fragmented.  This is usually the result of calling `frame.insert` many times, which has poor performance.  Consider joining all columns at once using pd.concat(axis=1) instead. To get a de-fragmented frame, use `newframe = frame.copy()`\n",
      "  df_output[df_input.columns] = df_input[df_input.columns]\n",
      "g:\\my drive\\22-1\\머신러닝\\assignment 2\\venv\\lib\\site-packages\\plotly\\express\\_core.py:1101: PerformanceWarning: DataFrame is highly fragmented.  This is usually the result of calling `frame.insert` many times, which has poor performance.  Consider joining all columns at once using pd.concat(axis=1) instead. To get a de-fragmented frame, use `newframe = frame.copy()`\n",
      "  df_output[df_input.columns] = df_input[df_input.columns]\n",
      "g:\\my drive\\22-1\\머신러닝\\assignment 2\\venv\\lib\\site-packages\\plotly\\express\\_core.py:1101: PerformanceWarning: DataFrame is highly fragmented.  This is usually the result of calling `frame.insert` many times, which has poor performance.  Consider joining all columns at once using pd.concat(axis=1) instead. To get a de-fragmented frame, use `newframe = frame.copy()`\n",
      "  df_output[df_input.columns] = df_input[df_input.columns]\n",
      "g:\\my drive\\22-1\\머신러닝\\assignment 2\\venv\\lib\\site-packages\\plotly\\express\\_core.py:1101: PerformanceWarning: DataFrame is highly fragmented.  This is usually the result of calling `frame.insert` many times, which has poor performance.  Consider joining all columns at once using pd.concat(axis=1) instead. To get a de-fragmented frame, use `newframe = frame.copy()`\n",
      "  df_output[df_input.columns] = df_input[df_input.columns]\n",
      "g:\\my drive\\22-1\\머신러닝\\assignment 2\\venv\\lib\\site-packages\\plotly\\express\\_core.py:1101: PerformanceWarning: DataFrame is highly fragmented.  This is usually the result of calling `frame.insert` many times, which has poor performance.  Consider joining all columns at once using pd.concat(axis=1) instead. To get a de-fragmented frame, use `newframe = frame.copy()`\n",
      "  df_output[df_input.columns] = df_input[df_input.columns]\n",
      "g:\\my drive\\22-1\\머신러닝\\assignment 2\\venv\\lib\\site-packages\\plotly\\express\\_core.py:1101: PerformanceWarning: DataFrame is highly fragmented.  This is usually the result of calling `frame.insert` many times, which has poor performance.  Consider joining all columns at once using pd.concat(axis=1) instead. To get a de-fragmented frame, use `newframe = frame.copy()`\n",
      "  df_output[df_input.columns] = df_input[df_input.columns]\n",
      "g:\\my drive\\22-1\\머신러닝\\assignment 2\\venv\\lib\\site-packages\\plotly\\express\\_core.py:1101: PerformanceWarning: DataFrame is highly fragmented.  This is usually the result of calling `frame.insert` many times, which has poor performance.  Consider joining all columns at once using pd.concat(axis=1) instead. To get a de-fragmented frame, use `newframe = frame.copy()`\n",
      "  df_output[df_input.columns] = df_input[df_input.columns]\n",
      "g:\\my drive\\22-1\\머신러닝\\assignment 2\\venv\\lib\\site-packages\\plotly\\express\\_core.py:1101: PerformanceWarning: DataFrame is highly fragmented.  This is usually the result of calling `frame.insert` many times, which has poor performance.  Consider joining all columns at once using pd.concat(axis=1) instead. To get a de-fragmented frame, use `newframe = frame.copy()`\n",
      "  df_output[df_input.columns] = df_input[df_input.columns]\n",
      "g:\\my drive\\22-1\\머신러닝\\assignment 2\\venv\\lib\\site-packages\\plotly\\express\\_core.py:1101: PerformanceWarning: DataFrame is highly fragmented.  This is usually the result of calling `frame.insert` many times, which has poor performance.  Consider joining all columns at once using pd.concat(axis=1) instead. To get a de-fragmented frame, use `newframe = frame.copy()`\n",
      "  df_output[df_input.columns] = df_input[df_input.columns]\n",
      "g:\\my drive\\22-1\\머신러닝\\assignment 2\\venv\\lib\\site-packages\\plotly\\express\\_core.py:1101: PerformanceWarning: DataFrame is highly fragmented.  This is usually the result of calling `frame.insert` many times, which has poor performance.  Consider joining all columns at once using pd.concat(axis=1) instead. To get a de-fragmented frame, use `newframe = frame.copy()`\n",
      "  df_output[df_input.columns] = df_input[df_input.columns]\n",
      "g:\\my drive\\22-1\\머신러닝\\assignment 2\\venv\\lib\\site-packages\\plotly\\express\\_core.py:1101: PerformanceWarning: DataFrame is highly fragmented.  This is usually the result of calling `frame.insert` many times, which has poor performance.  Consider joining all columns at once using pd.concat(axis=1) instead. To get a de-fragmented frame, use `newframe = frame.copy()`\n",
      "  df_output[df_input.columns] = df_input[df_input.columns]\n",
      "g:\\my drive\\22-1\\머신러닝\\assignment 2\\venv\\lib\\site-packages\\plotly\\express\\_core.py:1101: PerformanceWarning: DataFrame is highly fragmented.  This is usually the result of calling `frame.insert` many times, which has poor performance.  Consider joining all columns at once using pd.concat(axis=1) instead. To get a de-fragmented frame, use `newframe = frame.copy()`\n",
      "  df_output[df_input.columns] = df_input[df_input.columns]\n",
      "g:\\my drive\\22-1\\머신러닝\\assignment 2\\venv\\lib\\site-packages\\plotly\\express\\_core.py:1101: PerformanceWarning: DataFrame is highly fragmented.  This is usually the result of calling `frame.insert` many times, which has poor performance.  Consider joining all columns at once using pd.concat(axis=1) instead. To get a de-fragmented frame, use `newframe = frame.copy()`\n",
      "  df_output[df_input.columns] = df_input[df_input.columns]\n",
      "g:\\my drive\\22-1\\머신러닝\\assignment 2\\venv\\lib\\site-packages\\plotly\\express\\_core.py:1101: PerformanceWarning: DataFrame is highly fragmented.  This is usually the result of calling `frame.insert` many times, which has poor performance.  Consider joining all columns at once using pd.concat(axis=1) instead. To get a de-fragmented frame, use `newframe = frame.copy()`\n",
      "  df_output[df_input.columns] = df_input[df_input.columns]\n",
      "g:\\my drive\\22-1\\머신러닝\\assignment 2\\venv\\lib\\site-packages\\plotly\\express\\_core.py:1101: PerformanceWarning: DataFrame is highly fragmented.  This is usually the result of calling `frame.insert` many times, which has poor performance.  Consider joining all columns at once using pd.concat(axis=1) instead. To get a de-fragmented frame, use `newframe = frame.copy()`\n",
      "  df_output[df_input.columns] = df_input[df_input.columns]\n",
      "g:\\my drive\\22-1\\머신러닝\\assignment 2\\venv\\lib\\site-packages\\plotly\\express\\_core.py:1101: PerformanceWarning: DataFrame is highly fragmented.  This is usually the result of calling `frame.insert` many times, which has poor performance.  Consider joining all columns at once using pd.concat(axis=1) instead. To get a de-fragmented frame, use `newframe = frame.copy()`\n",
      "  df_output[df_input.columns] = df_input[df_input.columns]\n",
      "g:\\my drive\\22-1\\머신러닝\\assignment 2\\venv\\lib\\site-packages\\plotly\\express\\_core.py:1101: PerformanceWarning: DataFrame is highly fragmented.  This is usually the result of calling `frame.insert` many times, which has poor performance.  Consider joining all columns at once using pd.concat(axis=1) instead. To get a de-fragmented frame, use `newframe = frame.copy()`\n",
      "  df_output[df_input.columns] = df_input[df_input.columns]\n",
      "g:\\my drive\\22-1\\머신러닝\\assignment 2\\venv\\lib\\site-packages\\plotly\\express\\_core.py:1101: PerformanceWarning: DataFrame is highly fragmented.  This is usually the result of calling `frame.insert` many times, which has poor performance.  Consider joining all columns at once using pd.concat(axis=1) instead. To get a de-fragmented frame, use `newframe = frame.copy()`\n",
      "  df_output[df_input.columns] = df_input[df_input.columns]\n",
      "g:\\my drive\\22-1\\머신러닝\\assignment 2\\venv\\lib\\site-packages\\plotly\\express\\_core.py:1101: PerformanceWarning: DataFrame is highly fragmented.  This is usually the result of calling `frame.insert` many times, which has poor performance.  Consider joining all columns at once using pd.concat(axis=1) instead. To get a de-fragmented frame, use `newframe = frame.copy()`\n",
      "  df_output[df_input.columns] = df_input[df_input.columns]\n",
      "g:\\my drive\\22-1\\머신러닝\\assignment 2\\venv\\lib\\site-packages\\plotly\\express\\_core.py:1101: PerformanceWarning: DataFrame is highly fragmented.  This is usually the result of calling `frame.insert` many times, which has poor performance.  Consider joining all columns at once using pd.concat(axis=1) instead. To get a de-fragmented frame, use `newframe = frame.copy()`\n",
      "  df_output[df_input.columns] = df_input[df_input.columns]\n",
      "g:\\my drive\\22-1\\머신러닝\\assignment 2\\venv\\lib\\site-packages\\plotly\\express\\_core.py:1101: PerformanceWarning: DataFrame is highly fragmented.  This is usually the result of calling `frame.insert` many times, which has poor performance.  Consider joining all columns at once using pd.concat(axis=1) instead. To get a de-fragmented frame, use `newframe = frame.copy()`\n",
      "  df_output[df_input.columns] = df_input[df_input.columns]\n",
      "g:\\my drive\\22-1\\머신러닝\\assignment 2\\venv\\lib\\site-packages\\plotly\\express\\_core.py:1101: PerformanceWarning: DataFrame is highly fragmented.  This is usually the result of calling `frame.insert` many times, which has poor performance.  Consider joining all columns at once using pd.concat(axis=1) instead. To get a de-fragmented frame, use `newframe = frame.copy()`\n",
      "  df_output[df_input.columns] = df_input[df_input.columns]\n",
      "g:\\my drive\\22-1\\머신러닝\\assignment 2\\venv\\lib\\site-packages\\plotly\\express\\_core.py:1101: PerformanceWarning: DataFrame is highly fragmented.  This is usually the result of calling `frame.insert` many times, which has poor performance.  Consider joining all columns at once using pd.concat(axis=1) instead. To get a de-fragmented frame, use `newframe = frame.copy()`\n",
      "  df_output[df_input.columns] = df_input[df_input.columns]\n",
      "g:\\my drive\\22-1\\머신러닝\\assignment 2\\venv\\lib\\site-packages\\plotly\\express\\_core.py:1101: PerformanceWarning: DataFrame is highly fragmented.  This is usually the result of calling `frame.insert` many times, which has poor performance.  Consider joining all columns at once using pd.concat(axis=1) instead. To get a de-fragmented frame, use `newframe = frame.copy()`\n",
      "  df_output[df_input.columns] = df_input[df_input.columns]\n",
      "g:\\my drive\\22-1\\머신러닝\\assignment 2\\venv\\lib\\site-packages\\plotly\\express\\_core.py:1101: PerformanceWarning: DataFrame is highly fragmented.  This is usually the result of calling `frame.insert` many times, which has poor performance.  Consider joining all columns at once using pd.concat(axis=1) instead. To get a de-fragmented frame, use `newframe = frame.copy()`\n",
      "  df_output[df_input.columns] = df_input[df_input.columns]\n",
      "g:\\my drive\\22-1\\머신러닝\\assignment 2\\venv\\lib\\site-packages\\plotly\\express\\_core.py:1101: PerformanceWarning: DataFrame is highly fragmented.  This is usually the result of calling `frame.insert` many times, which has poor performance.  Consider joining all columns at once using pd.concat(axis=1) instead. To get a de-fragmented frame, use `newframe = frame.copy()`\n",
      "  df_output[df_input.columns] = df_input[df_input.columns]\n",
      "g:\\my drive\\22-1\\머신러닝\\assignment 2\\venv\\lib\\site-packages\\plotly\\express\\_core.py:1101: PerformanceWarning: DataFrame is highly fragmented.  This is usually the result of calling `frame.insert` many times, which has poor performance.  Consider joining all columns at once using pd.concat(axis=1) instead. To get a de-fragmented frame, use `newframe = frame.copy()`\n",
      "  df_output[df_input.columns] = df_input[df_input.columns]\n",
      "g:\\my drive\\22-1\\머신러닝\\assignment 2\\venv\\lib\\site-packages\\plotly\\express\\_core.py:1101: PerformanceWarning: DataFrame is highly fragmented.  This is usually the result of calling `frame.insert` many times, which has poor performance.  Consider joining all columns at once using pd.concat(axis=1) instead. To get a de-fragmented frame, use `newframe = frame.copy()`\n",
      "  df_output[df_input.columns] = df_input[df_input.columns]\n",
      "g:\\my drive\\22-1\\머신러닝\\assignment 2\\venv\\lib\\site-packages\\plotly\\express\\_core.py:1101: PerformanceWarning: DataFrame is highly fragmented.  This is usually the result of calling `frame.insert` many times, which has poor performance.  Consider joining all columns at once using pd.concat(axis=1) instead. To get a de-fragmented frame, use `newframe = frame.copy()`\n",
      "  df_output[df_input.columns] = df_input[df_input.columns]\n",
      "g:\\my drive\\22-1\\머신러닝\\assignment 2\\venv\\lib\\site-packages\\plotly\\express\\_core.py:1101: PerformanceWarning: DataFrame is highly fragmented.  This is usually the result of calling `frame.insert` many times, which has poor performance.  Consider joining all columns at once using pd.concat(axis=1) instead. To get a de-fragmented frame, use `newframe = frame.copy()`\n",
      "  df_output[df_input.columns] = df_input[df_input.columns]\n"
     ]
    },
    {
     "ename": "ValueError",
     "evalue": "Value of 'color' is not the name of a column in 'data_frame'. Expected one of [0, 1, 2, 3, 4, 5, 6, 7, 8, 9, 10, 11, 12, 13, 14, 15, 16, 17, 18, 19, 20, 21, 22, 23, 24, 25, 26, 27, 28, 29, 30, 31, 32, 33, 34, 35, 36, 37, 38, 39, 40, 41, 42, 43, 44, 45, 46, 47, 48, 49, 50, 51, 52, 53, 54, 55, 56, 57, 58, 59, 60, 61, 62, 63, 64, 65, 66, 67, 68, 69, 70, 71, 72, 73, 74, 75, 76, 77, 78, 79, 80, 81, 82, 83, 84, 85, 86, 87, 88, 89, 90, 91, 92, 93, 94, 95, 96, 97, 98, 99, 100, 101, 102, 103, 104, 105, 106, 107, 108, 109, 110, 111, 112, 113, 114, 115, 116, 117, 118, 119, 120, 121, 122, 123, 124, 125, 126, 127, 128, 129, 130, 131, 132, 133, 134, 135, 136, 137, 138, 139, 140, 141, 142, 143, 144, 145, 146, 147, 148, 149, 150, 151, 152, 153, 154, 155, 156, 157, 158, 159, 160, 161, 162, 163, 164, 165, 166, 167, 168, 169, 170, 171, 172, 173, 174, 175, 176, 177, 178, 179, 180, 181, 182, 183, 184, 185, 186, 187, 188, 189, 190, 191, 192, 193, 194, 195, 196, 197, 198, 199, 200, 201, 202, 203, 204, 205, 206, 207, 208, 209, 210, 211, 212, 213, 214, 215, 216, 217, 218, 219, 220, 221, 222, 223, 224, 225, 226, 227, 228, 229, 230, 231, 232, 233, 234, 235, 236, 237, 238, 239, 240, 241, 242, 243, 244, 245, 246, 247, 248, 249, 250] but received: speices",
     "output_type": "error",
     "traceback": [
      "\u001B[1;31m---------------------------------------------------------------------------\u001B[0m",
      "\u001B[1;31mValueError\u001B[0m                                Traceback (most recent call last)",
      "Input \u001B[1;32mIn [100]\u001B[0m, in \u001B[0;36m<cell line: 1>\u001B[1;34m()\u001B[0m\n\u001B[1;32m----> 1\u001B[0m fig \u001B[38;5;241m=\u001B[39m \u001B[43mpx\u001B[49m\u001B[38;5;241;43m.\u001B[39;49m\u001B[43mscatter_matrix\u001B[49m\u001B[43m(\u001B[49m\n\u001B[0;32m      2\u001B[0m \u001B[43m    \u001B[49m\u001B[43mX_train\u001B[49m\u001B[43m,\u001B[49m\n\u001B[0;32m      3\u001B[0m \u001B[43m    \u001B[49m\u001B[43mcolor\u001B[49m\u001B[38;5;241;43m=\u001B[39;49m\u001B[38;5;124;43m\"\u001B[39;49m\u001B[38;5;124;43mspeices\u001B[39;49m\u001B[38;5;124;43m\"\u001B[39;49m\n\u001B[0;32m      4\u001B[0m \u001B[43m)\u001B[49m\n\u001B[0;32m      5\u001B[0m \u001B[38;5;66;03m#   Visualization\u001B[39;00m\n\u001B[0;32m      6\u001B[0m fig\u001B[38;5;241m.\u001B[39mupdate_traces(diagonal_visible\u001B[38;5;241m=\u001B[39m\u001B[38;5;28;01mFalse\u001B[39;00m)\n",
      "File \u001B[1;32mg:\\my drive\\22-1\\머신러닝\\assignment 2\\venv\\lib\\site-packages\\plotly\\express\\_chart_types.py:1389\u001B[0m, in \u001B[0;36mscatter_matrix\u001B[1;34m(data_frame, dimensions, color, symbol, size, hover_name, hover_data, custom_data, category_orders, labels, color_discrete_sequence, color_discrete_map, color_continuous_scale, range_color, color_continuous_midpoint, symbol_sequence, symbol_map, opacity, size_max, title, template, width, height)\u001B[0m\n\u001B[0;32m   1358\u001B[0m \u001B[38;5;28;01mdef\u001B[39;00m \u001B[38;5;21mscatter_matrix\u001B[39m(\n\u001B[0;32m   1359\u001B[0m     data_frame\u001B[38;5;241m=\u001B[39m\u001B[38;5;28;01mNone\u001B[39;00m,\n\u001B[0;32m   1360\u001B[0m     dimensions\u001B[38;5;241m=\u001B[39m\u001B[38;5;28;01mNone\u001B[39;00m,\n\u001B[1;32m   (...)\u001B[0m\n\u001B[0;32m   1381\u001B[0m     height\u001B[38;5;241m=\u001B[39m\u001B[38;5;28;01mNone\u001B[39;00m,\n\u001B[0;32m   1382\u001B[0m ):\n\u001B[0;32m   1383\u001B[0m     \u001B[38;5;124;03m\"\"\"\u001B[39;00m\n\u001B[0;32m   1384\u001B[0m \u001B[38;5;124;03m    In a scatter plot matrix (or SPLOM), each row of `data_frame` is\u001B[39;00m\n\u001B[0;32m   1385\u001B[0m \u001B[38;5;124;03m    represented by a multiple symbol marks, one in each cell of a grid of\u001B[39;00m\n\u001B[0;32m   1386\u001B[0m \u001B[38;5;124;03m    2D scatter plots, which plot each pair of `dimensions` against each\u001B[39;00m\n\u001B[0;32m   1387\u001B[0m \u001B[38;5;124;03m    other.\u001B[39;00m\n\u001B[0;32m   1388\u001B[0m \u001B[38;5;124;03m    \"\"\"\u001B[39;00m\n\u001B[1;32m-> 1389\u001B[0m     \u001B[38;5;28;01mreturn\u001B[39;00m \u001B[43mmake_figure\u001B[49m\u001B[43m(\u001B[49m\n\u001B[0;32m   1390\u001B[0m \u001B[43m        \u001B[49m\u001B[43margs\u001B[49m\u001B[38;5;241;43m=\u001B[39;49m\u001B[38;5;28;43mlocals\u001B[39;49m\u001B[43m(\u001B[49m\u001B[43m)\u001B[49m\u001B[43m,\u001B[49m\u001B[43m \u001B[49m\u001B[43mconstructor\u001B[49m\u001B[38;5;241;43m=\u001B[39;49m\u001B[43mgo\u001B[49m\u001B[38;5;241;43m.\u001B[39;49m\u001B[43mSplom\u001B[49m\u001B[43m,\u001B[49m\u001B[43m \u001B[49m\u001B[43mlayout_patch\u001B[49m\u001B[38;5;241;43m=\u001B[39;49m\u001B[38;5;28;43mdict\u001B[39;49m\u001B[43m(\u001B[49m\u001B[43mdragmode\u001B[49m\u001B[38;5;241;43m=\u001B[39;49m\u001B[38;5;124;43m\"\u001B[39;49m\u001B[38;5;124;43mselect\u001B[39;49m\u001B[38;5;124;43m\"\u001B[39;49m\u001B[43m)\u001B[49m\n\u001B[0;32m   1391\u001B[0m \u001B[43m    \u001B[49m\u001B[43m)\u001B[49m\n",
      "File \u001B[1;32mg:\\my drive\\22-1\\머신러닝\\assignment 2\\venv\\lib\\site-packages\\plotly\\express\\_core.py:1948\u001B[0m, in \u001B[0;36mmake_figure\u001B[1;34m(args, constructor, trace_patch, layout_patch)\u001B[0m\n\u001B[0;32m   1945\u001B[0m layout_patch \u001B[38;5;241m=\u001B[39m layout_patch \u001B[38;5;129;01mor\u001B[39;00m {}\n\u001B[0;32m   1946\u001B[0m apply_default_cascade(args)\n\u001B[1;32m-> 1948\u001B[0m args \u001B[38;5;241m=\u001B[39m \u001B[43mbuild_dataframe\u001B[49m\u001B[43m(\u001B[49m\u001B[43margs\u001B[49m\u001B[43m,\u001B[49m\u001B[43m \u001B[49m\u001B[43mconstructor\u001B[49m\u001B[43m)\u001B[49m\n\u001B[0;32m   1949\u001B[0m \u001B[38;5;28;01mif\u001B[39;00m constructor \u001B[38;5;129;01min\u001B[39;00m [go\u001B[38;5;241m.\u001B[39mTreemap, go\u001B[38;5;241m.\u001B[39mSunburst, go\u001B[38;5;241m.\u001B[39mIcicle] \u001B[38;5;129;01mand\u001B[39;00m args[\u001B[38;5;124m\"\u001B[39m\u001B[38;5;124mpath\u001B[39m\u001B[38;5;124m\"\u001B[39m] \u001B[38;5;129;01mis\u001B[39;00m \u001B[38;5;129;01mnot\u001B[39;00m \u001B[38;5;28;01mNone\u001B[39;00m:\n\u001B[0;32m   1950\u001B[0m     args \u001B[38;5;241m=\u001B[39m process_dataframe_hierarchy(args)\n",
      "File \u001B[1;32mg:\\my drive\\22-1\\머신러닝\\assignment 2\\venv\\lib\\site-packages\\plotly\\express\\_core.py:1405\u001B[0m, in \u001B[0;36mbuild_dataframe\u001B[1;34m(args, constructor)\u001B[0m\n\u001B[0;32m   1402\u001B[0m     args[\u001B[38;5;124m\"\u001B[39m\u001B[38;5;124mcolor\u001B[39m\u001B[38;5;124m\"\u001B[39m] \u001B[38;5;241m=\u001B[39m \u001B[38;5;28;01mNone\u001B[39;00m\n\u001B[0;32m   1403\u001B[0m \u001B[38;5;66;03m# now that things have been prepped, we do the systematic rewriting of `args`\u001B[39;00m\n\u001B[1;32m-> 1405\u001B[0m df_output, wide_id_vars \u001B[38;5;241m=\u001B[39m \u001B[43mprocess_args_into_dataframe\u001B[49m\u001B[43m(\u001B[49m\n\u001B[0;32m   1406\u001B[0m \u001B[43m    \u001B[49m\u001B[43margs\u001B[49m\u001B[43m,\u001B[49m\u001B[43m \u001B[49m\u001B[43mwide_mode\u001B[49m\u001B[43m,\u001B[49m\u001B[43m \u001B[49m\u001B[43mvar_name\u001B[49m\u001B[43m,\u001B[49m\u001B[43m \u001B[49m\u001B[43mvalue_name\u001B[49m\n\u001B[0;32m   1407\u001B[0m \u001B[43m\u001B[49m\u001B[43m)\u001B[49m\n\u001B[0;32m   1409\u001B[0m \u001B[38;5;66;03m# now that `df_output` exists and `args` contains only references, we complete\u001B[39;00m\n\u001B[0;32m   1410\u001B[0m \u001B[38;5;66;03m# the special-case and wide-mode handling by further rewriting args and/or mutating\u001B[39;00m\n\u001B[0;32m   1411\u001B[0m \u001B[38;5;66;03m# df_output\u001B[39;00m\n\u001B[0;32m   1413\u001B[0m count_name \u001B[38;5;241m=\u001B[39m _escape_col_name(df_output, \u001B[38;5;124m\"\u001B[39m\u001B[38;5;124mcount\u001B[39m\u001B[38;5;124m\"\u001B[39m, [var_name, value_name])\n",
      "File \u001B[1;32mg:\\my drive\\22-1\\머신러닝\\assignment 2\\venv\\lib\\site-packages\\plotly\\express\\_core.py:1207\u001B[0m, in \u001B[0;36mprocess_args_into_dataframe\u001B[1;34m(args, wide_mode, var_name, value_name)\u001B[0m\n\u001B[0;32m   1205\u001B[0m         \u001B[38;5;28;01mif\u001B[39;00m argument \u001B[38;5;241m==\u001B[39m \u001B[38;5;124m\"\u001B[39m\u001B[38;5;124mindex\u001B[39m\u001B[38;5;124m\"\u001B[39m:\n\u001B[0;32m   1206\u001B[0m             err_msg \u001B[38;5;241m+\u001B[39m\u001B[38;5;241m=\u001B[39m \u001B[38;5;124m\"\u001B[39m\u001B[38;5;130;01m\\n\u001B[39;00m\u001B[38;5;124m To use the index, pass it in directly as `df.index`.\u001B[39m\u001B[38;5;124m\"\u001B[39m\n\u001B[1;32m-> 1207\u001B[0m         \u001B[38;5;28;01mraise\u001B[39;00m \u001B[38;5;167;01mValueError\u001B[39;00m(err_msg)\n\u001B[0;32m   1208\u001B[0m \u001B[38;5;28;01melif\u001B[39;00m length \u001B[38;5;129;01mand\u001B[39;00m \u001B[38;5;28mlen\u001B[39m(df_input[argument]) \u001B[38;5;241m!=\u001B[39m length:\n\u001B[0;32m   1209\u001B[0m     \u001B[38;5;28;01mraise\u001B[39;00m \u001B[38;5;167;01mValueError\u001B[39;00m(\n\u001B[0;32m   1210\u001B[0m         \u001B[38;5;124m\"\u001B[39m\u001B[38;5;124mAll arguments should have the same length. \u001B[39m\u001B[38;5;124m\"\u001B[39m\n\u001B[0;32m   1211\u001B[0m         \u001B[38;5;124m\"\u001B[39m\u001B[38;5;124mThe length of column argument `df[\u001B[39m\u001B[38;5;132;01m%s\u001B[39;00m\u001B[38;5;124m]` is \u001B[39m\u001B[38;5;132;01m%d\u001B[39;00m\u001B[38;5;124m, whereas the \u001B[39m\u001B[38;5;124m\"\u001B[39m\n\u001B[1;32m   (...)\u001B[0m\n\u001B[0;32m   1218\u001B[0m         )\n\u001B[0;32m   1219\u001B[0m     )\n",
      "\u001B[1;31mValueError\u001B[0m: Value of 'color' is not the name of a column in 'data_frame'. Expected one of [0, 1, 2, 3, 4, 5, 6, 7, 8, 9, 10, 11, 12, 13, 14, 15, 16, 17, 18, 19, 20, 21, 22, 23, 24, 25, 26, 27, 28, 29, 30, 31, 32, 33, 34, 35, 36, 37, 38, 39, 40, 41, 42, 43, 44, 45, 46, 47, 48, 49, 50, 51, 52, 53, 54, 55, 56, 57, 58, 59, 60, 61, 62, 63, 64, 65, 66, 67, 68, 69, 70, 71, 72, 73, 74, 75, 76, 77, 78, 79, 80, 81, 82, 83, 84, 85, 86, 87, 88, 89, 90, 91, 92, 93, 94, 95, 96, 97, 98, 99, 100, 101, 102, 103, 104, 105, 106, 107, 108, 109, 110, 111, 112, 113, 114, 115, 116, 117, 118, 119, 120, 121, 122, 123, 124, 125, 126, 127, 128, 129, 130, 131, 132, 133, 134, 135, 136, 137, 138, 139, 140, 141, 142, 143, 144, 145, 146, 147, 148, 149, 150, 151, 152, 153, 154, 155, 156, 157, 158, 159, 160, 161, 162, 163, 164, 165, 166, 167, 168, 169, 170, 171, 172, 173, 174, 175, 176, 177, 178, 179, 180, 181, 182, 183, 184, 185, 186, 187, 188, 189, 190, 191, 192, 193, 194, 195, 196, 197, 198, 199, 200, 201, 202, 203, 204, 205, 206, 207, 208, 209, 210, 211, 212, 213, 214, 215, 216, 217, 218, 219, 220, 221, 222, 223, 224, 225, 226, 227, 228, 229, 230, 231, 232, 233, 234, 235, 236, 237, 238, 239, 240, 241, 242, 243, 244, 245, 246, 247, 248, 249, 250] but received: speices"
     ]
    }
   ],
   "source": [
    "fig = px.scatter_matrix(\n",
    "    X_train,\n",
    "    color=\"speices\"\n",
    ")\n",
    "#   Visualization\n",
    "fig.update_traces(diagonal_visible=False)\n",
    "fig.show()"
   ],
   "metadata": {
    "collapsed": false,
    "pycharm": {
     "name": "#%%\n"
    }
   }
  },
  {
   "cell_type": "code",
   "execution_count": 102,
   "outputs": [
    {
     "name": "stdout",
     "output_type": "stream",
     "text": [
      "156    0.262711\n",
      "173    0.266750\n",
      "108    0.270667\n",
      "182    0.274017\n",
      "199    0.278547\n",
      "170    0.278635\n",
      "164    0.280016\n",
      "1      0.281459\n",
      "55     0.284609\n",
      "198    0.284659\n",
      "195    0.286714\n",
      "174    0.287124\n",
      "114    0.288298\n",
      "166    0.288826\n",
      "214    0.289270\n",
      "12     0.290804\n",
      "49     0.291023\n",
      "62     0.291211\n",
      "71     0.291440\n",
      "14     0.291895\n",
      "159    0.293351\n",
      "161    0.293481\n",
      "221    0.293543\n",
      "60     0.296277\n",
      "46     0.296592\n",
      "205    0.296737\n",
      "125    0.296856\n",
      "176    0.297596\n",
      "57     0.297733\n",
      "204    0.298083\n",
      "98     0.298237\n",
      "54     0.299042\n",
      "67     0.299208\n",
      "147    0.299215\n",
      "73     0.300780\n",
      "184    0.300839\n",
      "107    0.301343\n",
      "131    0.301426\n",
      "248    0.301649\n",
      "247    0.302814\n",
      "110    0.303229\n",
      "8      0.303834\n",
      "240    0.305087\n",
      "35     0.305249\n",
      "47     0.305436\n",
      "99     0.305712\n",
      "97     0.306294\n",
      "210    0.306481\n",
      "39     0.306559\n",
      "4      0.307656\n",
      "Name: 0, dtype: float64\n",
      "61     0.859434\n",
      "10     0.635607\n",
      "190    0.634734\n",
      "241    0.593198\n",
      "63     0.569747\n",
      "5      0.568945\n",
      "111    0.532953\n",
      "79     0.517279\n",
      "211    0.508033\n",
      "229    0.507439\n",
      "126    0.499066\n",
      "123    0.497333\n",
      "177    0.493118\n",
      "122    0.493073\n",
      "129    0.485891\n",
      "222    0.484369\n",
      "225    0.480338\n",
      "169    0.471907\n",
      "239    0.466731\n",
      "171    0.460302\n",
      "81     0.457053\n",
      "120    0.456492\n",
      "75     0.455099\n",
      "31     0.455085\n",
      "127    0.454423\n",
      "101    0.452779\n",
      "181    0.450312\n",
      "137    0.445106\n",
      "227    0.444648\n",
      "93     0.444641\n",
      "226    0.438369\n",
      "232    0.436464\n",
      "17     0.432587\n",
      "58     0.431589\n",
      "188    0.431431\n",
      "15     0.430693\n",
      "113    0.424624\n",
      "117    0.424404\n",
      "21     0.419925\n",
      "34     0.418677\n",
      "245    0.417698\n",
      "249    0.416866\n",
      "96     0.413971\n",
      "209    0.413358\n",
      "88     0.410057\n",
      "234    0.408047\n",
      "183    0.406915\n",
      "44     0.403507\n",
      "116    0.402791\n",
      "219    0.399647\n",
      "Name: 0, dtype: float64\n"
     ]
    }
   ],
   "source": [
    "\n",
    "\n",
    "# Finding Variance\n",
    "\n",
    "df_var= pd.DataFrame(X_train.var())\n",
    "print(df_var[0].nsmallest(n=50))\n",
    "print(df_var[0].nlargest(n=50))\n",
    "\n"
   ],
   "metadata": {
    "collapsed": false,
    "pycharm": {
     "name": "#%%\n"
    }
   }
  },
  {
   "cell_type": "code",
   "execution_count": 113,
   "outputs": [
    {
     "data": {
      "application/vnd.plotly.v1+json": {
       "data": [
        {
         "fillpattern": {
          "shape": ""
         },
         "hovertemplate": "# Components=%{x}<br>Proportion of Explained Variance=%{y}<extra></extra>",
         "legendgroup": "",
         "line": {
          "color": "#636efa"
         },
         "marker": {
          "symbol": "circle"
         },
         "mode": "lines",
         "name": "",
         "orientation": "v",
         "showlegend": false,
         "stackgroup": "1",
         "x": [
          1,
          2,
          3,
          4,
          5,
          6,
          7,
          8,
          9,
          10,
          11,
          12,
          13,
          14,
          15,
          16,
          17,
          18,
          19,
          20,
          21,
          22,
          23,
          24,
          25,
          26,
          27,
          28,
          29,
          30,
          31,
          32,
          33,
          34,
          35,
          36,
          37,
          38,
          39,
          40,
          41,
          42,
          43,
          44,
          45,
          46,
          47,
          48,
          49,
          50,
          51,
          52,
          53,
          54,
          55,
          56,
          57,
          58,
          59,
          60,
          61,
          62,
          63,
          64,
          65,
          66,
          67,
          68,
          69,
          70,
          71,
          72,
          73,
          74,
          75,
          76,
          77,
          78,
          79,
          80,
          81,
          82,
          83,
          84,
          85,
          86,
          87,
          88,
          89,
          90,
          91,
          92,
          93,
          94,
          95,
          96,
          97,
          98,
          99,
          100,
          101,
          102,
          103,
          104,
          105,
          106,
          107,
          108,
          109,
          110,
          111,
          112,
          113,
          114,
          115,
          116,
          117,
          118,
          119,
          120,
          121,
          122,
          123,
          124,
          125,
          126,
          127,
          128,
          129,
          130,
          131,
          132,
          133,
          134,
          135,
          136,
          137,
          138,
          139,
          140,
          141,
          142,
          143,
          144,
          145,
          146,
          147,
          148,
          149,
          150,
          151,
          152,
          153,
          154,
          155,
          156,
          157,
          158,
          159,
          160,
          161,
          162,
          163,
          164,
          165,
          166,
          167,
          168,
          169,
          170,
          171,
          172,
          173,
          174,
          175,
          176,
          177,
          178,
          179,
          180,
          181,
          182,
          183,
          184,
          185,
          186,
          187,
          188,
          189,
          190,
          191,
          192,
          193,
          194,
          195,
          196,
          197,
          198,
          199,
          200,
          201,
          202,
          203,
          204,
          205,
          206,
          207,
          208,
          209,
          210,
          211,
          212,
          213,
          214,
          215,
          216,
          217,
          218,
          219,
          220,
          221,
          222,
          223,
          224,
          225,
          226,
          227,
          228,
          229,
          230,
          231,
          232,
          233,
          234,
          235,
          236,
          237,
          238,
          239,
          240,
          241,
          242,
          243,
          244,
          245,
          246,
          247,
          248,
          249,
          250,
          251
         ],
         "xaxis": "x",
         "y": [
          0.3311107984767556,
          0.13866551987326628,
          0.006086559037631891,
          0.005961290845608805,
          0.005816319322599158,
          0.005645326947479762,
          0.0053949577804945584,
          0.005271514476533597,
          0.00519734454632466,
          0.004966752023173172,
          0.0049063594050542956,
          0.004850127954524635,
          0.004761178161447584,
          0.004723071939327053,
          0.004576011075436332,
          0.004513620587588077,
          0.004448675620617285,
          0.004386113213501286,
          0.004375301122531803,
          0.004264897840037408,
          0.004182208442901198,
          0.004168629079084307,
          0.004167778677845448,
          0.004095078086574878,
          0.0040420535807326585,
          0.004023887105613428,
          0.003955088084896671,
          0.003908713429293277,
          0.0038988305554137946,
          0.0038363677789838256,
          0.0038045108208416556,
          0.003753779109081675,
          0.0037468868103456942,
          0.003706159677706588,
          0.0036860927446463365,
          0.0036805986933747055,
          0.0036116064634179853,
          0.0035996493248672064,
          0.003569659437846953,
          0.0035377655662504532,
          0.003518491682919829,
          0.003509210479466296,
          0.0034660612289465404,
          0.0034438089143472646,
          0.003423663324340931,
          0.0033843660144753217,
          0.003338648379821671,
          0.0033166135501839487,
          0.003304924059565192,
          0.0032565878189548736,
          0.0032273543667067045,
          0.0031945612395391596,
          0.0031678918040583728,
          0.0031360014497707482,
          0.003133038230582183,
          0.003109237868570973,
          0.0030779825745584056,
          0.0030679043942882854,
          0.0030608527245509242,
          0.003053779706526923,
          0.0030119223151258284,
          0.002982344887433213,
          0.0029675181022855704,
          0.0029283641353844854,
          0.0028891948179815825,
          0.0028874936366422945,
          0.002861220655193378,
          0.00282850404034938,
          0.002808819749964167,
          0.0027911462156711667,
          0.0027746472524777513,
          0.002763815508730277,
          0.0027553831252016218,
          0.002734810101134739,
          0.002721497714984807,
          0.0027002947101498706,
          0.0026774615992038817,
          0.002642142780503141,
          0.0026254724704357635,
          0.0026142773184002037,
          0.0025911420408037122,
          0.002583506011522378,
          0.0025722002039293406,
          0.002556827202494934,
          0.002531108348900342,
          0.002516863083981805,
          0.002494565266676465,
          0.002482401444612166,
          0.0024483390557921976,
          0.0024331119391048837,
          0.002416995992954515,
          0.002399293113984921,
          0.002364185567201317,
          0.002350286539212418,
          0.002336257199642917,
          0.0023254487667134496,
          0.0023089903637180486,
          0.0022874247126075057,
          0.0022816376127690273,
          0.0022615900981590186,
          0.0022582297745595554,
          0.0022171187835561138,
          0.0022128190431694407,
          0.0021826104198636558,
          0.0021715466787836815,
          0.0021546816378575943,
          0.00213559704680127,
          0.002127741771284277,
          0.0021198465730344397,
          0.002101815344693377,
          0.002091386008418129,
          0.002080198411942075,
          0.002056502210463127,
          0.0020326915717404745,
          0.0020252485672353753,
          0.002005533901185676,
          0.0020041337592889953,
          0.0019844908334803544,
          0.001957532219602057,
          0.0019476970956037848,
          0.0019377520149923598,
          0.0019205826328115938,
          0.0019161188909457875,
          0.0019062056246736821,
          0.00188341080593986,
          0.001876482504352858,
          0.0018511646037630402,
          0.0018328632990922617,
          0.0018094102501247458,
          0.0017883467607035528,
          0.0017746091255497615,
          0.0017707425789168067,
          0.0017623346550842231,
          0.0017447322220529413,
          0.0017304125719035664,
          0.0017180822337911927,
          0.0017026924178564344,
          0.0016897431058502427,
          0.001678595677656292,
          0.0016634964911949684,
          0.0016570989561327065,
          0.0016408900787264606,
          0.001623856027012536,
          0.0016041551297111896,
          0.0015950759949976193,
          0.0015869664688874486,
          0.0015717192534617857,
          0.0015623006862582481,
          0.0015421172429202648,
          0.001536164128693623,
          0.0015286881721637171,
          0.0015049075680462817,
          0.001492756339270026,
          0.0014827501997638798,
          0.0014720603495001424,
          0.001459131958840654,
          0.0014429901788128733,
          0.0014378806234228046,
          0.0014318919366928151,
          0.001424790945575049,
          0.0014119402182080024,
          0.0013963859143826319,
          0.001392471753894758,
          0.001375894790021471,
          0.0013647463335897635,
          0.001353553583065005,
          0.0013315615983696303,
          0.001325072715237012,
          0.0013109483931681846,
          0.0012996523384641043,
          0.0012898680901966132,
          0.0012794065709970583,
          0.0012764547036377034,
          0.001269020613496707,
          0.0012581374274101226,
          0.0012419983811194975,
          0.001230761737151001,
          0.001222948588873352,
          0.001218276360694213,
          0.001204859887504284,
          0.0011970635615807478,
          0.0011861312838629921,
          0.0011676897878838016,
          0.0011564199311858221,
          0.0011419384431213626,
          0.0011308602483339528,
          0.001116100574891791,
          0.001112421109790509,
          0.0011024324864020456,
          0.0010976039961813307,
          0.0010881678625964486,
          0.001081817850208813,
          0.0010754255895508039,
          0.0010600543009347848,
          0.0010560435655384262,
          0.0010413612412429026,
          0.00102351204586444,
          0.0010204861836606057,
          0.0010044903718707259,
          9.983366281960053E-4,
          9.903063478961473E-4,
          9.820811724143988E-4,
          9.690128690276505E-4,
          9.584995733041793E-4,
          9.524731239606226E-4,
          9.486516475832485E-4,
          9.15813879627763E-4,
          9.063228833569891E-4,
          9.023072708332663E-4,
          8.852294994880827E-4,
          8.816926198767055E-4,
          8.729911671989784E-4,
          8.642780778134703E-4,
          8.581373033984942E-4,
          8.526736677544658E-4,
          8.259258910755213E-4,
          8.230491323987284E-4,
          8.137750875763242E-4,
          8.004435792427468E-4,
          7.957609322771186E-4,
          7.787526605198307E-4,
          7.75373834870839E-4,
          7.626246428481412E-4,
          7.451325500057531E-4,
          7.390545429515852E-4,
          7.229552660284698E-4,
          7.13142158297285E-4,
          6.990999046806485E-4,
          6.939212346496781E-4,
          6.80172738527856E-4,
          6.738935121593525E-4,
          6.632913894860359E-4,
          6.610358028716421E-4,
          6.566196703030692E-4,
          6.350866737780313E-4,
          6.334372922993435E-4,
          6.202845503062365E-4,
          6.104008548566473E-4,
          5.89210802306887E-4,
          5.85372073636942E-4,
          5.731256234487092E-4,
          5.654987431168066E-4,
          5.530371757442535E-4,
          5.42309494627575E-4,
          5.247120680690908E-4,
          5.19000377692916E-4,
          5.080828463810024E-4,
          4.941073700984624E-4,
          4.591099966688073E-4,
          4.492831099758764E-4,
          4.411666577370065E-4
         ],
         "yaxis": "y",
         "type": "scatter"
        }
       ],
       "layout": {
        "template": {
         "data": {
          "histogram2dcontour": [
           {
            "type": "histogram2dcontour",
            "colorbar": {
             "outlinewidth": 0,
             "ticks": ""
            },
            "colorscale": [
             [
              0.0,
              "#0d0887"
             ],
             [
              0.1111111111111111,
              "#46039f"
             ],
             [
              0.2222222222222222,
              "#7201a8"
             ],
             [
              0.3333333333333333,
              "#9c179e"
             ],
             [
              0.4444444444444444,
              "#bd3786"
             ],
             [
              0.5555555555555556,
              "#d8576b"
             ],
             [
              0.6666666666666666,
              "#ed7953"
             ],
             [
              0.7777777777777778,
              "#fb9f3a"
             ],
             [
              0.8888888888888888,
              "#fdca26"
             ],
             [
              1.0,
              "#f0f921"
             ]
            ]
           }
          ],
          "choropleth": [
           {
            "type": "choropleth",
            "colorbar": {
             "outlinewidth": 0,
             "ticks": ""
            }
           }
          ],
          "histogram2d": [
           {
            "type": "histogram2d",
            "colorbar": {
             "outlinewidth": 0,
             "ticks": ""
            },
            "colorscale": [
             [
              0.0,
              "#0d0887"
             ],
             [
              0.1111111111111111,
              "#46039f"
             ],
             [
              0.2222222222222222,
              "#7201a8"
             ],
             [
              0.3333333333333333,
              "#9c179e"
             ],
             [
              0.4444444444444444,
              "#bd3786"
             ],
             [
              0.5555555555555556,
              "#d8576b"
             ],
             [
              0.6666666666666666,
              "#ed7953"
             ],
             [
              0.7777777777777778,
              "#fb9f3a"
             ],
             [
              0.8888888888888888,
              "#fdca26"
             ],
             [
              1.0,
              "#f0f921"
             ]
            ]
           }
          ],
          "heatmap": [
           {
            "type": "heatmap",
            "colorbar": {
             "outlinewidth": 0,
             "ticks": ""
            },
            "colorscale": [
             [
              0.0,
              "#0d0887"
             ],
             [
              0.1111111111111111,
              "#46039f"
             ],
             [
              0.2222222222222222,
              "#7201a8"
             ],
             [
              0.3333333333333333,
              "#9c179e"
             ],
             [
              0.4444444444444444,
              "#bd3786"
             ],
             [
              0.5555555555555556,
              "#d8576b"
             ],
             [
              0.6666666666666666,
              "#ed7953"
             ],
             [
              0.7777777777777778,
              "#fb9f3a"
             ],
             [
              0.8888888888888888,
              "#fdca26"
             ],
             [
              1.0,
              "#f0f921"
             ]
            ]
           }
          ],
          "heatmapgl": [
           {
            "type": "heatmapgl",
            "colorbar": {
             "outlinewidth": 0,
             "ticks": ""
            },
            "colorscale": [
             [
              0.0,
              "#0d0887"
             ],
             [
              0.1111111111111111,
              "#46039f"
             ],
             [
              0.2222222222222222,
              "#7201a8"
             ],
             [
              0.3333333333333333,
              "#9c179e"
             ],
             [
              0.4444444444444444,
              "#bd3786"
             ],
             [
              0.5555555555555556,
              "#d8576b"
             ],
             [
              0.6666666666666666,
              "#ed7953"
             ],
             [
              0.7777777777777778,
              "#fb9f3a"
             ],
             [
              0.8888888888888888,
              "#fdca26"
             ],
             [
              1.0,
              "#f0f921"
             ]
            ]
           }
          ],
          "contourcarpet": [
           {
            "type": "contourcarpet",
            "colorbar": {
             "outlinewidth": 0,
             "ticks": ""
            }
           }
          ],
          "contour": [
           {
            "type": "contour",
            "colorbar": {
             "outlinewidth": 0,
             "ticks": ""
            },
            "colorscale": [
             [
              0.0,
              "#0d0887"
             ],
             [
              0.1111111111111111,
              "#46039f"
             ],
             [
              0.2222222222222222,
              "#7201a8"
             ],
             [
              0.3333333333333333,
              "#9c179e"
             ],
             [
              0.4444444444444444,
              "#bd3786"
             ],
             [
              0.5555555555555556,
              "#d8576b"
             ],
             [
              0.6666666666666666,
              "#ed7953"
             ],
             [
              0.7777777777777778,
              "#fb9f3a"
             ],
             [
              0.8888888888888888,
              "#fdca26"
             ],
             [
              1.0,
              "#f0f921"
             ]
            ]
           }
          ],
          "surface": [
           {
            "type": "surface",
            "colorbar": {
             "outlinewidth": 0,
             "ticks": ""
            },
            "colorscale": [
             [
              0.0,
              "#0d0887"
             ],
             [
              0.1111111111111111,
              "#46039f"
             ],
             [
              0.2222222222222222,
              "#7201a8"
             ],
             [
              0.3333333333333333,
              "#9c179e"
             ],
             [
              0.4444444444444444,
              "#bd3786"
             ],
             [
              0.5555555555555556,
              "#d8576b"
             ],
             [
              0.6666666666666666,
              "#ed7953"
             ],
             [
              0.7777777777777778,
              "#fb9f3a"
             ],
             [
              0.8888888888888888,
              "#fdca26"
             ],
             [
              1.0,
              "#f0f921"
             ]
            ]
           }
          ],
          "mesh3d": [
           {
            "type": "mesh3d",
            "colorbar": {
             "outlinewidth": 0,
             "ticks": ""
            }
           }
          ],
          "scatter": [
           {
            "fillpattern": {
             "fillmode": "overlay",
             "size": 10,
             "solidity": 0.2
            },
            "type": "scatter"
           }
          ],
          "parcoords": [
           {
            "type": "parcoords",
            "line": {
             "colorbar": {
              "outlinewidth": 0,
              "ticks": ""
             }
            }
           }
          ],
          "scatterpolargl": [
           {
            "type": "scatterpolargl",
            "marker": {
             "colorbar": {
              "outlinewidth": 0,
              "ticks": ""
             }
            }
           }
          ],
          "bar": [
           {
            "error_x": {
             "color": "#2a3f5f"
            },
            "error_y": {
             "color": "#2a3f5f"
            },
            "marker": {
             "line": {
              "color": "#E5ECF6",
              "width": 0.5
             },
             "pattern": {
              "fillmode": "overlay",
              "size": 10,
              "solidity": 0.2
             }
            },
            "type": "bar"
           }
          ],
          "scattergeo": [
           {
            "type": "scattergeo",
            "marker": {
             "colorbar": {
              "outlinewidth": 0,
              "ticks": ""
             }
            }
           }
          ],
          "scatterpolar": [
           {
            "type": "scatterpolar",
            "marker": {
             "colorbar": {
              "outlinewidth": 0,
              "ticks": ""
             }
            }
           }
          ],
          "histogram": [
           {
            "marker": {
             "pattern": {
              "fillmode": "overlay",
              "size": 10,
              "solidity": 0.2
             }
            },
            "type": "histogram"
           }
          ],
          "scattergl": [
           {
            "type": "scattergl",
            "marker": {
             "colorbar": {
              "outlinewidth": 0,
              "ticks": ""
             }
            }
           }
          ],
          "scatter3d": [
           {
            "type": "scatter3d",
            "line": {
             "colorbar": {
              "outlinewidth": 0,
              "ticks": ""
             }
            },
            "marker": {
             "colorbar": {
              "outlinewidth": 0,
              "ticks": ""
             }
            }
           }
          ],
          "scattermapbox": [
           {
            "type": "scattermapbox",
            "marker": {
             "colorbar": {
              "outlinewidth": 0,
              "ticks": ""
             }
            }
           }
          ],
          "scatterternary": [
           {
            "type": "scatterternary",
            "marker": {
             "colorbar": {
              "outlinewidth": 0,
              "ticks": ""
             }
            }
           }
          ],
          "scattercarpet": [
           {
            "type": "scattercarpet",
            "marker": {
             "colorbar": {
              "outlinewidth": 0,
              "ticks": ""
             }
            }
           }
          ],
          "carpet": [
           {
            "aaxis": {
             "endlinecolor": "#2a3f5f",
             "gridcolor": "white",
             "linecolor": "white",
             "minorgridcolor": "white",
             "startlinecolor": "#2a3f5f"
            },
            "baxis": {
             "endlinecolor": "#2a3f5f",
             "gridcolor": "white",
             "linecolor": "white",
             "minorgridcolor": "white",
             "startlinecolor": "#2a3f5f"
            },
            "type": "carpet"
           }
          ],
          "table": [
           {
            "cells": {
             "fill": {
              "color": "#EBF0F8"
             },
             "line": {
              "color": "white"
             }
            },
            "header": {
             "fill": {
              "color": "#C8D4E3"
             },
             "line": {
              "color": "white"
             }
            },
            "type": "table"
           }
          ],
          "barpolar": [
           {
            "marker": {
             "line": {
              "color": "#E5ECF6",
              "width": 0.5
             },
             "pattern": {
              "fillmode": "overlay",
              "size": 10,
              "solidity": 0.2
             }
            },
            "type": "barpolar"
           }
          ],
          "pie": [
           {
            "automargin": true,
            "type": "pie"
           }
          ]
         },
         "layout": {
          "autotypenumbers": "strict",
          "colorway": [
           "#636efa",
           "#EF553B",
           "#00cc96",
           "#ab63fa",
           "#FFA15A",
           "#19d3f3",
           "#FF6692",
           "#B6E880",
           "#FF97FF",
           "#FECB52"
          ],
          "font": {
           "color": "#2a3f5f"
          },
          "hovermode": "closest",
          "hoverlabel": {
           "align": "left"
          },
          "paper_bgcolor": "white",
          "plot_bgcolor": "#E5ECF6",
          "polar": {
           "bgcolor": "#E5ECF6",
           "angularaxis": {
            "gridcolor": "white",
            "linecolor": "white",
            "ticks": ""
           },
           "radialaxis": {
            "gridcolor": "white",
            "linecolor": "white",
            "ticks": ""
           }
          },
          "ternary": {
           "bgcolor": "#E5ECF6",
           "aaxis": {
            "gridcolor": "white",
            "linecolor": "white",
            "ticks": ""
           },
           "baxis": {
            "gridcolor": "white",
            "linecolor": "white",
            "ticks": ""
           },
           "caxis": {
            "gridcolor": "white",
            "linecolor": "white",
            "ticks": ""
           }
          },
          "coloraxis": {
           "colorbar": {
            "outlinewidth": 0,
            "ticks": ""
           }
          },
          "colorscale": {
           "sequential": [
            [
             0.0,
             "#0d0887"
            ],
            [
             0.1111111111111111,
             "#46039f"
            ],
            [
             0.2222222222222222,
             "#7201a8"
            ],
            [
             0.3333333333333333,
             "#9c179e"
            ],
            [
             0.4444444444444444,
             "#bd3786"
            ],
            [
             0.5555555555555556,
             "#d8576b"
            ],
            [
             0.6666666666666666,
             "#ed7953"
            ],
            [
             0.7777777777777778,
             "#fb9f3a"
            ],
            [
             0.8888888888888888,
             "#fdca26"
            ],
            [
             1.0,
             "#f0f921"
            ]
           ],
           "sequentialminus": [
            [
             0.0,
             "#0d0887"
            ],
            [
             0.1111111111111111,
             "#46039f"
            ],
            [
             0.2222222222222222,
             "#7201a8"
            ],
            [
             0.3333333333333333,
             "#9c179e"
            ],
            [
             0.4444444444444444,
             "#bd3786"
            ],
            [
             0.5555555555555556,
             "#d8576b"
            ],
            [
             0.6666666666666666,
             "#ed7953"
            ],
            [
             0.7777777777777778,
             "#fb9f3a"
            ],
            [
             0.8888888888888888,
             "#fdca26"
            ],
            [
             1.0,
             "#f0f921"
            ]
           ],
           "diverging": [
            [
             0,
             "#8e0152"
            ],
            [
             0.1,
             "#c51b7d"
            ],
            [
             0.2,
             "#de77ae"
            ],
            [
             0.3,
             "#f1b6da"
            ],
            [
             0.4,
             "#fde0ef"
            ],
            [
             0.5,
             "#f7f7f7"
            ],
            [
             0.6,
             "#e6f5d0"
            ],
            [
             0.7,
             "#b8e186"
            ],
            [
             0.8,
             "#7fbc41"
            ],
            [
             0.9,
             "#4d9221"
            ],
            [
             1,
             "#276419"
            ]
           ]
          },
          "xaxis": {
           "gridcolor": "white",
           "linecolor": "white",
           "ticks": "",
           "title": {
            "standoff": 15
           },
           "zerolinecolor": "white",
           "automargin": true,
           "zerolinewidth": 2
          },
          "yaxis": {
           "gridcolor": "white",
           "linecolor": "white",
           "ticks": "",
           "title": {
            "standoff": 15
           },
           "zerolinecolor": "white",
           "automargin": true,
           "zerolinewidth": 2
          },
          "scene": {
           "xaxis": {
            "backgroundcolor": "#E5ECF6",
            "gridcolor": "white",
            "linecolor": "white",
            "showbackground": true,
            "ticks": "",
            "zerolinecolor": "white",
            "gridwidth": 2
           },
           "yaxis": {
            "backgroundcolor": "#E5ECF6",
            "gridcolor": "white",
            "linecolor": "white",
            "showbackground": true,
            "ticks": "",
            "zerolinecolor": "white",
            "gridwidth": 2
           },
           "zaxis": {
            "backgroundcolor": "#E5ECF6",
            "gridcolor": "white",
            "linecolor": "white",
            "showbackground": true,
            "ticks": "",
            "zerolinecolor": "white",
            "gridwidth": 2
           }
          },
          "shapedefaults": {
           "line": {
            "color": "#2a3f5f"
           }
          },
          "annotationdefaults": {
           "arrowcolor": "#2a3f5f",
           "arrowhead": 0,
           "arrowwidth": 1
          },
          "geo": {
           "bgcolor": "white",
           "landcolor": "#E5ECF6",
           "subunitcolor": "white",
           "showland": true,
           "showlakes": true,
           "lakecolor": "white"
          },
          "title": {
           "x": 0.05
          },
          "mapbox": {
           "style": "light"
          }
         }
        },
        "xaxis": {
         "anchor": "y",
         "domain": [
          0.0,
          1.0
         ],
         "title": {
          "text": "# Components"
         }
        },
        "yaxis": {
         "anchor": "x",
         "domain": [
          0.0,
          1.0
         ],
         "title": {
          "text": "Proportion of Explained Variance"
         }
        },
        "legend": {
         "tracegroupgap": 0
        },
        "margin": {
         "t": 60
        }
       },
       "config": {
        "plotlyServerURL": "https://plot.ly"
       }
      },
      "text/html": "<div>                            <div id=\"125b2c31-7ad4-488a-b749-da66ac29bc27\" class=\"plotly-graph-div\" style=\"height:525px; width:100%;\"></div>            <script type=\"text/javascript\">                require([\"plotly\"], function(Plotly) {                    window.PLOTLYENV=window.PLOTLYENV || {};                                    if (document.getElementById(\"125b2c31-7ad4-488a-b749-da66ac29bc27\")) {                    Plotly.newPlot(                        \"125b2c31-7ad4-488a-b749-da66ac29bc27\",                        [{\"fillpattern\":{\"shape\":\"\"},\"hovertemplate\":\"# Components=%{x}<br>Proportion of Explained Variance=%{y}<extra></extra>\",\"legendgroup\":\"\",\"line\":{\"color\":\"#636efa\"},\"marker\":{\"symbol\":\"circle\"},\"mode\":\"lines\",\"name\":\"\",\"orientation\":\"v\",\"showlegend\":false,\"stackgroup\":\"1\",\"x\":[1,2,3,4,5,6,7,8,9,10,11,12,13,14,15,16,17,18,19,20,21,22,23,24,25,26,27,28,29,30,31,32,33,34,35,36,37,38,39,40,41,42,43,44,45,46,47,48,49,50,51,52,53,54,55,56,57,58,59,60,61,62,63,64,65,66,67,68,69,70,71,72,73,74,75,76,77,78,79,80,81,82,83,84,85,86,87,88,89,90,91,92,93,94,95,96,97,98,99,100,101,102,103,104,105,106,107,108,109,110,111,112,113,114,115,116,117,118,119,120,121,122,123,124,125,126,127,128,129,130,131,132,133,134,135,136,137,138,139,140,141,142,143,144,145,146,147,148,149,150,151,152,153,154,155,156,157,158,159,160,161,162,163,164,165,166,167,168,169,170,171,172,173,174,175,176,177,178,179,180,181,182,183,184,185,186,187,188,189,190,191,192,193,194,195,196,197,198,199,200,201,202,203,204,205,206,207,208,209,210,211,212,213,214,215,216,217,218,219,220,221,222,223,224,225,226,227,228,229,230,231,232,233,234,235,236,237,238,239,240,241,242,243,244,245,246,247,248,249,250,251],\"xaxis\":\"x\",\"y\":[0.3311107984767556,0.13866551987326628,0.006086559037631891,0.005961290845608805,0.005816319322599158,0.005645326947479762,0.0053949577804945584,0.005271514476533597,0.00519734454632466,0.004966752023173172,0.0049063594050542956,0.004850127954524635,0.004761178161447584,0.004723071939327053,0.004576011075436332,0.004513620587588077,0.004448675620617285,0.004386113213501286,0.004375301122531803,0.004264897840037408,0.004182208442901198,0.004168629079084307,0.004167778677845448,0.004095078086574878,0.0040420535807326585,0.004023887105613428,0.003955088084896671,0.003908713429293277,0.0038988305554137946,0.0038363677789838256,0.0038045108208416556,0.003753779109081675,0.0037468868103456942,0.003706159677706588,0.0036860927446463365,0.0036805986933747055,0.0036116064634179853,0.0035996493248672064,0.003569659437846953,0.0035377655662504532,0.003518491682919829,0.003509210479466296,0.0034660612289465404,0.0034438089143472646,0.003423663324340931,0.0033843660144753217,0.003338648379821671,0.0033166135501839487,0.003304924059565192,0.0032565878189548736,0.0032273543667067045,0.0031945612395391596,0.0031678918040583728,0.0031360014497707482,0.003133038230582183,0.003109237868570973,0.0030779825745584056,0.0030679043942882854,0.0030608527245509242,0.003053779706526923,0.0030119223151258284,0.002982344887433213,0.0029675181022855704,0.0029283641353844854,0.0028891948179815825,0.0028874936366422945,0.002861220655193378,0.00282850404034938,0.002808819749964167,0.0027911462156711667,0.0027746472524777513,0.002763815508730277,0.0027553831252016218,0.002734810101134739,0.002721497714984807,0.0027002947101498706,0.0026774615992038817,0.002642142780503141,0.0026254724704357635,0.0026142773184002037,0.0025911420408037122,0.002583506011522378,0.0025722002039293406,0.002556827202494934,0.002531108348900342,0.002516863083981805,0.002494565266676465,0.002482401444612166,0.0024483390557921976,0.0024331119391048837,0.002416995992954515,0.002399293113984921,0.002364185567201317,0.002350286539212418,0.002336257199642917,0.0023254487667134496,0.0023089903637180486,0.0022874247126075057,0.0022816376127690273,0.0022615900981590186,0.0022582297745595554,0.0022171187835561138,0.0022128190431694407,0.0021826104198636558,0.0021715466787836815,0.0021546816378575943,0.00213559704680127,0.002127741771284277,0.0021198465730344397,0.002101815344693377,0.002091386008418129,0.002080198411942075,0.002056502210463127,0.0020326915717404745,0.0020252485672353753,0.002005533901185676,0.0020041337592889953,0.0019844908334803544,0.001957532219602057,0.0019476970956037848,0.0019377520149923598,0.0019205826328115938,0.0019161188909457875,0.0019062056246736821,0.00188341080593986,0.001876482504352858,0.0018511646037630402,0.0018328632990922617,0.0018094102501247458,0.0017883467607035528,0.0017746091255497615,0.0017707425789168067,0.0017623346550842231,0.0017447322220529413,0.0017304125719035664,0.0017180822337911927,0.0017026924178564344,0.0016897431058502427,0.001678595677656292,0.0016634964911949684,0.0016570989561327065,0.0016408900787264606,0.001623856027012536,0.0016041551297111896,0.0015950759949976193,0.0015869664688874486,0.0015717192534617857,0.0015623006862582481,0.0015421172429202648,0.001536164128693623,0.0015286881721637171,0.0015049075680462817,0.001492756339270026,0.0014827501997638798,0.0014720603495001424,0.001459131958840654,0.0014429901788128733,0.0014378806234228046,0.0014318919366928151,0.001424790945575049,0.0014119402182080024,0.0013963859143826319,0.001392471753894758,0.001375894790021471,0.0013647463335897635,0.001353553583065005,0.0013315615983696303,0.001325072715237012,0.0013109483931681846,0.0012996523384641043,0.0012898680901966132,0.0012794065709970583,0.0012764547036377034,0.001269020613496707,0.0012581374274101226,0.0012419983811194975,0.001230761737151001,0.001222948588873352,0.001218276360694213,0.001204859887504284,0.0011970635615807478,0.0011861312838629921,0.0011676897878838016,0.0011564199311858221,0.0011419384431213626,0.0011308602483339528,0.001116100574891791,0.001112421109790509,0.0011024324864020456,0.0010976039961813307,0.0010881678625964486,0.001081817850208813,0.0010754255895508039,0.0010600543009347848,0.0010560435655384262,0.0010413612412429026,0.00102351204586444,0.0010204861836606057,0.0010044903718707259,0.0009983366281960053,0.0009903063478961473,0.0009820811724143988,0.0009690128690276505,0.0009584995733041793,0.0009524731239606226,0.0009486516475832485,0.000915813879627763,0.0009063228833569891,0.0009023072708332663,0.0008852294994880827,0.0008816926198767055,0.0008729911671989784,0.0008642780778134703,0.0008581373033984942,0.0008526736677544658,0.0008259258910755213,0.0008230491323987284,0.0008137750875763242,0.0008004435792427468,0.0007957609322771186,0.0007787526605198307,0.000775373834870839,0.0007626246428481412,0.0007451325500057531,0.0007390545429515852,0.0007229552660284698,0.000713142158297285,0.0006990999046806485,0.0006939212346496781,0.000680172738527856,0.0006738935121593525,0.0006632913894860359,0.0006610358028716421,0.0006566196703030692,0.0006350866737780313,0.0006334372922993435,0.0006202845503062365,0.0006104008548566473,0.000589210802306887,0.000585372073636942,0.0005731256234487092,0.0005654987431168066,0.0005530371757442535,0.000542309494627575,0.0005247120680690908,0.000519000377692916,0.0005080828463810024,0.0004941073700984624,0.0004591099966688073,0.0004492831099758764,0.0004411666577370065],\"yaxis\":\"y\",\"type\":\"scatter\"}],                        {\"template\":{\"data\":{\"histogram2dcontour\":[{\"type\":\"histogram2dcontour\",\"colorbar\":{\"outlinewidth\":0,\"ticks\":\"\"},\"colorscale\":[[0.0,\"#0d0887\"],[0.1111111111111111,\"#46039f\"],[0.2222222222222222,\"#7201a8\"],[0.3333333333333333,\"#9c179e\"],[0.4444444444444444,\"#bd3786\"],[0.5555555555555556,\"#d8576b\"],[0.6666666666666666,\"#ed7953\"],[0.7777777777777778,\"#fb9f3a\"],[0.8888888888888888,\"#fdca26\"],[1.0,\"#f0f921\"]]}],\"choropleth\":[{\"type\":\"choropleth\",\"colorbar\":{\"outlinewidth\":0,\"ticks\":\"\"}}],\"histogram2d\":[{\"type\":\"histogram2d\",\"colorbar\":{\"outlinewidth\":0,\"ticks\":\"\"},\"colorscale\":[[0.0,\"#0d0887\"],[0.1111111111111111,\"#46039f\"],[0.2222222222222222,\"#7201a8\"],[0.3333333333333333,\"#9c179e\"],[0.4444444444444444,\"#bd3786\"],[0.5555555555555556,\"#d8576b\"],[0.6666666666666666,\"#ed7953\"],[0.7777777777777778,\"#fb9f3a\"],[0.8888888888888888,\"#fdca26\"],[1.0,\"#f0f921\"]]}],\"heatmap\":[{\"type\":\"heatmap\",\"colorbar\":{\"outlinewidth\":0,\"ticks\":\"\"},\"colorscale\":[[0.0,\"#0d0887\"],[0.1111111111111111,\"#46039f\"],[0.2222222222222222,\"#7201a8\"],[0.3333333333333333,\"#9c179e\"],[0.4444444444444444,\"#bd3786\"],[0.5555555555555556,\"#d8576b\"],[0.6666666666666666,\"#ed7953\"],[0.7777777777777778,\"#fb9f3a\"],[0.8888888888888888,\"#fdca26\"],[1.0,\"#f0f921\"]]}],\"heatmapgl\":[{\"type\":\"heatmapgl\",\"colorbar\":{\"outlinewidth\":0,\"ticks\":\"\"},\"colorscale\":[[0.0,\"#0d0887\"],[0.1111111111111111,\"#46039f\"],[0.2222222222222222,\"#7201a8\"],[0.3333333333333333,\"#9c179e\"],[0.4444444444444444,\"#bd3786\"],[0.5555555555555556,\"#d8576b\"],[0.6666666666666666,\"#ed7953\"],[0.7777777777777778,\"#fb9f3a\"],[0.8888888888888888,\"#fdca26\"],[1.0,\"#f0f921\"]]}],\"contourcarpet\":[{\"type\":\"contourcarpet\",\"colorbar\":{\"outlinewidth\":0,\"ticks\":\"\"}}],\"contour\":[{\"type\":\"contour\",\"colorbar\":{\"outlinewidth\":0,\"ticks\":\"\"},\"colorscale\":[[0.0,\"#0d0887\"],[0.1111111111111111,\"#46039f\"],[0.2222222222222222,\"#7201a8\"],[0.3333333333333333,\"#9c179e\"],[0.4444444444444444,\"#bd3786\"],[0.5555555555555556,\"#d8576b\"],[0.6666666666666666,\"#ed7953\"],[0.7777777777777778,\"#fb9f3a\"],[0.8888888888888888,\"#fdca26\"],[1.0,\"#f0f921\"]]}],\"surface\":[{\"type\":\"surface\",\"colorbar\":{\"outlinewidth\":0,\"ticks\":\"\"},\"colorscale\":[[0.0,\"#0d0887\"],[0.1111111111111111,\"#46039f\"],[0.2222222222222222,\"#7201a8\"],[0.3333333333333333,\"#9c179e\"],[0.4444444444444444,\"#bd3786\"],[0.5555555555555556,\"#d8576b\"],[0.6666666666666666,\"#ed7953\"],[0.7777777777777778,\"#fb9f3a\"],[0.8888888888888888,\"#fdca26\"],[1.0,\"#f0f921\"]]}],\"mesh3d\":[{\"type\":\"mesh3d\",\"colorbar\":{\"outlinewidth\":0,\"ticks\":\"\"}}],\"scatter\":[{\"fillpattern\":{\"fillmode\":\"overlay\",\"size\":10,\"solidity\":0.2},\"type\":\"scatter\"}],\"parcoords\":[{\"type\":\"parcoords\",\"line\":{\"colorbar\":{\"outlinewidth\":0,\"ticks\":\"\"}}}],\"scatterpolargl\":[{\"type\":\"scatterpolargl\",\"marker\":{\"colorbar\":{\"outlinewidth\":0,\"ticks\":\"\"}}}],\"bar\":[{\"error_x\":{\"color\":\"#2a3f5f\"},\"error_y\":{\"color\":\"#2a3f5f\"},\"marker\":{\"line\":{\"color\":\"#E5ECF6\",\"width\":0.5},\"pattern\":{\"fillmode\":\"overlay\",\"size\":10,\"solidity\":0.2}},\"type\":\"bar\"}],\"scattergeo\":[{\"type\":\"scattergeo\",\"marker\":{\"colorbar\":{\"outlinewidth\":0,\"ticks\":\"\"}}}],\"scatterpolar\":[{\"type\":\"scatterpolar\",\"marker\":{\"colorbar\":{\"outlinewidth\":0,\"ticks\":\"\"}}}],\"histogram\":[{\"marker\":{\"pattern\":{\"fillmode\":\"overlay\",\"size\":10,\"solidity\":0.2}},\"type\":\"histogram\"}],\"scattergl\":[{\"type\":\"scattergl\",\"marker\":{\"colorbar\":{\"outlinewidth\":0,\"ticks\":\"\"}}}],\"scatter3d\":[{\"type\":\"scatter3d\",\"line\":{\"colorbar\":{\"outlinewidth\":0,\"ticks\":\"\"}},\"marker\":{\"colorbar\":{\"outlinewidth\":0,\"ticks\":\"\"}}}],\"scattermapbox\":[{\"type\":\"scattermapbox\",\"marker\":{\"colorbar\":{\"outlinewidth\":0,\"ticks\":\"\"}}}],\"scatterternary\":[{\"type\":\"scatterternary\",\"marker\":{\"colorbar\":{\"outlinewidth\":0,\"ticks\":\"\"}}}],\"scattercarpet\":[{\"type\":\"scattercarpet\",\"marker\":{\"colorbar\":{\"outlinewidth\":0,\"ticks\":\"\"}}}],\"carpet\":[{\"aaxis\":{\"endlinecolor\":\"#2a3f5f\",\"gridcolor\":\"white\",\"linecolor\":\"white\",\"minorgridcolor\":\"white\",\"startlinecolor\":\"#2a3f5f\"},\"baxis\":{\"endlinecolor\":\"#2a3f5f\",\"gridcolor\":\"white\",\"linecolor\":\"white\",\"minorgridcolor\":\"white\",\"startlinecolor\":\"#2a3f5f\"},\"type\":\"carpet\"}],\"table\":[{\"cells\":{\"fill\":{\"color\":\"#EBF0F8\"},\"line\":{\"color\":\"white\"}},\"header\":{\"fill\":{\"color\":\"#C8D4E3\"},\"line\":{\"color\":\"white\"}},\"type\":\"table\"}],\"barpolar\":[{\"marker\":{\"line\":{\"color\":\"#E5ECF6\",\"width\":0.5},\"pattern\":{\"fillmode\":\"overlay\",\"size\":10,\"solidity\":0.2}},\"type\":\"barpolar\"}],\"pie\":[{\"automargin\":true,\"type\":\"pie\"}]},\"layout\":{\"autotypenumbers\":\"strict\",\"colorway\":[\"#636efa\",\"#EF553B\",\"#00cc96\",\"#ab63fa\",\"#FFA15A\",\"#19d3f3\",\"#FF6692\",\"#B6E880\",\"#FF97FF\",\"#FECB52\"],\"font\":{\"color\":\"#2a3f5f\"},\"hovermode\":\"closest\",\"hoverlabel\":{\"align\":\"left\"},\"paper_bgcolor\":\"white\",\"plot_bgcolor\":\"#E5ECF6\",\"polar\":{\"bgcolor\":\"#E5ECF6\",\"angularaxis\":{\"gridcolor\":\"white\",\"linecolor\":\"white\",\"ticks\":\"\"},\"radialaxis\":{\"gridcolor\":\"white\",\"linecolor\":\"white\",\"ticks\":\"\"}},\"ternary\":{\"bgcolor\":\"#E5ECF6\",\"aaxis\":{\"gridcolor\":\"white\",\"linecolor\":\"white\",\"ticks\":\"\"},\"baxis\":{\"gridcolor\":\"white\",\"linecolor\":\"white\",\"ticks\":\"\"},\"caxis\":{\"gridcolor\":\"white\",\"linecolor\":\"white\",\"ticks\":\"\"}},\"coloraxis\":{\"colorbar\":{\"outlinewidth\":0,\"ticks\":\"\"}},\"colorscale\":{\"sequential\":[[0.0,\"#0d0887\"],[0.1111111111111111,\"#46039f\"],[0.2222222222222222,\"#7201a8\"],[0.3333333333333333,\"#9c179e\"],[0.4444444444444444,\"#bd3786\"],[0.5555555555555556,\"#d8576b\"],[0.6666666666666666,\"#ed7953\"],[0.7777777777777778,\"#fb9f3a\"],[0.8888888888888888,\"#fdca26\"],[1.0,\"#f0f921\"]],\"sequentialminus\":[[0.0,\"#0d0887\"],[0.1111111111111111,\"#46039f\"],[0.2222222222222222,\"#7201a8\"],[0.3333333333333333,\"#9c179e\"],[0.4444444444444444,\"#bd3786\"],[0.5555555555555556,\"#d8576b\"],[0.6666666666666666,\"#ed7953\"],[0.7777777777777778,\"#fb9f3a\"],[0.8888888888888888,\"#fdca26\"],[1.0,\"#f0f921\"]],\"diverging\":[[0,\"#8e0152\"],[0.1,\"#c51b7d\"],[0.2,\"#de77ae\"],[0.3,\"#f1b6da\"],[0.4,\"#fde0ef\"],[0.5,\"#f7f7f7\"],[0.6,\"#e6f5d0\"],[0.7,\"#b8e186\"],[0.8,\"#7fbc41\"],[0.9,\"#4d9221\"],[1,\"#276419\"]]},\"xaxis\":{\"gridcolor\":\"white\",\"linecolor\":\"white\",\"ticks\":\"\",\"title\":{\"standoff\":15},\"zerolinecolor\":\"white\",\"automargin\":true,\"zerolinewidth\":2},\"yaxis\":{\"gridcolor\":\"white\",\"linecolor\":\"white\",\"ticks\":\"\",\"title\":{\"standoff\":15},\"zerolinecolor\":\"white\",\"automargin\":true,\"zerolinewidth\":2},\"scene\":{\"xaxis\":{\"backgroundcolor\":\"#E5ECF6\",\"gridcolor\":\"white\",\"linecolor\":\"white\",\"showbackground\":true,\"ticks\":\"\",\"zerolinecolor\":\"white\",\"gridwidth\":2},\"yaxis\":{\"backgroundcolor\":\"#E5ECF6\",\"gridcolor\":\"white\",\"linecolor\":\"white\",\"showbackground\":true,\"ticks\":\"\",\"zerolinecolor\":\"white\",\"gridwidth\":2},\"zaxis\":{\"backgroundcolor\":\"#E5ECF6\",\"gridcolor\":\"white\",\"linecolor\":\"white\",\"showbackground\":true,\"ticks\":\"\",\"zerolinecolor\":\"white\",\"gridwidth\":2}},\"shapedefaults\":{\"line\":{\"color\":\"#2a3f5f\"}},\"annotationdefaults\":{\"arrowcolor\":\"#2a3f5f\",\"arrowhead\":0,\"arrowwidth\":1},\"geo\":{\"bgcolor\":\"white\",\"landcolor\":\"#E5ECF6\",\"subunitcolor\":\"white\",\"showland\":true,\"showlakes\":true,\"lakecolor\":\"white\"},\"title\":{\"x\":0.05},\"mapbox\":{\"style\":\"light\"}}},\"xaxis\":{\"anchor\":\"y\",\"domain\":[0.0,1.0],\"title\":{\"text\":\"# Components\"}},\"yaxis\":{\"anchor\":\"x\",\"domain\":[0.0,1.0],\"title\":{\"text\":\"Proportion of Explained Variance\"}},\"legend\":{\"tracegroupgap\":0},\"margin\":{\"t\":60}},                        {\"responsive\": true}                    ).then(function(){\n                            \nvar gd = document.getElementById('125b2c31-7ad4-488a-b749-da66ac29bc27');\nvar x = new MutationObserver(function (mutations, observer) {{\n        var display = window.getComputedStyle(gd).display;\n        if (!display || display === 'none') {{\n            console.log([gd, 'removed!']);\n            Plotly.purge(gd);\n            observer.disconnect();\n        }}\n}});\n\n// Listen for the removal of the full notebook cells\nvar notebookContainer = gd.closest('#notebook-container');\nif (notebookContainer) {{\n    x.observe(notebookContainer, {childList: true});\n}}\n\n// Listen for the clearing of the current output cell\nvar outputEl = gd.closest('.output');\nif (outputEl) {{\n    x.observe(outputEl, {childList: true});\n}}\n\n                        })                };                });            </script>        </div>"
     },
     "metadata": {},
     "output_type": "display_data"
    }
   ],
   "source": [
    "# As minimum value is abobe 0.26. PCA is better than choosing some features with high variances.\n",
    "# Plotting Scree plot.\n",
    "pca = PCA()\n",
    "pca.fit(X_train)\n",
    "exp_var =pca.explained_variance_ratio_\n",
    "px.area(\n",
    "    x=range(1, exp_var.shape[0] + 1),\n",
    "    y=exp_var,\n",
    "    labels={\"x\": \"# Components\", \"y\": \"Proportion of Explained Variance\"}\n",
    ")\n",
    "# Component # 3 is an elbow\n",
    "\n",
    "# printcipalComponents = pca.fit_transform(X_train)\n",
    "# X_train_pca= pd.DataFrame(data=printcipalComponents)\n",
    "# print(principalDf)\n",
    "# print(Y_train)"
   ],
   "metadata": {
    "collapsed": false,
    "pycharm": {
     "name": "#%%\n"
    }
   }
  },
  {
   "cell_type": "code",
   "execution_count": null,
   "outputs": [],
   "source": [
    "pca=PCA(n_components=2)\n",
    "principalcomponents=pca.fit_transform(X_train)\n",
    "principaldf=pd.DataFrame(data=principalcomponents, columns=['principal component1', 'principal component2'])\n",
    "fig = plt.figure(figsize = (10, 10))\n",
    "ax = fig.add_subplot(1, 1, 1)\n",
    "ax.set_xlabel('Principal Component 1', fontsize = 15)\n",
    "ax.set_ylabel('Principal Component 2', fontsize = 15)\n",
    "ax.set_title('2 component PCA', fontsize=20)\n",
    "# finalDf=pd.concat([principaldf,Y_train],axis=1)\n",
    "# print(finalDf)\n",
    "# targets = [1, 2,3]\n",
    "# colors = ['r', 'g', 'b']\n",
    "# for target, color in zip(targets,colors):\n",
    "#     indicesToKeep = finalDf['class'] == target\n",
    "#     ax.scatter(finalDf.loc[indicesToKeep, 'principal component1']\n",
    "#                , finalDf.loc[indicesToKeep, 'principal component2']\n",
    "#                , c = color\n",
    "#                , s = 50)\n",
    "# ax.legend(targets)\n",
    "# ax.grid()"
   ],
   "metadata": {
    "collapsed": false,
    "pycharm": {
     "name": "#%%\n",
     "is_executing": true
    }
   }
  },
  {
   "cell_type": "code",
   "execution_count": 79,
   "outputs": [
    {
     "name": "stdout",
     "output_type": "stream",
     "text": [
      "      principal component1  principal component2  principal component3  class\n",
      "0                -0.924000             -3.264161              0.704544    1.0\n",
      "1                -1.067117             -3.809823              0.511222    3.0\n",
      "2                -1.438739             -2.884518              0.420483    1.0\n",
      "3                 0.049906             -3.847784              0.114017    1.0\n",
      "4                10.627964              2.649279             -0.519647    1.0\n",
      "...                    ...                   ...                   ...    ...\n",
      "1447             -1.699095             -3.958451              0.289298    1.0\n",
      "1448             -0.626660              3.928789              0.923948    3.0\n",
      "1449             -0.492753             -2.944189              0.087276    1.0\n",
      "1450            -19.241797              6.035977              0.708454    3.0\n",
      "1451             -2.191718             -2.643318              0.021674    1.0\n",
      "\n",
      "[1452 rows x 4 columns]\n"
     ]
    },
    {
     "data": {
      "text/plain": "<Figure size 576x576 with 1 Axes>",
      "image/png": "[encoded data removed]"
     },
     "metadata": {
      "needs_background": "light"
     },
     "output_type": "display_data"
    }
   ],
   "source": [
    "pca=PCA(n_components=3)\n",
    "principalcomponents=pca.fit_transform(X_train)\n",
    "principaldf=pd.DataFrame(data=principalcomponents, columns=['principal component1', 'principal component2', 'principal component3'])\n",
    "fig = plt.figure(figsize = (8, 8))\n",
    "ax = fig.add_subplot(1, 2, 1, projection = '3d')\n",
    "ax.set_xlabel('Principal Component 1', fontsize = 15)\n",
    "ax.set_ylabel('Principal Component 2', fontsize = 15)\n",
    "ax.set_zlabel('Principal Component 3', fontsize = 15)\n",
    "ax.set_title('3 component PCA', fontsize=20)\n",
    "finalDf=pd.concat([principaldf,Y_train],axis=1)\n",
    "print(finalDf)\n",
    "targets = [1, 2,3]\n",
    "colors = ['r', 'g', 'b']\n",
    "for target, color in zip(targets,colors):\n",
    "    indicesToKeep = finalDf['class'] == target\n",
    "    ax.scatter(finalDf.loc[indicesToKeep, 'principal component1']\n",
    "               , finalDf.loc[indicesToKeep, 'principal component2']\n",
    "               , c = color\n",
    "               , s = 50)\n",
    "ax.legend(targets)\n",
    "ax.grid()"
   ],
   "metadata": {
    "collapsed": false,
    "pycharm": {
     "name": "#%%\n"
    }
   }
  },
  {
   "cell_type": "code",
   "execution_count": 83,
   "outputs": [
    {
     "name": "stdout",
     "output_type": "stream",
     "text": [
      "         0       1       2       3       4       5       6       7       8    \\\n",
      "0     0.9687 -0.3948 -0.5467 -0.1611  0.3003 -0.3423 -0.2714 -0.3337  0.4581   \n",
      "1    -0.4669  0.5222  0.6956 -0.6545  0.4683 -1.3767 -0.8648 -0.1455  1.0665   \n",
      "2    -1.1187  0.2340 -0.0558 -0.3746  0.2157 -0.7238  0.1127 -0.3854 -0.4403   \n",
      "3     0.6143  0.1321  0.3065  0.4454 -1.3510  0.4344  0.9074 -0.4787  0.5226   \n",
      "4     0.9119  1.1340  0.4638  0.3419  0.8532  0.7698  0.8161  0.9577  0.3371   \n",
      "...      ...     ...     ...     ...     ...     ...     ...     ...     ...   \n",
      "1447 -1.6151 -0.0366  0.1771  0.0683  0.6009 -1.0059 -0.7811 -0.7509  0.0830   \n",
      "1448 -0.5898 -0.0035  0.4417  0.0339 -0.3701  0.3677 -0.9483 -0.3817 -0.1512   \n",
      "1449 -1.1236 -0.0516 -0.8155  0.3472  0.2073  0.1098  0.1199 -0.3269  0.4758   \n",
      "1450 -1.3424 -0.9087 -0.7047 -1.2451 -1.1737 -1.7872 -1.6132 -1.7413 -0.6457   \n",
      "1451 -0.6324  0.4225  0.3344 -0.2750 -0.2444 -0.6470 -0.1321 -1.1103  0.2170   \n",
      "\n",
      "         9    ...     241     242     243     244     245     246     247  \\\n",
      "0     0.0075  ... -1.6922  0.1422  0.9220 -0.0883  0.7012  0.6710 -0.3856   \n",
      "1    -0.3412  ... -1.5445  0.4600 -0.3467  0.6233  0.0138 -0.4127 -0.2212   \n",
      "2    -0.3354  ... -0.9666  0.2869  0.1066  0.4575 -0.0295  1.5963  0.1855   \n",
      "3     1.1743  ... -0.1865  0.5274  0.1729 -0.6284 -0.7961  0.5320  0.0886   \n",
      "4     0.6994  ...  0.6064  0.0781  0.6539  1.1777  0.8706  0.7935  0.4019   \n",
      "...      ...  ...     ...     ...     ...     ...     ...     ...     ...   \n",
      "1447  0.3929  ... -1.5599  0.7104 -0.0008 -1.3282  0.0066 -0.3460 -0.8685   \n",
      "1448 -0.6579  ...  0.4926 -0.7128 -1.2481  0.8069  0.1385  0.1297  0.0364   \n",
      "1449 -0.2896  ... -1.1113  1.1282  0.8240  0.2552  0.0346  1.0114  1.6984   \n",
      "1450 -1.3588  ... -0.6733 -1.4808 -1.7423 -1.4594 -1.3237 -1.4440 -1.1995   \n",
      "1451 -0.4874  ... -0.8453  0.1307  1.4703 -0.0175 -0.3201  0.1542  0.2404   \n",
      "\n",
      "         248     249     250  \n",
      "0     0.5162 -0.3330  0.0466  \n",
      "1    -0.0751 -1.6022  0.4181  \n",
      "2     0.2426 -1.4561  0.0030  \n",
      "3     0.0994 -0.2155  0.3327  \n",
      "4     0.8801  0.5517  0.9278  \n",
      "...      ...     ...     ...  \n",
      "1447 -0.3795 -0.4775  0.8624  \n",
      "1448 -1.0587  0.3042 -0.5655  \n",
      "1449  0.6347 -1.1608 -0.1943  \n",
      "1450 -0.9334 -0.5953 -1.7476  \n",
      "1451 -1.0151 -0.2542 -0.6511  \n",
      "\n",
      "[1452 rows x 251 columns]\n"
     ]
    },
    {
     "name": "stderr",
     "output_type": "stream",
     "text": [
      "g:\\my drive\\22-1\\머신러닝\\assignment 2\\venv\\lib\\site-packages\\sklearn\\utils\\validation.py:993: DataConversionWarning:\n",
      "\n",
      "A column-vector y was passed when a 1d array was expected. Please change the shape of y to (n_samples, ), for example using ravel().\n",
      "\n"
     ]
    }
   ],
   "source": [
    "pca = PCA(n_components=3)\n",
    "logreg=LogisticRegression(multi_class='multinomial', solver='lbfgs',max_iter=1000).fit(X_train, Y_train)"
   ],
   "metadata": {
    "collapsed": false,
    "pycharm": {
     "name": "#%%\n"
    }
   }
  },
  {
   "cell_type": "markdown",
   "source": [
    "# Cross validation- Logistic Regression"
   ],
   "metadata": {
    "collapsed": false,
    "pycharm": {
     "name": "#%% md\n"
    }
   }
  },
  {
   "cell_type": "code",
   "execution_count": 107,
   "outputs": [
    {
     "name": "stdout",
     "output_type": "stream",
     "text": [
      "Optimization terminated successfully.\n",
      "         Current function value: 0.551770\n",
      "         Iterations 9\n",
      "0.5513859462021566\n",
      "0.023109055752737057\n",
      "[0.54295533 0.59106529 0.52068966 0.51724138 0.56206897 0.52920962\n",
      " 0.56357388 0.56551724 0.56551724 0.56896552 0.53264605 0.54639175\n",
      " 0.57241379 0.57931034 0.56896552 0.51202749 0.53608247 0.5862069\n",
      " 0.54482759 0.56206897 0.54982818 0.53608247 0.55172414 0.57241379\n",
      " 0.53793103 0.53608247 0.54639175 0.57931034 0.52068966 0.56896552\n",
      " 0.53608247 0.54982818 0.59310345 0.56551724 0.55862069 0.54639175\n",
      " 0.50171821 0.5137931  0.58965517 0.54827586 0.52920962 0.58762887\n",
      " 0.55172414 0.55517241 0.52758621 0.57044674 0.56013746 0.57241379\n",
      " 0.50344828 0.54137931]\n"
     ]
    }
   ],
   "source": [
    "logreg=LogisticRegression(max_iter=1000)\n",
    "Y_train=np.ravel(Y_train)\n",
    "cv=RepeatedStratifiedKFold()\n",
    "scores= cross_val_score(logreg,X_train, Y_train, cv=cv)\n",
    "est = smd.MNLogit(Y_train.ravel(), X_train).fit()\n",
    "print(np.mean(scores))\n",
    "print(np.std(scores))\n",
    "\n",
    "# scores= cross_val_score(logreg,principaldf, Y_train, cv=5)\n",
    "# est = smd.MNLogit(Y_train.ravel(),principaldf).fit()\n",
    "# print(est.summary2())\n",
    "print(scores)"
   ],
   "metadata": {
    "collapsed": false,
    "pycharm": {
     "name": "#%%\n"
    }
   }
  },
  {
   "cell_type": "markdown",
   "source": [
    "# KNN"
   ],
   "metadata": {
    "collapsed": false
   }
  },
  {
   "cell_type": "code",
   "execution_count": 135,
   "outputs": [
    {
     "data": {
      "text/plain": "<Figure size 400x300 with 1 Axes>",
      "image/png": "[encoded data removed]"
     },
     "metadata": {},
     "output_type": "display_data"
    },
    {
     "data": {
      "text/plain": "<Figure size 400x300 with 1 Axes>",
      "image/png": "[encoded data removed]"
     },
     "metadata": {},
     "output_type": "display_data"
    }
   ],
   "source": [
    "knn_results=[[None for x in range (2)]for y in range (10)]\n",
    "for i in range(1,11):\n",
    "    clf = KNeighborsClassifier(n_neighbors= i )\n",
    "    scores= cross_val_score(clf,X_train, Y_train, scoring='accuracy', cv=5)\n",
    "    knn_results[i-1][0]=scores\n",
    "    scores= cross_val_score(clf,principaldf, Y_train,scoring='accuracy', cv=5)\n",
    "    knn_results[i-1][1]=scores\n",
    "plt.style.use('default')\n",
    "plt.rcParams['figure.figsize'] = (4, 3)\n",
    "plt.rcParams['font.size'] = 12\n",
    "fig, ax = plt.subplots()\n",
    "ax.boxplot([knn_results[0][0],knn_results[1][0],knn_results[2][0],knn_results[3][0],knn_results[4][0],knn_results[5][0],knn_results[6][0],knn_results[7][0],knn_results[8][0],knn_results[9][0]])\n",
    "ax.set_xlabel('k')\n",
    "ax.set_title('KNN without PCA')\n",
    "ax.set_ylabel('Value')\n",
    "plt.show()\n",
    "fig, ax = plt.subplots()\n",
    "ax.boxplot([knn_results[0][1],knn_results[1][1],knn_results[2][1],knn_results[3][1],knn_results[4][1],knn_results[5][1],knn_results[6][1],knn_results[7][1],knn_results[8][1],knn_results[9][1]])\n",
    "ax.set_xlabel('k')\n",
    "ax.set_title('KNN with PCA')\n",
    "ax.set_ylabel('Value')\n",
    "plt.show()\n"
   ],
   "metadata": {
    "collapsed": false,
    "pycharm": {
     "name": "#%%\n"
    }
   }
  },
  {
   "cell_type": "markdown",
   "source": [
    "# LDA & QDA\n"
   ],
   "metadata": {
    "collapsed": false
   }
  },
  {
   "cell_type": "code",
   "execution_count": 117,
   "outputs": [
    {
     "name": "stdout",
     "output_type": "stream",
     "text": [
      "0.646690129162223\n",
      "0.6409131413674607\n",
      "0.016591199745857165\n",
      "0.021843759111165505\n",
      "[0.66666667 0.65979381 0.63103448 0.61724138 0.66206897 0.65635739\n",
      " 0.65292096 0.63793103 0.64482759 0.63793103 0.65979381 0.62542955\n",
      " 0.63448276 0.66206897 0.65517241 0.66323024 0.66323024 0.61034483\n",
      " 0.63793103 0.65172414 0.62199313 0.65292096 0.67241379 0.62413793\n",
      " 0.66206897 0.63230241 0.65292096 0.63448276 0.63448276 0.67931034\n",
      " 0.63573883 0.66666667 0.63793103 0.63793103 0.64827586 0.63573883\n",
      " 0.63573883 0.65172414 0.67241379 0.65172414 0.65292096 0.67353952\n",
      " 0.64137931 0.61724138 0.64482759 0.6185567  0.66666667 0.65517241\n",
      " 0.63448276 0.65862069]\n",
      "[0.60824742 0.68041237 0.64827586 0.63793103 0.61724138 0.59793814\n",
      " 0.65979381 0.62068966 0.66896552 0.65862069 0.6185567  0.59793814\n",
      " 0.67586207 0.68275862 0.62758621 0.64948454 0.60137457 0.65517241\n",
      " 0.65862069 0.65172414 0.67010309 0.62886598 0.62413793 0.64137931\n",
      " 0.65172414 0.65292096 0.63917526 0.65172414 0.62413793 0.64482759\n",
      " 0.64948454 0.67697595 0.61034483 0.61724138 0.63448276 0.62886598\n",
      " 0.67010309 0.66896552 0.6137931  0.62758621 0.63230241 0.6185567\n",
      " 0.64482759 0.65862069 0.63793103 0.65635739 0.62199313 0.64827586\n",
      " 0.64137931 0.64137931]\n"
     ]
    }
   ],
   "source": [
    "from sklearn.discriminant_analysis import LinearDiscriminantAnalysis\n",
    "from sklearn.discriminant_analysis import QuadraticDiscriminantAnalysis\n",
    "\n",
    "results=[[None for x in range (2)]for y in range (2)]\n",
    "lda = LinearDiscriminantAnalysis()\n",
    "\n",
    "qda = QuadraticDiscriminantAnalysis(store_covariance=True)\n",
    "# scores_lda= cross_val_score(lda,X_train, Y_train,scoring='accuracy', cv=5)\n",
    "# scores_qda=cross_val_score(qda,X_train, Y_train,scoring='accuracy', cv=5)\n",
    "\n",
    "\n",
    "cv=RepeatedStratifiedKFold()\n",
    "scores_lda= cross_val_score(lda,principaldf, Y_train,scoring='accuracy', cv=cv)\n",
    "scores_qda=cross_val_score(qda,principaldf, Y_train,scoring='accuracy', cv=cv)\n",
    "print(np.mean(scores_lda))\n",
    "print(np.mean(scores_qda))\n",
    "print(np.std(scores_lda))\n",
    "print(np.std(scores_qda))\n",
    "\n",
    "print(scores_lda)\n",
    "print(scores_qda)"
   ],
   "metadata": {
    "collapsed": false,
    "pycharm": {
     "name": "#%%\n"
    }
   }
  },
  {
   "cell_type": "markdown",
   "source": [
    "# 2D PCA for visualization"
   ],
   "metadata": {
    "collapsed": false
   }
  },
  {
   "cell_type": "code",
   "execution_count": 171,
   "outputs": [
    {
     "name": "stderr",
     "output_type": "stream",
     "text": [
      "g:\\my drive\\22-1\\머신러닝\\assignment 2\\venv\\lib\\site-packages\\sklearn\\utils\\validation.py:993: DataConversionWarning:\n",
      "\n",
      "A column-vector y was passed when a 1d array was expected. Please change the shape of y to (n_samples, ), for example using ravel().\n",
      "\n",
      "g:\\my drive\\22-1\\머신러닝\\assignment 2\\venv\\lib\\site-packages\\sklearn\\base.py:450: UserWarning:\n",
      "\n",
      "X does not have valid feature names, but QuadraticDiscriminantAnalysis was fitted with feature names\n",
      "\n",
      "No artists with labels found to put in legend.  Note that artists whose label start with an underscore are ignored when legend() is called with no argument.\n"
     ]
    },
    {
     "data": {
      "text/plain": "<Figure size 400x300 with 1 Axes>",
      "image/png": "[encoded data removed]"
     },
     "metadata": {},
     "output_type": "display_data"
    }
   ],
   "source": [
    "import matplotlib as mpl\n",
    "import seaborn as sns\n",
    "pca=PCA(n_components=2)\n",
    "principalcomponents=pca.fit_transform(X_train)\n",
    "principaldf=pd.DataFrame(data=principalcomponents, columns=['principal component1', 'principal component2'])\n",
    "qda = QuadraticDiscriminantAnalysis(store_covariance=True).fit(principaldf,Y_train)\n",
    "x1min, x1max = -35, 45\n",
    "x2min, x2max = -6,10\n",
    "XX1, XX2 = np.meshgrid(np.arange(x1min, x1max, (x1max-x1min)/1000),\n",
    "                       np.arange(x2min, x2max, (x2max-x2min)/1000))\n",
    "YY = np.reshape(qda.predict(np.array([XX1.ravel(), XX2.ravel()]).T), XX1.shape)\n",
    "cmap = mpl.colors.ListedColormap(sns.color_palette([\"r\", \"g\", \"b\"]).as_hex())\n",
    "plt.contourf(XX1, XX2, YY, cmap=cmap, alpha=0.5)\n",
    "plt.xlabel(\"$x_1$\")\n",
    "plt.ylabel(\"$x_2$\")\n",
    "plt.title(\"QDA\")\n",
    "plt.legend()\n",
    "plt.show()"
   ],
   "metadata": {
    "collapsed": false,
    "pycharm": {
     "name": "#%%\n"
    }
   }
  },
  {
   "cell_type": "code",
   "execution_count": 175,
   "outputs": [
    {
     "name": "stderr",
     "output_type": "stream",
     "text": [
      "g:\\my drive\\22-1\\머신러닝\\assignment 2\\venv\\lib\\site-packages\\sklearn\\utils\\validation.py:993: DataConversionWarning:\n",
      "\n",
      "A column-vector y was passed when a 1d array was expected. Please change the shape of y to (n_samples, ), for example using ravel().\n",
      "\n",
      "g:\\my drive\\22-1\\머신러닝\\assignment 2\\venv\\lib\\site-packages\\sklearn\\base.py:450: UserWarning:\n",
      "\n",
      "X does not have valid feature names, but LinearDiscriminantAnalysis was fitted with feature names\n",
      "\n",
      "No artists with labels found to put in legend.  Note that artists whose label start with an underscore are ignored when legend() is called with no argument.\n"
     ]
    },
    {
     "data": {
      "text/plain": "<Figure size 400x300 with 1 Axes>",
      "image/png": "[encoded data removed]"
     },
     "metadata": {},
     "output_type": "display_data"
    }
   ],
   "source": [
    "import matplotlib as mpl\n",
    "import seaborn as sns\n",
    "\n",
    "lda = LinearDiscriminantAnalysis(store_covariance=True).fit(principaldf,Y_train)\n",
    "x1min, x1max = -35, 45\n",
    "x2min, x2max = -6,10\n",
    "XX1, XX2 = np.meshgrid(np.arange(x1min, x1max, (x1max-x1min)/1000),\n",
    "                       np.arange(x2min, x2max, (x2max-x2min)/1000))\n",
    "YY = np.reshape(lda.predict(np.array([XX1.ravel(), XX2.ravel()]).T), XX1.shape)\n",
    "cmap = mpl.colors.ListedColormap(sns.color_palette([\"r\", \"g\", \"b\"]).as_hex())\n",
    "plt.contourf(XX1, XX2, YY, cmap=cmap, alpha=0.5)\n",
    "plt.xlim(x1min, x1max)\n",
    "plt.ylim(x2min, x2max)\n",
    "plt.xlabel(\"$x_1$\")\n",
    "plt.ylabel(\"$x_2$\")\n",
    "plt.title(\"LDA\")\n",
    "plt.legend()\n",
    "plt.show()"
   ],
   "metadata": {
    "collapsed": false,
    "pycharm": {
     "name": "#%%\n"
    }
   }
  },
  {
   "cell_type": "markdown",
   "source": [
    "# Decision Tree"
   ],
   "metadata": {
    "collapsed": false,
    "pycharm": {
     "name": "#%% md\n"
    }
   }
  },
  {
   "cell_type": "code",
   "execution_count": 131,
   "outputs": [
    {
     "data": {
      "text/plain": "<Figure size 400x300 with 1 Axes>",
      "image/png": "[encoded data removed]"
     },
     "metadata": {},
     "output_type": "display_data"
    }
   ],
   "source": [
    "from sklearn import tree\n",
    "df_results=[None for y in range (10)]\n",
    "for i in range(1,11):\n",
    "    clf = tree.DecisionTreeClassifier(criterion='entropy', max_depth=i)\n",
    "    cv = RepeatedStratifiedKFold()\n",
    "    scores= cross_val_score(clf,X_train, Y_train, scoring='accuracy', cv=cv)\n",
    "    df_results[i-1]=scores\n",
    "plt.style.use('default')\n",
    "plt.rcParams['figure.figsize'] = (4, 3)\n",
    "plt.rcParams['font.size'] = 12\n",
    "fig, ax = plt.subplots()\n",
    "ax.boxplot([df_results[0],df_results[1],df_results[2],df_results[3],df_results[4],df_results[5],df_results[6],df_results[7],df_results[8],df_results[9]])\n",
    "ax.set_xlabel('max depth')\n",
    "ax.set_title('Decision Tree (without PCA)')\n",
    "ax.set_ylabel('Value')\n",
    "plt.show()"
   ],
   "metadata": {
    "collapsed": false,
    "pycharm": {
     "name": "#%%\n"
    }
   }
  },
  {
   "cell_type": "markdown",
   "source": [],
   "metadata": {
    "collapsed": false
   }
  },
  {
   "cell_type": "code",
   "execution_count": 130,
   "outputs": [
    {
     "data": {
      "text/plain": "<Figure size 400x300 with 1 Axes>",
      "image/png": "[encoded data removed]"
     },
     "metadata": {},
     "output_type": "display_data"
    }
   ],
   "source": [
    "from sklearn import tree\n",
    "df_results=[None for y in range (10)]\n",
    "for i in range(1,11):\n",
    "    clf = tree.DecisionTreeClassifier(criterion='gini', max_depth=i)\n",
    "    cv = RepeatedStratifiedKFold()\n",
    "    scores= cross_val_score(clf,principaldf, Y_train, scoring='accuracy', cv=cv)\n",
    "    df_results[i-1]=scores\n",
    "plt.style.use('default')\n",
    "plt.rcParams['figure.figsize'] = (4, 3)\n",
    "plt.rcParams['font.size'] = 12\n",
    "fig, ax = plt.subplots()\n",
    "ax.boxplot([df_results[0],df_results[1],df_results[2],df_results[3],df_results[4],df_results[5],df_results[6],df_results[7],df_results[8],df_results[9]])\n",
    "ax.set_xlabel('max depth')\n",
    "ax.set_title('Decision Tree (with PCA)')\n",
    "ax.set_ylabel('Value')\n",
    "plt.show()"
   ],
   "metadata": {
    "collapsed": false,
    "pycharm": {
     "name": "#%%\n"
    }
   }
  },
  {
   "cell_type": "markdown",
   "source": [
    "# Bagging"
   ],
   "metadata": {
    "collapsed": false,
    "pycharm": {
     "name": "#%% md\n"
    }
   }
  },
  {
   "cell_type": "code",
   "execution_count": 118,
   "outputs": [
    {
     "data": {
      "text/plain": "<Figure size 400x300 with 1 Axes>",
      "image/png": "[encoded data removed]"
     },
     "metadata": {},
     "output_type": "display_data"
    }
   ],
   "source": [
    "from sklearn.ensemble import BaggingClassifier\n",
    "df_results=[None for y in range (10)]\n",
    "for i in range(1,11):\n",
    "    model = BaggingClassifier(n_estimators=20*i)\n",
    "    cv = RepeatedStratifiedKFold()\n",
    "    scores= cross_val_score(clf,X_train, Y_train, scoring='accuracy', cv=cv)\n",
    "    df_results[i-1]=scores\n",
    "plt.style.use('default')\n",
    "plt.rcParams['figure.figsize'] = (4, 3)\n",
    "plt.rcParams['font.size'] = 12\n",
    "fig, ax = plt.subplots()\n",
    "ax.boxplot([df_results[0],df_results[1],df_results[2],df_results[3],df_results[4],df_results[5],df_results[6],df_results[7],df_results[8],df_results[9]])\n",
    "ax.set_xlabel('Number of trees/20')\n",
    "ax.set_title('Bagging')\n",
    "ax.set_ylabel('Value')\n",
    "plt.show()\n"
   ],
   "metadata": {
    "collapsed": false,
    "pycharm": {
     "name": "#%%\n"
    }
   }
  },
  {
   "cell_type": "code",
   "execution_count": 228,
   "outputs": [
    {
     "ename": "AttributeError",
     "evalue": "'BaggingClassifier' object has no attribute 'feature_importances_'",
     "output_type": "error",
     "traceback": [
      "\u001B[1;31m---------------------------------------------------------------------------\u001B[0m",
      "\u001B[1;31mAttributeError\u001B[0m                            Traceback (most recent call last)",
      "Input \u001B[1;32mIn [228]\u001B[0m, in \u001B[0;36m<cell line: 2>\u001B[1;34m()\u001B[0m\n\u001B[0;32m      1\u001B[0m model \u001B[38;5;241m=\u001B[39m BaggingClassifier(n_estimators\u001B[38;5;241m=\u001B[39m\u001B[38;5;241m40\u001B[39m)\n\u001B[1;32m----> 2\u001B[0m importance \u001B[38;5;241m=\u001B[39m \u001B[43mmodel\u001B[49m\u001B[38;5;241;43m.\u001B[39;49m\u001B[43mfeature_importances_\u001B[49m\n\u001B[0;32m      3\u001B[0m \u001B[38;5;66;03m# summarize feature importance\u001B[39;00m\n\u001B[0;32m      4\u001B[0m \u001B[38;5;28;01mfor\u001B[39;00m i,v \u001B[38;5;129;01min\u001B[39;00m \u001B[38;5;28menumerate\u001B[39m(importance):\n",
      "\u001B[1;31mAttributeError\u001B[0m: 'BaggingClassifier' object has no attribute 'feature_importances_'"
     ]
    }
   ],
   "source": [],
   "metadata": {
    "collapsed": false,
    "pycharm": {
     "name": "#%%\n"
    }
   }
  },
  {
   "cell_type": "markdown",
   "source": [
    "# Random Forest"
   ],
   "metadata": {
    "collapsed": false
   }
  },
  {
   "cell_type": "code",
   "execution_count": 119,
   "outputs": [
    {
     "data": {
      "text/plain": "<Figure size 400x300 with 1 Axes>",
      "image/png": "[encoded data removed]"
     },
     "metadata": {},
     "output_type": "display_data"
    }
   ],
   "source": [
    "from sklearn.ensemble import RandomForestClassifier\n",
    "\n",
    "df_results=[None for y in range (10)]\n",
    "for i in range(1,11):\n",
    "    model = RandomForestClassifier(n_estimators=20*i, max_features='sqrt')\n",
    "    cv = RepeatedStratifiedKFold()\n",
    "    scores= cross_val_score(clf,X_train, Y_train, scoring='accuracy', cv=cv)\n",
    "    df_results[i-1]=scores\n",
    "plt.style.use('default')\n",
    "plt.rcParams['figure.figsize'] = (4, 3)\n",
    "plt.rcParams['font.size'] = 12\n",
    "fig, ax = plt.subplots()\n",
    "ax.boxplot([df_results[0],df_results[1],df_results[2],df_results[3],df_results[4],df_results[5],df_results[6],df_results[7],df_results[8],df_results[9]])\n",
    "ax.set_xlabel('Number of trees/20')\n",
    "ax.set_title('Random Forests')\n",
    "ax.set_ylabel('Value')\n",
    "plt.show()"
   ],
   "metadata": {
    "collapsed": false,
    "pycharm": {
     "name": "#%%\n"
    }
   }
  },
  {
   "cell_type": "code",
   "execution_count": 234,
   "outputs": [
    {
     "name": "stdout",
     "output_type": "stream",
     "text": [
      "Feature: 0, Score: 0.00399\n",
      "Feature: 1, Score: 0.00279\n",
      "Feature: 2, Score: 0.00506\n",
      "Feature: 3, Score: 0.00450\n",
      "Feature: 4, Score: 0.00339\n",
      "Feature: 5, Score: 0.00205\n",
      "Feature: 6, Score: 0.00402\n",
      "Feature: 7, Score: 0.00322\n",
      "Feature: 8, Score: 0.00318\n",
      "Feature: 9, Score: 0.00294\n",
      "Feature: 10, Score: 0.00364\n",
      "Feature: 11, Score: 0.00305\n",
      "Feature: 12, Score: 0.00290\n",
      "Feature: 13, Score: 0.00388\n",
      "Feature: 14, Score: 0.00339\n",
      "Feature: 15, Score: 0.00341\n",
      "Feature: 16, Score: 0.00292\n",
      "Feature: 17, Score: 0.00840\n",
      "Feature: 18, Score: 0.00215\n",
      "Feature: 19, Score: 0.00391\n",
      "Feature: 20, Score: 0.00248\n",
      "Feature: 21, Score: 0.00344\n",
      "Feature: 22, Score: 0.00287\n",
      "Feature: 23, Score: 0.00287\n",
      "Feature: 24, Score: 0.00261\n",
      "Feature: 25, Score: 0.00369\n",
      "Feature: 26, Score: 0.00315\n",
      "Feature: 27, Score: 0.00787\n",
      "Feature: 28, Score: 0.01761\n",
      "Feature: 29, Score: 0.00594\n",
      "Feature: 30, Score: 0.00706\n",
      "Feature: 31, Score: 0.00295\n",
      "Feature: 32, Score: 0.00288\n",
      "Feature: 33, Score: 0.00359\n",
      "Feature: 34, Score: 0.00280\n",
      "Feature: 35, Score: 0.00384\n",
      "Feature: 36, Score: 0.00436\n",
      "Feature: 37, Score: 0.00446\n",
      "Feature: 38, Score: 0.00572\n",
      "Feature: 39, Score: 0.00432\n",
      "Feature: 40, Score: 0.00270\n",
      "Feature: 41, Score: 0.00414\n",
      "Feature: 42, Score: 0.00209\n",
      "Feature: 43, Score: 0.00241\n",
      "Feature: 44, Score: 0.00701\n",
      "Feature: 45, Score: 0.00324\n",
      "Feature: 46, Score: 0.00432\n",
      "Feature: 47, Score: 0.00244\n",
      "Feature: 48, Score: 0.00485\n",
      "Feature: 49, Score: 0.00346\n",
      "Feature: 50, Score: 0.00399\n",
      "Feature: 51, Score: 0.00293\n",
      "Feature: 52, Score: 0.00298\n",
      "Feature: 53, Score: 0.00258\n",
      "Feature: 54, Score: 0.00153\n",
      "Feature: 55, Score: 0.00264\n",
      "Feature: 56, Score: 0.00309\n",
      "Feature: 57, Score: 0.00245\n",
      "Feature: 58, Score: 0.00384\n",
      "Feature: 59, Score: 0.00411\n",
      "Feature: 60, Score: 0.00435\n",
      "Feature: 61, Score: 0.00629\n",
      "Feature: 62, Score: 0.00291\n",
      "Feature: 63, Score: 0.00433\n",
      "Feature: 64, Score: 0.00623\n",
      "Feature: 65, Score: 0.00348\n",
      "Feature: 66, Score: 0.00223\n",
      "Feature: 67, Score: 0.00503\n",
      "Feature: 68, Score: 0.00326\n",
      "Feature: 69, Score: 0.00462\n",
      "Feature: 70, Score: 0.00349\n",
      "Feature: 71, Score: 0.00310\n",
      "Feature: 72, Score: 0.00257\n",
      "Feature: 73, Score: 0.00236\n",
      "Feature: 74, Score: 0.00311\n",
      "Feature: 75, Score: 0.00345\n",
      "Feature: 76, Score: 0.00247\n",
      "Feature: 77, Score: 0.00386\n",
      "Feature: 78, Score: 0.00292\n",
      "Feature: 79, Score: 0.01509\n",
      "Feature: 80, Score: 0.00368\n",
      "Feature: 81, Score: 0.00388\n",
      "Feature: 82, Score: 0.00415\n",
      "Feature: 83, Score: 0.01390\n",
      "Feature: 84, Score: 0.00386\n",
      "Feature: 85, Score: 0.00436\n",
      "Feature: 86, Score: 0.00524\n",
      "Feature: 87, Score: 0.00347\n",
      "Feature: 88, Score: 0.00392\n",
      "Feature: 89, Score: 0.00288\n",
      "Feature: 90, Score: 0.00741\n",
      "Feature: 91, Score: 0.00291\n",
      "Feature: 92, Score: 0.00443\n",
      "Feature: 93, Score: 0.00437\n",
      "Feature: 94, Score: 0.00419\n",
      "Feature: 95, Score: 0.00370\n",
      "Feature: 96, Score: 0.00356\n",
      "Feature: 97, Score: 0.00311\n",
      "Feature: 98, Score: 0.00381\n",
      "Feature: 99, Score: 0.00366\n",
      "Feature: 100, Score: 0.00254\n",
      "Feature: 101, Score: 0.00332\n",
      "Feature: 102, Score: 0.00222\n",
      "Feature: 103, Score: 0.00251\n",
      "Feature: 104, Score: 0.00399\n",
      "Feature: 105, Score: 0.00268\n",
      "Feature: 106, Score: 0.00623\n",
      "Feature: 107, Score: 0.00340\n",
      "Feature: 108, Score: 0.00270\n",
      "Feature: 109, Score: 0.00336\n",
      "Feature: 110, Score: 0.00345\n",
      "Feature: 111, Score: 0.00217\n",
      "Feature: 112, Score: 0.00498\n",
      "Feature: 113, Score: 0.00352\n",
      "Feature: 114, Score: 0.00428\n",
      "Feature: 115, Score: 0.00181\n",
      "Feature: 116, Score: 0.00231\n",
      "Feature: 117, Score: 0.00434\n",
      "Feature: 118, Score: 0.00659\n",
      "Feature: 119, Score: 0.00326\n",
      "Feature: 120, Score: 0.00609\n",
      "Feature: 121, Score: 0.00452\n",
      "Feature: 122, Score: 0.00423\n",
      "Feature: 123, Score: 0.00336\n",
      "Feature: 124, Score: 0.00294\n",
      "Feature: 125, Score: 0.00334\n",
      "Feature: 126, Score: 0.00420\n",
      "Feature: 127, Score: 0.00261\n",
      "Feature: 128, Score: 0.00345\n",
      "Feature: 129, Score: 0.00434\n",
      "Feature: 130, Score: 0.00361\n",
      "Feature: 131, Score: 0.00247\n",
      "Feature: 132, Score: 0.00240\n",
      "Feature: 133, Score: 0.00191\n",
      "Feature: 134, Score: 0.00328\n",
      "Feature: 135, Score: 0.00313\n",
      "Feature: 136, Score: 0.00435\n",
      "Feature: 137, Score: 0.00572\n",
      "Feature: 138, Score: 0.00390\n",
      "Feature: 139, Score: 0.00541\n",
      "Feature: 140, Score: 0.00324\n",
      "Feature: 141, Score: 0.00304\n",
      "Feature: 142, Score: 0.00275\n",
      "Feature: 143, Score: 0.00380\n",
      "Feature: 144, Score: 0.00342\n",
      "Feature: 145, Score: 0.00368\n",
      "Feature: 146, Score: 0.00409\n",
      "Feature: 147, Score: 0.00490\n",
      "Feature: 148, Score: 0.00397\n",
      "Feature: 149, Score: 0.00657\n",
      "Feature: 150, Score: 0.00290\n",
      "Feature: 151, Score: 0.00332\n",
      "Feature: 152, Score: 0.00361\n",
      "Feature: 153, Score: 0.00470\n",
      "Feature: 154, Score: 0.00409\n",
      "Feature: 155, Score: 0.00323\n",
      "Feature: 156, Score: 0.00344\n",
      "Feature: 157, Score: 0.00244\n",
      "Feature: 158, Score: 0.00315\n",
      "Feature: 159, Score: 0.00280\n",
      "Feature: 160, Score: 0.00439\n",
      "Feature: 161, Score: 0.00221\n",
      "Feature: 162, Score: 0.00385\n",
      "Feature: 163, Score: 0.00259\n",
      "Feature: 164, Score: 0.00254\n",
      "Feature: 165, Score: 0.00207\n",
      "Feature: 166, Score: 0.00215\n",
      "Feature: 167, Score: 0.00286\n",
      "Feature: 168, Score: 0.00294\n",
      "Feature: 169, Score: 0.00283\n",
      "Feature: 170, Score: 0.00312\n",
      "Feature: 171, Score: 0.00234\n",
      "Feature: 172, Score: 0.00268\n",
      "Feature: 173, Score: 0.00229\n",
      "Feature: 174, Score: 0.00318\n",
      "Feature: 175, Score: 0.00322\n",
      "Feature: 176, Score: 0.00600\n",
      "Feature: 177, Score: 0.02620\n",
      "Feature: 178, Score: 0.00241\n",
      "Feature: 179, Score: 0.00289\n",
      "Feature: 180, Score: 0.00191\n",
      "Feature: 181, Score: 0.00227\n",
      "Feature: 182, Score: 0.00266\n",
      "Feature: 183, Score: 0.00451\n",
      "Feature: 184, Score: 0.00265\n",
      "Feature: 185, Score: 0.00387\n",
      "Feature: 186, Score: 0.00667\n",
      "Feature: 187, Score: 0.00373\n",
      "Feature: 188, Score: 0.00724\n",
      "Feature: 189, Score: 0.00387\n",
      "Feature: 190, Score: 0.00365\n",
      "Feature: 191, Score: 0.00394\n",
      "Feature: 192, Score: 0.00312\n",
      "Feature: 193, Score: 0.00338\n",
      "Feature: 194, Score: 0.00301\n",
      "Feature: 195, Score: 0.00332\n",
      "Feature: 196, Score: 0.00342\n",
      "Feature: 197, Score: 0.00285\n",
      "Feature: 198, Score: 0.00350\n",
      "Feature: 199, Score: 0.00362\n",
      "Feature: 200, Score: 0.00259\n",
      "Feature: 201, Score: 0.00196\n",
      "Feature: 202, Score: 0.00246\n",
      "Feature: 203, Score: 0.00347\n",
      "Feature: 204, Score: 0.00538\n",
      "Feature: 205, Score: 0.00254\n",
      "Feature: 206, Score: 0.00332\n",
      "Feature: 207, Score: 0.00327\n",
      "Feature: 208, Score: 0.00967\n",
      "Feature: 209, Score: 0.00627\n",
      "Feature: 210, Score: 0.00290\n",
      "Feature: 211, Score: 0.00243\n",
      "Feature: 212, Score: 0.00183\n",
      "Feature: 213, Score: 0.00337\n",
      "Feature: 214, Score: 0.00317\n",
      "Feature: 215, Score: 0.00346\n",
      "Feature: 216, Score: 0.00414\n",
      "Feature: 217, Score: 0.00250\n",
      "Feature: 218, Score: 0.00362\n",
      "Feature: 219, Score: 0.01022\n",
      "Feature: 220, Score: 0.00407\n",
      "Feature: 221, Score: 0.00460\n",
      "Feature: 222, Score: 0.00424\n",
      "Feature: 223, Score: 0.00273\n",
      "Feature: 224, Score: 0.00304\n",
      "Feature: 225, Score: 0.01492\n",
      "Feature: 226, Score: 0.00380\n",
      "Feature: 227, Score: 0.00164\n",
      "Feature: 228, Score: 0.00367\n",
      "Feature: 229, Score: 0.00249\n",
      "Feature: 230, Score: 0.00380\n",
      "Feature: 231, Score: 0.00307\n",
      "Feature: 232, Score: 0.00300\n",
      "Feature: 233, Score: 0.00466\n",
      "Feature: 234, Score: 0.00291\n",
      "Feature: 235, Score: 0.00448\n",
      "Feature: 236, Score: 0.00307\n",
      "Feature: 237, Score: 0.00735\n",
      "Feature: 238, Score: 0.00297\n",
      "Feature: 239, Score: 0.01186\n",
      "Feature: 240, Score: 0.00403\n",
      "Feature: 241, Score: 0.00584\n",
      "Feature: 242, Score: 0.00287\n",
      "Feature: 243, Score: 0.00326\n",
      "Feature: 244, Score: 0.00512\n",
      "Feature: 245, Score: 0.00329\n",
      "Feature: 246, Score: 0.00766\n",
      "Feature: 247, Score: 0.00284\n",
      "Feature: 248, Score: 0.00431\n",
      "Feature: 249, Score: 0.00353\n",
      "Feature: 250, Score: 0.00253\n"
     ]
    },
    {
     "data": {
      "text/plain": "<Figure size 400x300 with 1 Axes>",
      "image/png": "[encoded data removed]"
     },
     "metadata": {},
     "output_type": "display_data"
    }
   ],
   "source": [
    "from matplotlib import pyplot\n",
    "model = RandomForestClassifier(n_estimators=40, max_features='sqrt')\n",
    "model.fit(X_train, Y_train)\n",
    "importance = model.feature_importances_\n",
    "# summarize feature importance\n",
    "for i,v in enumerate(importance):\n",
    "\tprint('Feature: %0d, Score: %.5f' % (i,v))\n",
    "# plot feature importance\n",
    "pyplot.bar([x for x in range(len(importance))], importance)\n",
    "pyplot.show()"
   ],
   "metadata": {
    "collapsed": false,
    "pycharm": {
     "name": "#%%\n"
    }
   }
  },
  {
   "cell_type": "markdown",
   "source": [
    "# Boosting"
   ],
   "metadata": {
    "collapsed": false
   }
  },
  {
   "cell_type": "code",
   "execution_count": 125,
   "outputs": [
    {
     "name": "stdout",
     "output_type": "stream",
     "text": [
      "1\n",
      "2\n",
      "3\n",
      "4\n",
      "5\n"
     ]
    },
    {
     "data": {
      "text/plain": "<Figure size 400x300 with 1 Axes>",
      "image/png": "[encoded data removed]"
     },
     "metadata": {},
     "output_type": "display_data"
    }
   ],
   "source": [
    "from sklearn.ensemble import GradientBoostingClassifier\n",
    "Y_train=np.ravel(Y_train)\n",
    "df_results=[None for y in range (5)]\n",
    "for i in range(1,6):\n",
    "    print(i)\n",
    "    model = GradientBoostingClassifier(n_estimators=20*i, max_depth=2,criterion='squared_error')\n",
    "    # cv = RepeatedStratifiedKFold()\n",
    "    scores= cross_val_score(model,X_train, Y_train, scoring='accuracy', cv=5)\n",
    "    df_results[i-1]=scores\n",
    "plt.style.use('default')\n",
    "plt.rcParams['figure.figsize'] = (4, 3)\n",
    "plt.rcParams['font.size'] = 12\n",
    "fig, ax = plt.subplots()\n",
    "ax.boxplot([df_results[0],df_results[1],df_results[2],df_results[3],df_results[4]])\n",
    "ax.set_xlabel('Number of trees/20')\n",
    "ax.set_title('Boosting with max depth 2')\n",
    "ax.set_ylabel('Value')\n",
    "plt.show()"
   ],
   "metadata": {
    "collapsed": false,
    "pycharm": {
     "name": "#%%\n"
    }
   }
  },
  {
   "cell_type": "code",
   "execution_count": 217,
   "outputs": [
    {
     "data": {
      "text/plain": "<Figure size 400x300 with 1 Axes>",
      "image/png": "[encoded data removed]"
     },
     "metadata": {},
     "output_type": "display_data"
    }
   ],
   "source": [
    "from sklearn.ensemble import GradientBoostingClassifier\n",
    "\n",
    "df_results=[None for y in range (10)]\n",
    "for i in range(1,11):\n",
    "    model = GradientBoostingClassifier(n_estimators=20*i, max_depth=6)\n",
    "    cv = RepeatedStratifiedKFold()\n",
    "    scores= cross_val_score(clf,X_train, Y_train, scoring='accuracy', cv=cv)\n",
    "    df_results[i-1]=scores\n",
    "plt.style.use('default')\n",
    "plt.rcParams['figure.figsize'] = (4, 3)\n",
    "plt.rcParams['font.size'] = 12\n",
    "fig, ax = plt.subplots()\n",
    "ax.boxplot([df_results[0],df_results[1],df_results[2],df_results[3],df_results[4],df_results[5],df_results[6],df_results[7],df_results[8],df_results[9]])\n",
    "ax.set_xlabel('Number of trees/20')\n",
    "ax.set_title('Boosting with max depth 6')\n",
    "ax.set_ylabel('Value')\n",
    "plt.show()"
   ],
   "metadata": {
    "collapsed": false,
    "pycharm": {
     "name": "#%%\n"
    }
   }
  },
  {
   "cell_type": "markdown",
   "source": [
    "# SVM"
   ],
   "metadata": {
    "collapsed": false,
    "pycharm": {
     "name": "#%% md\n"
    }
   }
  },
  {
   "cell_type": "code",
   "execution_count": 239,
   "outputs": [
    {
     "name": "stdout",
     "output_type": "stream",
     "text": [
      "linear\n",
      "0.5325040881621045\n",
      "0.0229410824656449\n",
      "rbf\n",
      "0.6430437255599004\n",
      "0.020095367061592973\n"
     ]
    }
   ],
   "source": [
    "from sklearn import svm\n",
    "clf = svm.SVC(kernel='linear')\n",
    "clf.fit(X_train, Y_train)\n",
    "cv = RepeatedStratifiedKFold()\n",
    "scores= cross_val_score(clf,X_train, Y_train, scoring='accuracy', cv=cv)\n",
    "print(\"linear\")\n",
    "print(np.mean(scores))\n",
    "print(np.std(scores))\n",
    "clf = svm.SVC(kernel='rbf')\n",
    "clf.fit(X_train, Y_train)\n",
    "cv = RepeatedStratifiedKFold()\n",
    "scores= cross_val_score(clf,X_train, Y_train, scoring='accuracy', cv=cv)\n",
    "print(\"rbf\")\n",
    "print(np.mean(scores))\n",
    "print(np.std(scores))"
   ],
   "metadata": {
    "collapsed": false,
    "pycharm": {
     "name": "#%%\n"
    }
   }
  },
  {
   "cell_type": "code",
   "execution_count": 127,
   "outputs": [
    {
     "data": {
      "text/plain": "<Figure size 400x300 with 1 Axes>",
      "image/png": "[encoded data removed]"
     },
     "metadata": {},
     "output_type": "display_data"
    }
   ],
   "source": [
    "\n",
    "df_results=[None for y in range (9)]\n",
    "for i in range(1,10):\n",
    "    clf = svm.SVC(degree=i)\n",
    "    cv = RepeatedStratifiedKFold()\n",
    "    scores= cross_val_score(clf,X_train, Y_train, scoring='accuracy', cv=cv)\n",
    "    df_results[i-1]=scores\n",
    "plt.style.use('default')\n",
    "plt.rcParams['figure.figsize'] = (4, 3)\n",
    "plt.rcParams['font.size'] = 12\n",
    "fig, ax = plt.subplots()\n",
    "ax.boxplot([df_results[0],df_results[1],df_results[2],df_results[3],df_results[4],df_results[5],df_results[6],df_results[7],df_results[8]])\n",
    "ax.set_xlabel('Degrees')\n",
    "ax.set_title('SVM by polynomial')\n",
    "ax.set_ylabel('Value')\n",
    "plt.show()"
   ],
   "metadata": {
    "collapsed": false,
    "pycharm": {
     "name": "#%%\n"
    }
   }
  },
  {
   "cell_type": "code",
   "execution_count": 245,
   "outputs": [
    {
     "name": "stdout",
     "output_type": "stream",
     "text": [
      "{'fit_time': array([0.03299832, 0.03299928, 0.03199959, 0.04400206, 0.08699942]), 'score_time': array([0.01600051, 0.01599836, 0.01499963, 0.02699924, 0.01799965]), 'test_score': array([0.65635739, 0.64261168, 0.63448276, 0.62413793, 0.65862069]), 'train_score': array([0.64857881, 0.64771748, 0.65060241, 0.65576592, 0.64802065])}\n",
      "{'fit_time': array([0.04100013, 0.03700018, 0.03699827, 0.03200078, 0.03200221]), 'score_time': array([0.02000189, 0.01999998, 0.01599979, 0.01599956, 0.01599789]), 'test_score': array([0.65635739, 0.64261168, 0.63448276, 0.62413793, 0.65862069]), 'train_score': array([0.64857881, 0.64771748, 0.65060241, 0.65576592, 0.64802065])}\n",
      "{'fit_time': array([0.0319984 , 0.03299713, 0.03300261, 0.03200006, 0.03299904]), 'score_time': array([0.01500082, 0.01600027, 0.01599813, 0.01600099, 0.01600051]), 'test_score': array([0.65635739, 0.64261168, 0.63448276, 0.62413793, 0.65862069]), 'train_score': array([0.64857881, 0.64771748, 0.65060241, 0.65576592, 0.64802065])}\n",
      "{'fit_time': array([0.03199601, 0.03200269, 0.03200102, 0.0309999 , 0.03300261]), 'score_time': array([0.01600003, 0.01599574, 0.01600122, 0.01533461, 0.01600504]), 'test_score': array([0.65635739, 0.64261168, 0.63448276, 0.62413793, 0.65862069]), 'train_score': array([0.64857881, 0.64771748, 0.65060241, 0.65576592, 0.64802065])}\n",
      "{'fit_time': array([0.03200316, 0.03299737, 0.03300071, 0.02999997, 0.03199959]), 'score_time': array([0.01499891, 0.01600337, 0.01499772, 0.01600218, 0.0160017 ]), 'test_score': array([0.65635739, 0.64261168, 0.63448276, 0.62413793, 0.65862069]), 'train_score': array([0.64857881, 0.64771748, 0.65060241, 0.65576592, 0.64802065])}\n",
      "{'fit_time': array([0.03100181, 0.03299999, 0.03300309, 0.02999926, 0.0320003 ]), 'score_time': array([0.01499772, 0.01599956, 0.01499557, 0.01600075, 0.01599979]), 'test_score': array([0.65635739, 0.64261168, 0.63448276, 0.62413793, 0.65862069]), 'train_score': array([0.64857881, 0.64771748, 0.65060241, 0.65576592, 0.64802065])}\n",
      "{'fit_time': array([0.03100085, 0.03199649, 0.03299904, 0.03099561, 0.0319984 ]), 'score_time': array([0.01599789, 0.01599979, 0.01600146, 0.01599979, 0.01600289]), 'test_score': array([0.65635739, 0.64261168, 0.63448276, 0.62413793, 0.65862069]), 'train_score': array([0.64857881, 0.64771748, 0.65060241, 0.65576592, 0.64802065])}\n",
      "{'fit_time': array([0.03199792, 0.03200173, 0.03199911, 0.03099942, 0.03199863]), 'score_time': array([0.01499987, 0.0159986 , 0.01499963, 0.0150001 , 0.0159986 ]), 'test_score': array([0.65635739, 0.64261168, 0.63448276, 0.62413793, 0.65862069]), 'train_score': array([0.64857881, 0.64771748, 0.65060241, 0.65576592, 0.64802065])}\n",
      "{'fit_time': array([0.03199911, 0.03400135, 0.03790903, 0.03100824, 0.03300023]), 'score_time': array([0.01599908, 0.01599884, 0.01593828, 0.01500106, 0.01600099]), 'test_score': array([0.65635739, 0.64261168, 0.63448276, 0.62413793, 0.65862069]), 'train_score': array([0.64857881, 0.64771748, 0.65060241, 0.65576592, 0.64802065])}\n"
     ]
    }
   ],
   "source": [
    "pca=PCA(n_components=3)\n",
    "principalcomponents=pca.fit_transform(X_train)\n",
    "principaldf=pd.DataFrame(data=principalcomponents, columns=['principal component1', 'principal component2', 'principal component3'])\n",
    "df_results=[None for y in range (9)]\n",
    "for i in range(2,11):\n",
    "    clf = svm.SVC(degree=i)\n",
    "    cv = RepeatedStratifiedKFold()\n",
    "    # scores= cross_val_score(clf,principaldf, Y_train, scoring='accuracy', cv=cv)\n",
    "    print(cross_validate(clf,principaldf, Y_train, scoring='accuracy', return_train_score=True))\n",
    "    # df_results[i-2]=scores\n",
    "# plt.style.use('default')\n",
    "# plt.rcParams['figure.figsize'] = (4, 3)\n",
    "# plt.rcParams['font.size'] = 12\n",
    "# fig, ax = plt.subplots()\n",
    "# ax.boxplot([df_results[0],df_results[1],df_results[2],df_results[3],df_results[4],df_results[5],df_results[6],df_results[7],df_results[8]])\n",
    "# ax.set_xlabel('Degrees')\n",
    "# ax.set_title('SVM by polynomial')\n",
    "# ax.set_ylabel('Value')\n",
    "# plt.show()"
   ],
   "metadata": {
    "collapsed": false,
    "pycharm": {
     "name": "#%%\n"
    }
   }
  },
  {
   "cell_type": "markdown",
   "source": [
    "# Test"
   ],
   "metadata": {
    "collapsed": false
   }
  },
  {
   "cell_type": "code",
   "execution_count": 76,
   "outputs": [
    {
     "ename": "NameError",
     "evalue": "name 'svm' is not defined",
     "output_type": "error",
     "traceback": [
      "\u001B[1;31m---------------------------------------------------------------------------\u001B[0m",
      "\u001B[1;31mNameError\u001B[0m                                 Traceback (most recent call last)",
      "Input \u001B[1;32mIn [76]\u001B[0m, in \u001B[0;36m<cell line: 2>\u001B[1;34m()\u001B[0m\n\u001B[0;32m      1\u001B[0m X_test\u001B[38;5;241m=\u001B[39mpd\u001B[38;5;241m.\u001B[39mread_csv(\u001B[38;5;124m'\u001B[39m\u001B[38;5;124mOnlineAd_X_test.csv\u001B[39m\u001B[38;5;124m'\u001B[39m,header\u001B[38;5;241m=\u001B[39m\u001B[38;5;28;01mNone\u001B[39;00m)\n\u001B[1;32m----> 2\u001B[0m clf \u001B[38;5;241m=\u001B[39m \u001B[43msvm\u001B[49m\u001B[38;5;241m.\u001B[39mSVC(degree\u001B[38;5;241m=\u001B[39m\u001B[38;5;241m2\u001B[39m)\n\u001B[0;32m      3\u001B[0m clf\u001B[38;5;241m.\u001B[39mfit(X_train, Y_train)\n\u001B[0;32m      4\u001B[0m clf\u001B[38;5;241m.\u001B[39mpredict(X_test)\n",
      "\u001B[1;31mNameError\u001B[0m: name 'svm' is not defined"
     ]
    }
   ],
   "source": [
    "X_test=pd.read_csv('OnlineAd_X_test.csv',header=None)\n",
    "clf = svm.SVC(degree=2)\n",
    "clf.fit(X_train, Y_train)\n",
    "clf.predict(X_test)"
   ],
   "metadata": {
    "collapsed": false,
    "pycharm": {
     "name": "#%%\n"
    }
   }
  },
  {
   "cell_type": "code",
   "execution_count": 79,
   "outputs": [
    {
     "data": {
      "text/plain": "array([3., 1., 1., 1., 1., 1., 1., 1., 1., 1., 1., 1., 1., 3., 1., 1., 1.,\n       1., 3., 1., 1., 1., 3., 1., 1., 1., 3., 3., 1., 1., 1., 1., 1., 1.,\n       1., 1., 1., 1., 1., 3., 1., 3., 1., 1., 3., 1., 1., 3., 1., 1., 1.,\n       1., 1., 1., 1., 1., 1., 1., 1., 3., 1., 1., 1., 3., 1., 1., 3., 1.,\n       1., 3., 1., 1., 1., 1., 1., 1., 1., 3., 1., 1., 1., 1., 3., 1., 1.,\n       1., 3., 1., 1., 1., 3., 3., 1., 1., 1., 1., 3., 1., 1., 1., 1., 1.,\n       1., 1., 1., 1., 3., 1., 1., 3., 1., 3., 3., 1., 1., 1., 1., 3., 1.,\n       1., 1., 1., 1., 3., 3., 1., 3., 1., 1., 1., 1., 1., 1., 1., 1., 3.,\n       1., 1., 1., 3., 1., 1., 1., 1., 1., 1., 1., 1., 1., 1., 1., 1., 1.,\n       1., 1., 3., 1., 3., 3., 3., 1., 1., 3., 1., 1., 1., 1., 3., 1., 1.,\n       1., 3., 1., 1., 1., 2., 1., 1., 1., 1., 1., 1., 3., 1., 1., 1., 1.,\n       3., 1., 1., 1., 1., 1., 1., 1., 1., 1., 1., 1., 1., 1., 1., 3., 1.,\n       3., 1., 1., 3., 1., 1., 1., 1., 1., 1., 1., 1., 3., 1., 1., 3., 1.,\n       1., 3., 1., 1., 3., 2., 1., 1., 1., 1., 1., 1., 1., 1., 1., 1., 1.,\n       1., 1., 1., 1., 1., 1., 1., 1., 1., 1., 1., 1., 1., 1., 1., 1., 3.,\n       1., 3., 1., 1., 1., 1., 1., 1., 3., 1., 1., 1., 1., 3., 1., 1., 1.,\n       3., 1., 3., 1., 1., 3., 1., 1., 1., 1., 1., 1., 1., 1., 1., 1., 1.,\n       3., 1., 1., 1., 1., 1., 1., 1., 1., 1., 1.])"
     },
     "execution_count": 79,
     "metadata": {},
     "output_type": "execute_result"
    }
   ],
   "source": [
    "X_test=pd.read_csv('OnlineAd_X_test.csv',header=None)\n",
    "clf = svm.SVC(kernel='rbf')\n",
    "clf.fit(X_train, Y_train)\n",
    "clf.predict(X_test)"
   ],
   "metadata": {
    "collapsed": false,
    "pycharm": {
     "name": "#%%\n"
    }
   }
  },
  {
   "cell_type": "markdown",
   "source": [
    "# Trees+LR"
   ],
   "metadata": {
    "collapsed": false
   }
  },
  {
   "cell_type": "code",
   "execution_count": 59,
   "outputs": [
    {
     "name": "stdout",
     "output_type": "stream",
     "text": [
      "      0       1       2       3       4       5       6       7       8    \\\n",
      "0  0.9687 -0.3948 -0.5467 -0.1611  0.3003 -0.3423 -0.2714 -0.3337  0.4581   \n",
      "1 -0.4669  0.5222  0.6956 -0.6545  0.4683 -1.3767 -0.8648 -0.1455  1.0665   \n",
      "2 -1.1187  0.2340 -0.0558 -0.3746  0.2157 -0.7238  0.1127 -0.3854 -0.4403   \n",
      "3  0.6143  0.1321  0.3065  0.4454 -1.3510  0.4344  0.9074 -0.4787  0.5226   \n",
      "4  0.9119  1.1340  0.4638  0.3419  0.8532  0.7698  0.8161  0.9577  0.3371   \n",
      "\n",
      "      9    ...     241     242     243     244     245     246     247  \\\n",
      "0  0.0075  ... -1.6922  0.1422  0.9220 -0.0883  0.7012  0.6710 -0.3856   \n",
      "1 -0.3412  ... -1.5445  0.4600 -0.3467  0.6233  0.0138 -0.4127 -0.2212   \n",
      "2 -0.3354  ... -0.9666  0.2869  0.1066  0.4575 -0.0295  1.5963  0.1855   \n",
      "3  1.1743  ... -0.1865  0.5274  0.1729 -0.6284 -0.7961  0.5320  0.0886   \n",
      "4  0.6994  ...  0.6064  0.0781  0.6539  1.1777  0.8706  0.7935  0.4019   \n",
      "\n",
      "      248     249     250  \n",
      "0  0.5162 -0.3330  0.0466  \n",
      "1 -0.0751 -1.6022  0.4181  \n",
      "2  0.2426 -1.4561  0.0030  \n",
      "3  0.0994 -0.2155  0.3327  \n",
      "4  0.8801  0.5517  0.9278  \n",
      "\n",
      "[5 rows x 251 columns]\n",
      "        0       1       2       3       4       5       6       7       8  \\\n",
      "0  0.9687 -0.3948 -0.5467 -0.1611  0.3003 -0.3423 -0.2714 -0.3337  0.4581   \n",
      "1 -0.4669  0.5222  0.6956 -0.6545  0.4683 -1.3767 -0.8648 -0.1455  1.0665   \n",
      "2 -1.1187  0.2340 -0.0558 -0.3746  0.2157 -0.7238  0.1127 -0.3854 -0.4403   \n",
      "3  0.6143  0.1321  0.3065  0.4454 -1.3510  0.4344  0.9074 -0.4787  0.5226   \n",
      "4  0.9119  1.1340  0.4638  0.3419  0.8532  0.7698  0.8161  0.9577  0.3371   \n",
      "\n",
      "        9  ...     242     243     244     245     246     247     248  \\\n",
      "0  0.0075  ...  0.1422  0.9220 -0.0883  0.7012  0.6710 -0.3856  0.5162   \n",
      "1 -0.3412  ...  0.4600 -0.3467  0.6233  0.0138 -0.4127 -0.2212 -0.0751   \n",
      "2 -0.3354  ...  0.2869  0.1066  0.4575 -0.0295  1.5963  0.1855  0.2426   \n",
      "3  1.1743  ...  0.5274  0.1729 -0.6284 -0.7961  0.5320  0.0886  0.0994   \n",
      "4  0.6994  ...  0.0781  0.6539  1.1777  0.8706  0.7935  0.4019  0.8801   \n",
      "\n",
      "      249     250  class A  \n",
      "0 -0.3330  0.0466      0.0  \n",
      "1 -1.6022  0.4181      0.0  \n",
      "2 -1.4561  0.0030      0.0  \n",
      "3 -0.2155  0.3327      0.0  \n",
      "4  0.5517  0.9278      0.0  \n",
      "\n",
      "[5 rows x 252 columns]\n"
     ]
    }
   ],
   "source": [
    "# Changing given dataset into binary classification\n",
    "\n",
    "Y_train_tmp=pd.read_csv('OnlineAd_Y_train.csv',names= ['No click','class A','class B'])\n",
    "Y_train_A=Y_train_tmp['class A']\n",
    "Y_train_B=Y_train_tmp['class B']\n",
    "M_train_A=pd.concat([X_train,Y_train_A], axis=1)\n",
    "M_train_B=pd.concat([X_train,Y_train_B], axis=1)\n",
    "\n"
   ],
   "metadata": {
    "collapsed": false,
    "pycharm": {
     "name": "#%%\n"
    }
   }
  },
  {
   "cell_type": "code",
   "execution_count": 96,
   "outputs": [
    {
     "name": "stdout",
     "output_type": "stream",
     "text": [
      "0.7736660929432013\n",
      "0.7848537005163512\n",
      "0.7461273666092944\n",
      "0.7616179001721171\n",
      "0.7676419965576592\n"
     ]
    }
   ],
   "source": [
    "from sklearn.ensemble import GradientBoostingClassifier\n",
    "import sklearn.preprocessing as pp\n",
    "\n",
    "M_train_A_randomized=M_train_A.sample(frac=1)\n",
    "for count in range(5):\n",
    "    train = M_train_A_randomized.iloc[290*count:290*(count+1),:]\n",
    "    test= pd.concat([M_train_A_randomized.iloc[:290*count,:],M_train_A_randomized.iloc[290*(count+1):,:]])\n",
    "    model = GradientBoostingClassifier(max_depth=2, criterion='squared_error')\n",
    "    X_train_set=train.iloc[:,0:251]\n",
    "    Y_train_set=train[\"class A\"]\n",
    "    X_test_set=test.iloc[:,0:251]\n",
    "    Y_test_set=test[\"class A\"]\n",
    "    model.fit(X_train_set,Y_train_set)\n",
    "    leaves=pd.DataFrame(model.apply(X_train_set)[:,:,0])\n",
    "    enc=pp.OneHotEncoder().fit(leaves)\n",
    "    x_enc=enc.transform(leaves)\n",
    "    logreg=LogisticRegression(max_iter=1000).fit(x_enc, Y_train_set)\n",
    "    leaves2=pd.DataFrame(model.apply(X_test_set)[:,:,0])\n",
    "    X_set2_enc=enc.transform(leaves2)\n",
    "    print(logreg.score(X_set2_enc, Y_test_set))\n"
   ],
   "metadata": {
    "collapsed": false,
    "pycharm": {
     "name": "#%%\n"
    }
   }
  },
  {
   "cell_type": "code",
   "execution_count": 140,
   "outputs": [],
   "source": [
    "# Training Using Whole Datasets\n",
    "model = GradientBoostingClassifier(max_depth=2, criterion='squared_error')\n",
    "model.fit(X_train,Y_train_A)\n",
    "leaves=pd.DataFrame(model.apply(X_train)[:,:,0])\n",
    "enc=pp.OneHotEncoder().fit(leaves)\n",
    "x_enc=enc.transform(leaves)\n",
    "logreg=LogisticRegression(max_iter=1000).fit(x_enc, Y_train_A)\n",
    "# logreg.predict(x_enc)\n",
    "\n",
    "# Prediction Using Test Datasets\n",
    "leaves_test=pd.DataFrame(model.apply(X_test)[:,:,0])\n",
    "enc_test=pp.OneHotEncoder().fit(leaves_test)\n",
    "x_enc_test=enc.transform(leaves_test)\n",
    "result_a=logreg.predict(x_enc_test)\n",
    "result_a=pd.DataFrame(result_a)\n",
    "result_a.to_excel('result_a.xlsx')"
   ],
   "metadata": {
    "collapsed": false,
    "pycharm": {
     "name": "#%%\n"
    }
   }
  },
  {
   "cell_type": "code",
   "execution_count": 94,
   "outputs": [
    {
     "data": {
      "text/plain": "array([[-7.97624964e-03, -4.83527242e+00],\n       [-1.94874488e+00, -1.53679006e-01],\n       [-6.09578911e-02, -2.82789608e+00],\n       [-8.70465373e-02, -2.48451997e+00],\n       [-2.17761773e-01, -1.63125942e+00],\n       [-5.19936484e-03, -5.26181736e+00],\n       [-2.14624453e-05, -1.07492166e+01],\n       [-1.19331831e-01, -2.18491982e+00],\n       [-4.52959226e-02, -3.11710073e+00],\n       [-3.93134078e-02, -3.25578196e+00],\n       [-6.23034520e-05, -9.68352488e+00],\n       [-1.77915811e+00, -1.84860997e-01],\n       [-1.37735443e+00, -2.90679899e-01],\n       [-3.35554027e-01, -1.25506219e+00],\n       [-1.09215298e-02, -4.52247502e+00],\n       [-1.43272791e-03, -6.54889130e+00],\n       [-4.02962978e-03, -5.51609491e+00],\n       [-4.92991098e-04, -7.61526593e+00],\n       [-1.10772372e+00, -4.00940337e-01],\n       [-1.20718510e-02, -4.42290875e+00],\n       [-5.39519840e-04, -7.52510075e+00],\n       [-4.35243226e+00, -1.29590651e-02],\n       [-4.43411304e-01, -1.02678429e+00],\n       [-3.43426424e-03, -5.67566921e+00],\n       [-3.94339270e-03, -5.53768488e+00],\n       [-4.12330098e+00, -1.63234862e-02],\n       [-8.23795457e-02, -2.53732513e+00],\n       [-9.70559882e-03, -4.63990124e+00],\n       [-9.33082917e-01, -4.99785469e-01],\n       [-8.35696443e-02, -2.52356877e+00],\n       [-3.20001690e-02, -3.45797151e+00],\n       [-4.37120772e-01, -1.03815734e+00],\n       [-4.16040180e-01, -1.07779184e+00],\n       [-1.32159056e-01, -2.08910099e+00],\n       [-7.95605536e-02, -2.57075341e+00],\n       [-1.31835157e+00, -3.11395723e-01],\n       [-4.57410287e-01, -1.00217713e+00],\n       [-8.34257781e-04, -7.08938521e+00],\n       [-9.27051192e-04, -6.98396526e+00],\n       [-4.94938044e-01, -9.40605645e-01],\n       [-5.98255219e-03, -5.12189780e+00],\n       [-1.53778976e-01, -1.94814328e+00],\n       [-3.22868801e-03, -5.73729332e+00],\n       [-1.02049478e-03, -6.88797790e+00],\n       [-4.13991503e+00, -1.60523569e-02],\n       [-9.37044442e-03, -4.67487632e+00],\n       [-6.23151732e-05, -9.68333677e+00],\n       [-9.40564076e-02, -2.41052022e+00],\n       [-6.39124172e-02, -2.78202763e+00],\n       [-2.96572713e-04, -8.12336642e+00],\n       [-1.11857045e-01, -2.24594085e+00],\n       [-1.29584532e-02, -4.35247917e+00],\n       [-2.79556221e-04, -8.18244691e+00],\n       [-1.12516893e+00, -3.92446661e-01],\n       [-2.35944365e-01, -1.55981293e+00],\n       [-2.86371438e-04, -8.15836404e+00],\n       [-3.22403763e-03, -5.73873237e+00],\n       [-3.81155553e-03, -5.57162307e+00],\n       [-2.45655559e-01, -1.52413949e+00],\n       [-3.19124995e-01, -1.29749515e+00],\n       [-1.17666434e-03, -6.74565995e+00],\n       [-2.57037997e-04, -8.26641515e+00],\n       [-1.33444430e-04, -8.92189214e+00],\n       [-1.14311612e-01, -2.22543852e+00],\n       [-8.53462625e-04, -7.06663551e+00],\n       [-1.01208223e-02, -4.59821651e+00],\n       [-7.64640743e-02, -2.60892270e+00],\n       [-1.45466660e-01, -1.99966016e+00],\n       [-7.22170369e-02, -2.66397052e+00],\n       [-1.13187638e-01, -2.23476839e+00],\n       [-8.88657784e-03, -4.72765325e+00],\n       [-1.26085402e-01, -2.13317620e+00],\n       [-1.87014892e-02, -3.98848829e+00],\n       [-1.49275701e-01, -1.97566990e+00],\n       [-1.59608954e-04, -8.74286358e+00],\n       [-4.47457496e-04, -7.71215273e+00],\n       [-4.27281533e-05, -1.00606739e+01],\n       [-2.11700061e-01, -1.65656817e+00],\n       [-5.86092416e-03, -5.14237701e+00],\n       [-1.63454330e+00, -2.16964465e-01],\n       [-7.41863750e-01, -6.46694074e-01],\n       [-7.63926116e-04, -7.17742142e+00],\n       [-3.93950596e-01, -1.12204686e+00],\n       [-2.97241894e-04, -8.12111291e+00],\n       [-7.98987054e-01, -5.97444970e-01],\n       [-7.42081481e-03, -4.90717453e+00],\n       [-5.63460577e-03, -5.18164407e+00],\n       [-2.54483391e-02, -3.68380199e+00],\n       [-2.30511083e-01, -1.58049888e+00],\n       [-3.80835828e-02, -3.28695335e+00],\n       [-9.04691641e-02, -2.44763979e+00],\n       [-8.35868213e-01, -5.68274578e-01],\n       [-4.21308034e-02, -3.18796758e+00],\n       [-9.94210488e-01, -4.62060001e-01],\n       [-2.03251629e-03, -6.19949679e+00],\n       [-4.86734759e-01, -9.53551462e-01],\n       [-3.59598912e-03, -5.62973364e+00],\n       [-3.28741239e-01, -1.27235606e+00],\n       [-1.58519539e-02, -4.15237802e+00],\n       [-1.73127238e-02, -4.06495744e+00],\n       [-3.65894059e-04, -7.91334966e+00],\n       [-5.38040921e-01, -8.76808084e-01],\n       [-6.62093447e-02, -2.74785569e+00],\n       [-9.92856965e-01, -4.62855835e-01],\n       [-3.10602090e-03, -5.77596543e+00],\n       [-5.15146171e-01, -9.09844712e-01],\n       [-5.34570384e-01, -8.81698398e-01],\n       [-8.32094979e-01, -5.71171574e-01],\n       [-2.99565766e-04, -8.11332636e+00],\n       [-5.89814720e-03, -5.13606463e+00],\n       [-8.66752628e-03, -4.75250248e+00],\n       [-1.04130167e-01, -2.31372689e+00],\n       [-3.95348049e-02, -3.25027614e+00],\n       [-6.95931286e-03, -4.97115217e+00],\n       [-1.49560241e-01, -1.97390430e+00],\n       [-1.74553971e-01, -1.83152906e+00],\n       [-4.50039326e-03, -5.40583985e+00],\n       [-2.05110995e-01, -1.68500718e+00],\n       [-7.12267086e-04, -7.24741371e+00],\n       [-7.21990959e-04, -7.23385891e+00],\n       [-9.53464398e-03, -4.65758691e+00],\n       [-1.26309753e-01, -2.13150824e+00],\n       [-3.25987400e-02, -3.43973673e+00],\n       [-2.85407588e-03, -5.86043387e+00],\n       [-7.32036091e-01, -6.55714176e-01],\n       [-3.15733658e-02, -3.47118651e+00],\n       [-6.42836030e-02, -2.77642031e+00],\n       [-1.54057879e-03, -6.47636729e+00],\n       [-1.59924362e-02, -4.14362497e+00],\n       [-1.06958097e-03, -6.84102307e+00],\n       [-8.28459637e-02, -2.53190928e+00],\n       [-1.45906369e-02, -4.23466171e+00],\n       [-1.53349809e-03, -6.48097047e+00],\n       [-1.32046287e-02, -4.33378290e+00],\n       [-6.78614857e-02, -2.72402549e+00],\n       [-1.43941316e-01, -2.00945710e+00],\n       [-6.06573450e-02, -2.83268992e+00],\n       [-5.31485853e-04, -7.54009971e+00],\n       [-1.45906369e-02, -4.23466171e+00],\n       [-2.26740210e-01, -1.59517926e+00],\n       [-2.24535492e-01, -1.60388944e+00],\n       [-1.15767629e-02, -4.46453819e+00],\n       [-2.41028600e-01, -1.54093453e+00],\n       [-8.21334675e-01, -5.79540344e-01],\n       [-1.15436045e-04, -9.06685162e+00],\n       [-1.56743976e-05, -1.10634897e+01],\n       [-2.01266585e-02, -3.91575650e+00],\n       [-9.93527831e-03, -4.61662692e+00],\n       [-8.35640437e-04, -7.08772993e+00],\n       [-1.38894550e+00, -2.86799919e-01],\n       [-1.62108161e-02, -4.13017106e+00],\n       [-5.36692846e-02, -2.95162905e+00],\n       [-1.49003302e-02, -4.21381282e+00],\n       [-5.41941208e-03, -5.22047642e+00],\n       [-6.42719406e-02, -2.77659598e+00],\n       [-2.49582678e-01, -1.51016225e+00],\n       [-7.63325900e-01, -6.27572195e-01],\n       [-3.08521849e+00, -4.67981949e-02],\n       [-2.34519962e-02, -3.76450274e+00],\n       [-1.86955929e-05, -1.08872321e+01],\n       [-1.50245896e-02, -4.20557000e+00],\n       [-4.73126143e-01, -9.75646632e-01],\n       [-9.52973887e-03, -4.65809905e+00],\n       [-4.25792929e-03, -5.46110053e+00],\n       [-4.58173436e-02, -3.10591378e+00],\n       [-3.65187397e-03, -5.61434021e+00],\n       [-1.43170236e-02, -4.25345596e+00],\n       [-1.15672791e-01, -2.21426879e+00],\n       [-2.82013929e-02, -3.58245147e+00],\n       [-5.47772445e-01, -8.63310384e-01],\n       [-5.56380536e-01, -8.51627876e-01],\n       [-2.15052676e-01, -1.64247237e+00],\n       [-2.63468860e-04, -8.24170711e+00],\n       [-1.09084391e-02, -4.52366782e+00],\n       [-2.71537746e-02, -3.61978538e+00],\n       [-8.74565137e-02, -2.48002318e+00],\n       [-4.91795734e-05, -9.92005679e+00],\n       [-1.24151164e-03, -6.69204627e+00],\n       [-1.38492962e-02, -4.28643752e+00],\n       [-2.34288443e-02, -3.76547890e+00],\n       [-1.50341329e-02, -4.20493978e+00],\n       [-2.09130427e-02, -3.87782056e+00],\n       [-8.09587039e-01, -5.88862507e-01],\n       [-4.20143434e-03, -5.47442928e+00],\n       [-4.38741285e-01, -1.03520826e+00],\n       [-7.12490069e-02, -2.67698739e+00],\n       [-7.31280768e+00, -6.67164366e-04],\n       [-6.34228344e-03, -5.06368588e+00],\n       [-4.89339435e-04, -7.62269883e+00],\n       [-3.05805129e-02, -3.50264360e+00],\n       [-9.15486906e-05, -9.29868536e+00],\n       [-3.66038184e+00, -2.60593023e-02],\n       [-7.73452917e-03, -4.86592544e+00],\n       [-4.77643442e-05, -9.94925502e+00],\n       [-4.10174719e+00, -1.66821212e-02],\n       [-8.13361970e-03, -4.81581328e+00],\n       [-1.72681879e-03, -6.36233770e+00],\n       [-6.78473733e-03, -4.99647015e+00],\n       [-1.18514680e-02, -4.44122342e+00],\n       [-9.42936180e-03, -4.66863784e+00],\n       [-9.77747539e-03, -4.63255872e+00],\n       [-3.57904246e-04, -7.93542402e+00],\n       [-9.16544433e-01, -5.10656525e-01],\n       [-2.49225809e+00, -8.63457368e-02],\n       [-2.45084070e-01, -1.52619451e+00],\n       [-1.35040745e+00, -2.99936392e-01],\n       [-1.41299044e-04, -8.86470268e+00],\n       [-2.73590769e-04, -8.20401390e+00],\n       [-3.32173661e-03, -5.70892796e+00],\n       [-6.96258812e-04, -7.27013722e+00],\n       [-4.49467724e-02, -3.12466554e+00],\n       [-1.84388626e-03, -6.29680164e+00],\n       [-4.39961452e-03, -5.42843735e+00],\n       [-7.74040425e-01, -6.18310753e-01],\n       [-9.31971260e-01, -5.00506893e-01],\n       [-3.97862665e-03, -5.52880724e+00],\n       [-2.72279233e-04, -8.20881856e+00],\n       [-1.31301650e-01, -2.09519052e+00],\n       [-6.32506403e-02, -2.79210866e+00],\n       [-1.12409641e-02, -4.49380588e+00],\n       [-1.35732120e-02, -4.30643607e+00],\n       [-6.55559080e-03, -5.03071304e+00],\n       [-1.78896771e-02, -4.03246293e+00],\n       [-1.72636372e-01, -1.84164448e+00],\n       [-1.34202211e-02, -4.31769528e+00],\n       [-1.14292665e-03, -6.77473448e+00],\n       [-5.48850381e-03, -5.20784259e+00],\n       [-4.97507750e-01, -9.36606126e-01],\n       [-1.45906369e-02, -4.23466171e+00],\n       [-7.30350919e-03, -4.92304987e+00],\n       [-3.99599148e-03, -5.52446088e+00],\n       [-4.46806198e-06, -1.23185580e+01],\n       [-6.69253222e-04, -7.30968267e+00],\n       [-1.60203842e-01, -1.91034103e+00],\n       [-1.19074806e-02, -4.43653629e+00],\n       [-5.91837157e-03, -5.13265167e+00],\n       [-1.17914030e-01, -2.19617724e+00],\n       [-4.73659213e-04, -7.65525928e+00],\n       [-1.36665349e-01, -2.05777462e+00],\n       [-2.18866614e-01, -1.62673096e+00],\n       [-2.31785406e-02, -3.77609529e+00],\n       [-7.71877329e-04, -7.16707084e+00],\n       [-8.32504808e-02, -2.52723785e+00],\n       [-2.44611218e-02, -3.72287592e+00],\n       [-6.66867320e-01, -7.20136355e-01],\n       [-2.04770735e-03, -6.19205816e+00],\n       [-2.47888775e-02, -3.70972905e+00],\n       [-2.83679646e-03, -5.86649793e+00],\n       [-3.21582897e-05, -1.03448564e+01],\n       [-3.58688337e-04, -7.93323603e+00],\n       [-1.08406617e-03, -6.82757832e+00],\n       [-4.39475448e-03, -5.42954018e+00],\n       [-1.30026572e+00, -3.18085456e-01],\n       [-4.63077932e-02, -3.09550956e+00],\n       [-7.56298619e-02, -2.61948069e+00],\n       [-1.66994485e-02, -4.10071769e+00],\n       [-1.60744434e-02, -4.13855109e+00],\n       [-3.04887857e-02, -3.50560201e+00],\n       [-2.00657112e+00, -1.44388858e-01],\n       [-2.19054016e-01, -1.62596538e+00],\n       [-1.16407345e+00, -3.74274349e-01],\n       [-2.67440983e-04, -8.22674536e+00],\n       [-4.17870350e-01, -1.07425414e+00],\n       [-6.14917339e-03, -5.09451063e+00],\n       [-2.76977646e-02, -3.60022049e+00],\n       [-3.95584445e-04, -7.83534406e+00],\n       [-1.31186940e-01, -2.09600844e+00],\n       [-6.10585873e-01, -7.83143286e-01],\n       [-3.45405318e-01, -1.23077327e+00],\n       [-4.90147347e-02, -3.04004158e+00],\n       [-1.65500618e-01, -1.88038965e+00],\n       [-2.01274939e-02, -3.91571541e+00],\n       [-1.69231485e+00, -2.03454758e-01],\n       [-9.33082917e-01, -4.99785469e-01],\n       [-5.37927669e-04, -7.52805540e+00],\n       [-2.33650899e-01, -1.56847895e+00],\n       [-1.31310142e-03, -6.63601992e+00],\n       [-1.38517469e-03, -6.58262152e+00],\n       [-1.73776337e-02, -4.06124755e+00],\n       [-1.22909326e-02, -4.40503265e+00],\n       [-1.58336114e-02, -4.15352666e+00],\n       [-3.16305324e-03, -5.75779861e+00],\n       [-4.01345156e-03, -5.52010972e+00],\n       [-5.85971537e-05, -9.74485373e+00],\n       [-3.33731282e-03, -5.70425753e+00],\n       [-3.34666100e-01, -1.25729263e+00],\n       [-6.50654066e-01, -7.37526403e-01],\n       [-2.26908392e-01, -1.59451871e+00],\n       [-4.55465765e-02, -3.11170667e+00],\n       [-5.53081042e-01, -8.56077817e-01],\n       [-1.51335020e-01, -1.96297265e+00],\n       [-5.60190135e-01, -8.46532578e-01],\n       [-3.34121695e-02, -3.41549466e+00],\n       [-6.19323042e-04, -7.38719319e+00],\n       [-2.60627590e-04, -8.25254834e+00],\n       [-1.29980038e-01, -2.10466056e+00],\n       [-4.59099056e-06, -1.22914170e+01],\n       [-8.34111153e-02, -2.52538938e+00],\n       [-1.45629331e-03, -6.53258896e+00],\n       [-2.30100895e-02, -3.78330547e+00]])"
     },
     "execution_count": 94,
     "metadata": {},
     "output_type": "execute_result"
    }
   ],
   "source": [
    "logreg.predict_log_proba(x_enc_test)"
   ],
   "metadata": {
    "collapsed": false,
    "pycharm": {
     "name": "#%%\n"
    }
   }
  },
  {
   "cell_type": "code",
   "execution_count": 83,
   "outputs": [
    {
     "name": "stdout",
     "output_type": "stream",
     "text": [
      "0.7839931153184165\n",
      "0.7779690189328744\n",
      "0.7917383820998278\n",
      "0.7641996557659209\n",
      "0.7848537005163512\n"
     ]
    }
   ],
   "source": [
    "from sklearn.ensemble import GradientBoostingClassifier\n",
    "import sklearn.preprocessing as pp\n",
    "\n",
    "M_train_B_randomized=M_train_B.sample(frac=1)\n",
    "for count in range(5):\n",
    "    train = M_train_B_randomized.iloc[290*count:290*(count+1),:]\n",
    "    test= pd.concat([M_train_B_randomized.iloc[:290*count,:],M_train_B_randomized.iloc[290*(count+1):,:]])\n",
    "    model = GradientBoostingClassifier(max_depth=2, criterion='squared_error')\n",
    "    X_train_set=train.iloc[:,0:251]\n",
    "    Y_train_set=train[\"class B\"]\n",
    "    X_test_set=test.iloc[:,0:251]\n",
    "    Y_test_set=test[\"class B\"]\n",
    "    model.fit(X_train_set,Y_train_set)\n",
    "    leaves=pd.DataFrame(model.apply(X_train_set)[:,:,0])\n",
    "    enc=pp.OneHotEncoder().fit(leaves)\n",
    "    x_enc=enc.transform(leaves)\n",
    "    logreg=LogisticRegression(max_iter=1000).fit(x_enc, Y_train_set)\n",
    "    leaves2=pd.DataFrame(model.apply(X_test_set)[:,:,0])\n",
    "    X_set2_enc=enc.transform(leaves2)\n",
    "    print(logreg.score(X_set2_enc, Y_test_set))\n"
   ],
   "metadata": {
    "collapsed": false,
    "pycharm": {
     "name": "#%%\n"
    }
   }
  },
  {
   "cell_type": "code",
   "execution_count": 138,
   "outputs": [],
   "source": [
    "# Training Using Whole Datasets\n",
    "model = GradientBoostingClassifier(max_depth=2, criterion='squared_error')\n",
    "model.fit(X_train,Y_train_B)\n",
    "leaves=pd.DataFrame(model.apply(X_train)[:,:,0])\n",
    "enc=pp.OneHotEncoder().fit(leaves)\n",
    "x_enc=enc.transform(leaves)\n",
    "logreg=LogisticRegression(max_iter=1000).fit(x_enc, Y_train_B)\n",
    "# logreg.predict(x_enc)\n",
    "\n",
    "# Prediction Using Test Datasets\n",
    "leaves_test=pd.DataFrame(model.apply(X_test)[:,:,0])\n",
    "enc_test=pp.OneHotEncoder().fit(leaves_test)\n",
    "x_enc_test=enc.transform(leaves_test)\n",
    "result_b=logreg.predict(x_enc_test)\n",
    "result_b=pd.DataFrame(result_b)\n",
    "result_b.to_excel('result_b.xlsx')\n"
   ],
   "metadata": {
    "collapsed": false,
    "pycharm": {
     "name": "#%%\n"
    }
   }
  },
  {
   "cell_type": "code",
   "execution_count": 134,
   "outputs": [
    {
     "data": {
      "text/plain": "array([[-4.30731480e-01, -1.04991766e+00],\n       [-3.40232333e-02, -3.39767504e+00],\n       [-3.45475531e-02, -3.38264260e+00],\n       [-6.58845934e-02, -2.75261209e+00],\n       [-1.56649121e-01, -1.93104919e+00],\n       [-8.72435176e-03, -4.74599611e+00],\n       [-6.43241214e-02, -2.77581025e+00],\n       [-1.18366670e-01, -2.19256773e+00],\n       [-8.26523716e-04, -7.09869518e+00],\n       [-3.62373952e-02, -3.33572766e+00],\n       [-1.14834327e-04, -9.07207752e+00],\n       [-4.39916580e-05, -1.00315325e+01],\n       [-2.44713909e-03, -6.01405897e+00],\n       [-8.91768642e-02, -2.46139074e+00],\n       [-2.24428911e-02, -3.80798183e+00],\n       [-2.21851926e-02, -3.81940230e+00],\n       [-7.07875231e-05, -9.55586319e+00],\n       [-4.90645165e-05, -9.92239899e+00],\n       [-2.00439050e-02, -3.91983537e+00],\n       [-3.83880970e-03, -5.56451173e+00],\n       [-2.15009317e-02, -3.85039021e+00],\n       [-2.47934731e-02, -3.70954596e+00],\n       [-7.29283431e-01, -6.58271345e-01],\n       [-2.94957860e-01, -1.36477933e+00],\n       [-1.32687904e-02, -4.32896765e+00],\n       [-7.15102659e-05, -9.54570529e+00],\n       [-4.63023850e+00, -9.80029935e-03],\n       [-1.20733060e+01, -5.70993388e-06],\n       [-7.10392801e-02, -2.67983169e+00],\n       [-8.69242084e-02, -2.48586601e+00],\n       [-6.50706388e-02, -2.76464075e+00],\n       [-3.71933621e-04, -7.89698112e+00],\n       [-3.21048497e-03, -5.74293809e+00],\n       [-3.98067493e-02, -3.24355615e+00],\n       [-7.45937212e-04, -7.20124207e+00],\n       [-4.94141385e-04, -7.61293594e+00],\n       [-2.22882510e-02, -3.81481903e+00],\n       [-2.80227161e-03, -5.87872571e+00],\n       [-5.46255243e-03, -5.21256915e+00],\n       [-1.01602204e-02, -4.59435096e+00],\n       [-7.31843253e-04, -7.22031010e+00],\n       [-2.71017489e-01, -1.43802210e+00],\n       [-6.57578799e-04, -7.32727473e+00],\n       [-4.36003916e-01, -1.04019771e+00],\n       [-1.54135293e-01, -1.94600247e+00],\n       [-4.43323412e-04, -7.72143266e+00],\n       [-1.99875328e-01, -1.70833509e+00],\n       [-3.58016102e-02, -3.34760981e+00],\n       [-1.23780123e-01, -2.15050023e+00],\n       [-1.24811477e-01, -2.14270761e+00],\n       [-1.94830542e-01, -1.73145926e+00],\n       [-1.76522168e-02, -4.04570703e+00],\n       [-1.72488519e-04, -8.66526613e+00],\n       [-1.25814151e-01, -2.13519707e+00],\n       [-2.89522406e-02, -3.55654888e+00],\n       [-2.68061077e-02, -3.63249863e+00],\n       [-3.52322328e-04, -7.95114025e+00],\n       [-2.40541898e-04, -8.33273654e+00],\n       [-5.58516226e-02, -2.91285254e+00],\n       [-1.98108288e+00, -1.48406979e-01],\n       [-1.34005759e-04, -8.91769478e+00],\n       [-2.25898887e-03, -6.09396725e+00],\n       [-8.21641175e-05, -9.40683296e+00],\n       [-9.19267106e-03, -4.69394155e+00],\n       [-6.45413022e-04, -7.34594279e+00],\n       [-3.87824274e-04, -7.85515213e+00],\n       [-7.15207555e-01, -6.71562981e-01],\n       [-1.27399554e-02, -4.36937534e+00],\n       [-1.58446282e-02, -4.15283660e+00],\n       [-1.27905616e+01, -2.78695712e-06],\n       [-8.11437403e-03, -4.81817266e+00],\n       [-1.33349683e-01, -2.08071443e+00],\n       [-1.53244366e+00, -2.43355409e-01],\n       [-1.15974489e+00, -3.76245440e-01],\n       [-1.25001252e-02, -4.38826017e+00],\n       [-4.13641205e-01, -1.08245795e+00],\n       [-3.03524461e-02, -3.51001601e+00],\n       [-2.74512491e+00, -6.63965405e-02],\n       [-2.25772988e-01, -1.59898876e+00],\n       [-5.52226119e-03, -5.20172773e+00],\n       [-7.49296300e-05, -9.49899862e+00],\n       [-1.36675220e-04, -8.89797144e+00],\n       [-1.43847401e-02, -4.24877110e+00],\n       [-1.31339136e-02, -4.33911734e+00],\n       [-4.88963042e-04, -7.62346812e+00],\n       [-2.44634551e-04, -8.31586741e+00],\n       [-2.64794046e-02, -3.64459852e+00],\n       [-1.55661164e-01, -1.93689485e+00],\n       [-8.59774450e-02, -2.49635102e+00],\n       [-1.99601760e-01, -1.70957249e+00],\n       [-6.46018048e-01, -7.42607802e-01],\n       [-1.37425448e-01, -2.05259965e+00],\n       [-1.55914795e-05, -1.10687938e+01],\n       [-9.54527010e-02, -2.39647118e+00],\n       [-2.08011183e-03, -6.17637350e+00],\n       [-3.68606613e-03, -5.60503795e+00],\n       [-4.59349588e+00, -1.01689562e-02],\n       [-2.75184386e+00, -6.59369339e-02],\n       [-7.33105208e-04, -7.21858787e+00],\n       [-4.91441289e-03, -5.31803919e+00],\n       [-8.41487959e-02, -2.51694804e+00],\n       [-4.10088246e-03, -5.49860283e+00],\n       [-7.98703761e-04, -7.13291977e+00],\n       [-7.05421207e-02, -2.68660902e+00],\n       [-1.44646528e-02, -4.24327096e+00],\n       [-1.25722265e-01, -2.13588268e+00],\n       [-8.65748748e-02, -2.48972079e+00],\n       [-6.69029883e-03, -5.01044002e+00],\n       [-4.79841237e-04, -7.64229518e+00],\n       [-2.74257080e+00, -6.65721209e-02],\n       [-2.13331715e-03, -6.15114363e+00],\n       [-1.39949987e+01, -8.35698237e-07],\n       [-6.23634001e+00, -1.95892250e-03],\n       [-4.30785157e-03, -5.44946913e+00],\n       [-1.53538914e-02, -4.18405345e+00],\n       [-1.69269263e-03, -6.38228097e+00],\n       [-1.50136781e-01, -1.97033788e+00],\n       [-2.26657881e+00, -1.09442431e-01],\n       [-1.56180969e-03, -6.46269087e+00],\n       [-4.30491983e-02, -3.16685905e+00],\n       [-3.29070825e-04, -8.01940209e+00],\n       [-3.75359925e-01, -1.16168612e+00],\n       [-4.28856301e-03, -5.45394708e+00],\n       [-1.27279431e+01, -2.96705230e-06],\n       [-9.20238023e-01, -5.08202726e-01],\n       [-1.94848523e-03, -6.24167710e+00],\n       [-3.44293648e+00, -3.24928885e-02],\n       [-3.91955353e-02, -3.25872619e+00],\n       [-1.69920199e-03, -6.37844603e+00],\n       [-1.86339067e-04, -8.58803577e+00],\n       [-3.00787904e-02, -3.51893669e+00],\n       [-1.72488519e-04, -8.66526613e+00],\n       [-1.14343227e-04, -9.07636304e+00],\n       [-1.91498229e-03, -6.25900424e+00],\n       [-6.40477051e-02, -2.77998002e+00],\n       [-4.67551041e+00, -9.36447665e-03],\n       [-5.08206981e-02, -3.00475430e+00],\n       [-3.81251662e-04, -7.87224149e+00],\n       [-7.07875231e-05, -9.55586319e+00],\n       [-2.29968148e+00, -1.05683660e-01],\n       [-6.06747174e-02, -2.83241216e+00],\n       [-5.38099424e-05, -9.83007921e+00],\n       [-4.92194860e-03, -5.31651073e+00],\n       [-1.94543305e-01, -1.73279568e+00],\n       [-3.09863997e-02, -3.48966008e+00],\n       [-2.92794922e-02, -3.54547196e+00],\n       [-4.81827409e-03, -5.33774766e+00],\n       [-5.16107459e-02, -2.98971976e+00],\n       [-9.09630080e-03, -4.70443216e+00],\n       [-3.21792829e-02, -3.45247892e+00],\n       [-3.41385391e-03, -5.68161989e+00],\n       [-2.13750125e-02, -3.85620115e+00],\n       [-9.85222431e-03, -4.62498010e+00],\n       [-7.08260267e-04, -7.25305303e+00],\n       [-2.83553502e-02, -3.57708372e+00],\n       [-4.50578231e-02, -3.12225298e+00],\n       [-6.10235043e-02, -2.82685277e+00],\n       [-6.78415991e-03, -4.99655497e+00],\n       [-1.34110598e+01, -1.49848040e-06],\n       [-2.62593624e+00, -7.51244541e-02],\n       [-6.15138683e-03, -5.09415184e+00],\n       [-7.27653704e-03, -4.92673627e+00],\n       [-9.18873166e+00, -1.02189608e-04],\n       [-1.71789941e-05, -1.09718318e+01],\n       [-3.45046382e-02, -3.38386423e+00],\n       [-1.02697257e-03, -6.88165350e+00],\n       [-1.15516569e-02, -4.46669666e+00],\n       [-2.97445756e-01, -1.35756258e+00],\n       [-5.20515030e-02, -2.98143447e+00],\n       [-7.10392801e-02, -2.67983169e+00],\n       [-4.71135523e-05, -9.96297342e+00],\n       [-7.44722325e-02, -2.63433398e+00],\n       [-6.46040437e-01, -7.42583143e-01],\n       [-1.35599337e+00, -2.97989929e-01],\n       [-4.17419282e-02, -3.19704755e+00],\n       [-4.21155604e-01, -1.06795110e+00],\n       [-4.84964033e-01, -9.56382113e-01],\n       [-6.31165909e-05, -9.67055845e+00],\n       [-8.70792282e-01, -5.42350266e-01],\n       [-2.36684375e-02, -3.75542375e+00],\n       [-4.68508713e-02, -3.08411965e+00],\n       [-3.33482403e-05, -1.03085222e+01],\n       [-2.15350018e-02, -3.84882386e+00],\n       [-9.50236555e-02, -2.40076504e+00],\n       [-3.40821921e-03, -5.68326898e+00],\n       [-2.25795161e-03, -6.09442601e+00],\n       [-2.29165490e-03, -6.07962667e+00],\n       [-1.66723554e+00, -2.09201430e-01],\n       [-1.25211344e-01, -2.13970473e+00],\n       [-1.33181292e-01, -2.08189568e+00],\n       [-3.23426356e-01, -1.28614228e+00],\n       [-1.88929532e+00, -1.63906130e-01],\n       [-8.84120055e-04, -7.03135972e+00],\n       [-4.52195326e-01, -1.01123316e+00],\n       [-5.53804100e-03, -5.19888219e+00],\n       [-8.85258649e-03, -4.73146863e+00],\n       [-9.12398287e-04, -6.99989011e+00],\n       [-2.73678938e-02, -3.61203745e+00],\n       [-1.81116321e-06, -1.32215422e+01],\n       [-3.72081439e-04, -7.89658384e+00],\n       [-2.48993361e-03, -5.99674394e+00],\n       [-5.51832161e-03, -5.20243941e+00],\n       [-1.03118511e+00, -4.40963983e-01],\n       [-1.55748971e-03, -6.46545856e+00],\n       [-3.67335894e+00, -2.57189547e-02],\n       [-1.03378033e-02, -4.57711232e+00],\n       [-4.16063961e-03, -5.48416606e+00],\n       [-8.34539084e-01, -5.69292848e-01],\n       [-1.93870262e-07, -1.54560768e+01],\n       [-8.10240654e-04, -7.11858434e+00],\n       [-2.16997984e-02, -3.84128259e+00],\n       [-7.61647068e-02, -2.61269774e+00],\n       [-3.14895889e-05, -1.03658693e+01],\n       [-1.71643643e-03, -6.36836308e+00],\n       [-1.65465692e-02, -4.10983838e+00],\n       [-9.60113887e-03, -4.65067028e+00],\n       [-1.30035194e+01, -2.25239100e-06],\n       [-1.15439602e-01, -2.21617241e+00],\n       [-3.40931091e-03, -5.68294926e+00],\n       [-6.99919093e+00, -9.13036731e-04],\n       [-7.13668757e-05, -9.54771241e+00],\n       [-2.24835724e-03, -6.09867941e+00],\n       [-3.26290122e+00, -3.90290051e-02],\n       [-2.14869921e-05, -1.07480736e+01],\n       [-1.18507395e-02, -4.44128452e+00],\n       [-1.13766226e+01, -1.14603546e-05],\n       [-6.69931789e-01, -7.16914362e-01],\n       [-2.27562690e-03, -6.08663730e+00],\n       [-7.07875231e-05, -9.55586319e+00],\n       [-1.47107426e-02, -4.22652362e+00],\n       [-4.21323159e-03, -5.47163120e+00],\n       [-1.24707833e-05, -1.12921282e+01],\n       [-6.15230694e-03, -5.09400273e+00],\n       [-3.26518069e-04, -8.02718852e+00],\n       [-3.45687906e-05, -1.02725766e+01],\n       [-1.15835610e-02, -4.46395453e+00],\n       [-1.42308689e+00, -2.75712691e-01],\n       [-1.15172082e-03, -6.76707389e+00],\n       [-2.49687714e-01, -1.50979182e+00],\n       [-1.94500656e-01, -1.73299430e+00],\n       [-3.29057200e-02, -3.43051652e+00],\n       [-2.16427394e-01, -1.63676291e+00],\n       [-3.69516060e-01, -1.17463631e+00],\n       [-7.70947866e-03, -4.86915698e+00],\n       [-1.52206690e-01, -1.95765412e+00],\n       [-1.96215161e-01, -1.72504737e+00],\n       [-1.44031401e-03, -6.54361420e+00],\n       [-4.32246842e+00, -1.33558884e-02],\n       [-2.86207245e-01, -1.39073194e+00],\n       [-1.06601705e-02, -4.54656622e+00],\n       [-1.56931381e-02, -4.16236803e+00],\n       [-9.02449211e-01, -5.20160901e-01],\n       [-5.99114435e-02, -2.84469392e+00],\n       [-3.30886789e-01, -1.26686462e+00],\n       [-2.42870811e+00, -9.22804778e-02],\n       [-7.19415954e-06, -1.18422446e+01],\n       [-6.68094268e+00, -1.25538239e-03],\n       [-8.62320446e-01, -5.48495120e-01],\n       [-1.46942902e+00, -2.61438539e-01],\n       [-1.34005759e-04, -8.91769478e+00],\n       [-8.77187500e-05, -9.34141874e+00],\n       [-1.45615466e-03, -6.53268410e+00],\n       [-3.26518069e-04, -8.02718852e+00],\n       [-2.97722984e-01, -1.35676273e+00],\n       [-7.99032593e-05, -9.43473386e+00],\n       [-1.76344182e-01, -1.82219432e+00],\n       [-4.40361653e-01, -1.03227286e+00],\n       [-8.63047165e-02, -2.49271305e+00],\n       [-1.72616538e+00, -1.95972954e-01],\n       [-2.52593036e-04, -8.28385721e+00],\n       [-3.44986316e-02, -3.38403534e+00],\n       [-1.32410188e-04, -8.92967217e+00],\n       [-5.84286791e-02, -2.86902053e+00],\n       [-3.05235755e-01, -1.33540969e+00],\n       [-3.34157535e+00, -3.60222568e-02],\n       [-2.77100228e+00, -6.46443735e-02],\n       [-6.80451208e-04, -7.29309464e+00],\n       [-3.89588619e+00, -2.05347566e-02],\n       [-4.47970889e-01, -1.01866483e+00],\n       [-6.44681818e-03, -5.04739025e+00],\n       [-4.89623058e-03, -5.32173676e+00],\n       [-4.69677828e-02, -3.08168536e+00],\n       [-9.53862660e-01, -4.86539689e-01],\n       [-1.76049699e-01, -1.82372273e+00],\n       [-6.21162618e-04, -7.38422821e+00],\n       [-4.00180756e-03, -5.52300937e+00],\n       [-4.53157148e-01, -1.00955317e+00],\n       [-3.64621457e+00, -2.64360770e-02],\n       [-1.15974489e+00, -3.76245440e-01],\n       [-6.41005729e-01, -7.48157643e-01],\n       [-5.12419557e-02, -2.99670821e+00],\n       [-1.53238442e-01, -1.95140112e+00],\n       [-5.08900298e-03, -5.28321677e+00],\n       [-1.78267156e-01, -1.81228177e+00],\n       [-2.31012360e-01, -1.57856762e+00],\n       [-3.98472711e-04, -7.82807077e+00],\n       [-5.19388941e-03, -5.26286828e+00],\n       [-9.16112257e-01, -5.10944625e-01],\n       [-2.76827675e-02, -3.60075462e+00],\n       [-7.02423209e-01, -6.83956407e-01]])"
     },
     "execution_count": 134,
     "metadata": {},
     "output_type": "execute_result"
    }
   ],
   "source": [
    "logreg.predict_log_proba(x_enc_test)"
   ],
   "metadata": {
    "collapsed": false,
    "pycharm": {
     "name": "#%%\n"
    }
   }
  },
  {
   "cell_type": "code",
   "execution_count": 56,
   "outputs": [
    {
     "name": "stdout",
     "output_type": "stream",
     "text": [
      "[0.78021978 0.74725275 0.74444444 0.74444444 0.73333333]\n"
     ]
    }
   ],
   "source": [
    "DT_A=pd.DataFrame(model.predict(X_set1))\n",
    "logreg=LogisticRegression(max_iter=1000).fit(x_enc, Y_set1)\n",
    "leaves2=pd.DataFrame(model.apply(X_set2)[:,:,0])\n",
    "X_set2_enc=enc.transform(leaves2)\n",
    "\n",
    "scores= cross_val_score(logreg,X_set2_enc, Y_set2, cv=5)\n",
    "print(scores)\n",
    "\n",
    "# model.fit(X_train, Y_train_A)"
   ],
   "metadata": {
    "collapsed": false,
    "pycharm": {
     "name": "#%%\n"
    }
   }
  }
 ],
 "metadata": {
  "kernelspec": {
   "display_name": "Python 3",
   "language": "python",
   "name": "python3"
  },
  "language_info": {
   "codemirror_mode": {
    "name": "ipython",
    "version": 2
   },
   "file_extension": ".py",
   "mimetype": "text/x-python",
   "name": "python",
   "nbconvert_exporter": "python",
   "pygments_lexer": "ipython2",
   "version": "2.7.6"
  }
 },
 "nbformat": 4,
 "nbformat_minor": 0
}