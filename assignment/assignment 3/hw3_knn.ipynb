{
 "cells": [
  {
   "cell_type": "markdown",
   "metadata": {
    "id": "f7MWUDI2IBYW"
   },
   "source": [
    "## Colab Setup"
   ]
  },
  {
   "cell_type": "code",
   "execution_count": 2,
   "metadata": {
    "colab": {
     "base_uri": "https://localhost:8080/"
    },
    "executionInfo": {
     "elapsed": 20347,
     "status": "ok",
     "timestamp": 1631357877534,
     "user": {
      "displayName": "­하성수 / 학생 / 데이터사이언스학과",
      "photoUrl": "https://lh3.googleusercontent.com/a/default-user=s64",
      "userId": "12292320467331069884"
     },
     "user_tz": -540
    },
    "id": "JsEbh_t58ZJo",
    "outputId": "c8b8b884-634b-4720-ad61-a4bcaa8feeee"
   },
   "outputs": [
    {
     "ename": "ModuleNotFoundError",
     "evalue": "No module named 'google.colab'",
     "output_type": "error",
     "traceback": [
      "\u001b[1;31m---------------------------------------------------------------------------\u001b[0m",
      "\u001b[1;31mModuleNotFoundError\u001b[0m                       Traceback (most recent call last)",
      "Input \u001b[1;32mIn [2]\u001b[0m, in \u001b[0;36m<cell line: 1>\u001b[1;34m()\u001b[0m\n\u001b[1;32m----> 1\u001b[0m \u001b[38;5;28;01mfrom\u001b[39;00m \u001b[38;5;21;01mgoogle\u001b[39;00m\u001b[38;5;21;01m.\u001b[39;00m\u001b[38;5;21;01mcolab\u001b[39;00m \u001b[38;5;28;01mimport\u001b[39;00m drive\n\u001b[0;32m      2\u001b[0m drive\u001b[38;5;241m.\u001b[39mmount(\u001b[38;5;124m'\u001b[39m\u001b[38;5;124m/content/drive\u001b[39m\u001b[38;5;124m'\u001b[39m)\n",
      "\u001b[1;31mModuleNotFoundError\u001b[0m: No module named 'google.colab'"
     ]
    }
   ],
   "source": [
    "from google.colab import drive\n",
    "drive.mount('/content/drive')"
   ]
  },
  {
   "cell_type": "code",
   "execution_count": null,
   "metadata": {
    "id": "_GXMM3Js7hII"
   },
   "outputs": [],
   "source": [
    "\"\"\"\n",
    "Change directory to where this file is located\n",
    "\"\"\"\n",
    "#%cd 'COPY&PASTE FILE DIRECTORY HERE'\n"
   ]
  },
  {
   "cell_type": "markdown",
   "metadata": {
    "id": "rR3VeoqMIFbq"
   },
   "source": [
    "## Import Modules"
   ]
  },
  {
   "cell_type": "code",
   "execution_count": 1,
   "metadata": {
    "id": "JAC2qQEy7rM8"
   },
   "outputs": [],
   "source": [
    "import numpy as np\n",
    "import matplotlib.pyplot as plt\n",
    "from mnist.data_utils import load_data\n",
    "import time"
   ]
  },
  {
   "cell_type": "markdown",
   "metadata": {
    "id": "jMw488CqIOhm"
   },
   "source": [
    "## K-Nearest Neighbor Implementation"
   ]
  },
  {
   "cell_type": "code",
   "execution_count": 2,
   "metadata": {
    "id": "zpsV2Bb3r3s4"
   },
   "outputs": [
    {
     "name": "stdout",
     "output_type": "stream",
     "text": [
      "[1. 1.]\n"
     ]
    }
   ],
   "source": [
    "class KNN:\n",
    "    \"\"\" k-nearest neighbor classifier class \"\"\"\n",
    "\n",
    "    def train(self, X, y):\n",
    "        \"\"\"\n",
    "        Train the classifier using the given training data (X, y).\n",
    "        Recall that for k-nearest neighbors this is just memorizing the training data.\n",
    "\n",
    "        Do NOT Modify this method.\n",
    "\n",
    "        Inputs\n",
    "        - X: A numpy array of shape (N, D), where N is the number of data points,\n",
    "            D is the dimensionality of each data point.\n",
    "        - y: A numpy array of shape (N,) containing the training labels, where\n",
    "            y[i] is the label for X[i]. With C classes, each y[i] is an integer\n",
    "            from 0 to C-1.\n",
    "        \"\"\"\n",
    "        self.X_train = X\n",
    "        self.y_train = y\n",
    "\n",
    "    def inference(self, X_test, k=1, dist_metric='dot'):\n",
    "        \"\"\"\n",
    "        For each test example in X, this method predicts its label by majority vote\n",
    "        from the k nearest training samples. It returns the predicted labels. \n",
    "\n",
    "        Do NOT Modify this method.\n",
    "\n",
    "        Inputs\n",
    "        - X_test: A numpy array of shape (N, D), where N is the number of test data points,\n",
    "            D is the dimensionality of each data point.\n",
    "        - X_train: A numpy array of shape (M, D), where M is the number of training data points,\n",
    "            D is the dimensionality of each data point.\n",
    "        - k: The number of neighbors to participate in voting.\n",
    "            dist_metric: Determines the distance metric to use. The default is dot-product ('dot'),\n",
    "            but you will need to implement 'l2' for question (b).\n",
    "        Returns\n",
    "        - y_pred: A numpy array of shape (N,) containing predicted labels for the test data X,\n",
    "            where y_pred[i] is the predicted label for the test point X[i].\n",
    "        \"\"\"\n",
    "        dists = self.compute_distance(X_test, dist_metric)\n",
    "        y_pred = self.predict_labels(X_test, dists, k)\n",
    "        return y_pred\n",
    "\n",
    "    def compute_distance(self, X_test, dist_metric='l2'):\n",
    "        \"\"\"\n",
    "        Computes the distance between the training data and test data, \n",
    "        using dot-product similarity or Euclidean (L2) distance as the distance metric.\n",
    "\n",
    "        Question (a)\n",
    "\n",
    "        Inputs\n",
    "        - X_test: A numpy array of shape (N, D), where N is the number of test data points,\n",
    "            D is the dimensionality of each data point.\n",
    "        - X_train: A numpy array of shape (M, D), where M is the number of training data points,\n",
    "            D is the dimensionality of each data point.\n",
    "        - dist_metric: Determines the distance metric to use.\n",
    "        Returns\n",
    "        - dists: A numpy array of shape (N, M) where N is the number of test data points, \n",
    "            and M is the number of traininig data points, containing distances between \n",
    "            each pair of test and train data points based on the given distance metric.\n",
    "        \"\"\"\n",
    "        N=X_test.shape[0]\n",
    "        M=X_train.shape[0]\n",
    "        dists= np.zeros((N,M))\n",
    "        for i in range(N):\n",
    "            for j in range(M):\n",
    "                if dist_metric=='dot'or  dist_metric=='cos':\n",
    "                    X=np.dot(X_test[i], X_train[j])\n",
    "                    if dist_metric=='dot':\n",
    "                        dists[i][j]=-X\n",
    "                    elif dist_metric=='cos':\n",
    "                        dists[i][j]=-X/(np.linalg.norm(X_test[i])*np.linalg.norm(X_train[j]))\n",
    "                elif dist_metric=='l2':\n",
    "                    dists[i][j]=np.linalg.norm(X_test[i]-X_train[j])\n",
    "#                     dists[i][j]=((X_test[i][0]-X_train[j][0])**2)+((X_test[i][1]-X_train[j][1])**2)\n",
    "                    \n",
    "        return dists\n",
    "\n",
    "\n",
    "\n",
    "\n",
    "\n",
    "\n",
    "    def predict_labels(self, X_test, dists, k):\n",
    "        \"\"\"\n",
    "        For the given test image, this method takes a majority vote from k closest points\n",
    "        to predict the class of the test image.\n",
    "\n",
    "        Question (b)\n",
    "\n",
    "        Inputs\n",
    "        - X_test: A numpy array of shape (N, D), where N is the number of test data points,\n",
    "            D is the dimensionality of each data point.\n",
    "        - dists: A numpy array of shape (N, M) where N is the number of test data points, \n",
    "            and M is the number of traininig data points, containing distances between \n",
    "            each pair of test and train data points based on the given distance metric.\n",
    "        - k: The number of neighbors to participate in voting.\n",
    "        Returns\n",
    "        - y_pred: A numpy array of shape (N,) containing predicted labels for the test data X,\n",
    "            where y_pred[i] is the predicted label for the test point X[i].\n",
    "        \"\"\"\n",
    "        # your code\n",
    "        N=dists.shape[0]\n",
    "        M=dists.shape[1]\n",
    "        y_pred=np.zeros(N)\n",
    "        for i in range(N):\n",
    "            y_largest=np.zeros(k, dtype=int)\n",
    "\n",
    "            kth_largest=np.argpartition(dists[i],k)[:k]\n",
    "            # print(kth_largest)\n",
    "            # print(self.y_train)\n",
    "            for j in range(k):\n",
    "                y_largest[j]=self.y_train[kth_largest[j]]\n",
    "            # print(y_largest)\n",
    "            y_pred[i]=np.argmax(np.bincount(y_largest))\n",
    "            # print(y_pred)\n",
    "        return y_pred\n",
    "\n",
    "    def evaluate(self, y, y_hat):\n",
    "        \"\"\"\n",
    "        Compares the predicted labels to the ground truth y, and prints the\n",
    "        classification accuracy.\n",
    "        \n",
    "        Do NOT Modify this method.\n",
    "\n",
    "        Inputs\n",
    "        - y: A numpy array of shape (N,) containing the ground truth labels, where\n",
    "            N is the number of test examples. With C classes, each y[i] is an integer\n",
    "            from 0 to C-1.\n",
    "        - y_hat: A numpy array of shape (N,) containing the predicted labels, where\n",
    "            N is the number of test examples. With C classes, each y_pred[i] is\n",
    "            an integer from 0 to C-1.\n",
    "        Returns:\n",
    "        - accuracy\n",
    "        \"\"\"\n",
    "        y_hat = np.expand_dims(y_hat, axis=1)\n",
    "        num_correct = np.sum(y_hat == y)\n",
    "        accuracy = float(num_correct) / y.shape[0]\n",
    "        return accuracy\n",
    "\n",
    "X_test=np.array([[1,2],[3,4]])\n",
    "Y_train=np.array([[1],[1],[0]])\n",
    "X_train=np.array([[2,1],[4,3],[6,5]])\n",
    "model=KNN()\n",
    "model.train(X_train, Y_train)\n",
    "# print(model.compute_distance(X_test))\n",
    "\n",
    "print(model.predict_labels(X_test,model.compute_distance(X_test) ,2))\n"
   ]
  },
  {
   "cell_type": "markdown",
   "metadata": {
    "id": "yvwolO5qHzXl"
   },
   "source": [
    "## Data Loading"
   ]
  },
  {
   "cell_type": "code",
   "execution_count": 3,
   "metadata": {
    "id": "zR9dOpGX_0iz"
   },
   "outputs": [],
   "source": [
    "def sample_data(X, y, count):\n",
    "    mask = np.random.choice(X.shape[0], count, replace=False)\n",
    "    X_sampled = X[mask]\n",
    "    y_sampled = y[mask]\n",
    "    return X_sampled, y_sampled"
   ]
  },
  {
   "cell_type": "code",
   "execution_count": 4,
   "metadata": {
    "id": "UOzrdgGSHVXF"
   },
   "outputs": [
    {
     "name": "stdout",
     "output_type": "stream",
     "text": [
      "MNIST data loaded:\n",
      "Training data shape: (60000, 784)\n",
      "Training labels shape: (60000, 1)\n",
      "Test data shape: (10000, 784)\n",
      "Test labels shape: (10000, 1)\n"
     ]
    }
   ],
   "source": [
    "num_train_data = 1000\n",
    "num_test_data = 200\n",
    "\n",
    "X_train_src, y_train_src, X_test_src, y_test_src = load_data(one_hot_encoding=False) # Training data is flattened when it is loaded\n",
    "X_train, y_train = sample_data(X_train_src, y_train_src, num_train_data)\n",
    "X_test, y_test = sample_data(X_test_src, y_test_src, num_test_data)"
   ]
  },
  {
   "cell_type": "markdown",
   "metadata": {
    "id": "lZDHMwziIpja"
   },
   "source": [
    "## Model Training & Evaluation"
   ]
  },
  {
   "cell_type": "code",
   "execution_count": 5,
   "metadata": {
    "id": "nfq-3_r4IsHB"
   },
   "outputs": [],
   "source": [
    "model = KNN()\n",
    "model.train(X_train, y_train)"
   ]
  },
  {
   "cell_type": "code",
   "execution_count": 6,
   "metadata": {
    "id": "fPmKakDuuc8b"
   },
   "outputs": [
    {
     "name": "stdout",
     "output_type": "stream",
     "text": [
      "Accuarcy: 0.825\n"
     ]
    }
   ],
   "source": [
    "\"\"\"\n",
    "Model usage for test.\n",
    "\"\"\"\n",
    "K = 15\n",
    "y_pred = model.inference(X_test, k=K, dist_metric='l2')\n",
    "acc = model.evaluate(y_test, y_pred)\n",
    "print(\"Accuarcy:\", acc)"
   ]
  },
  {
   "cell_type": "markdown",
   "metadata": {
    "id": "_-IRMbqqRtmh"
   },
   "source": [
    "## Experiments"
   ]
  },
  {
   "cell_type": "code",
   "execution_count": 7,
   "metadata": {
    "id": "r0IsD2pwgFxM"
   },
   "outputs": [],
   "source": [
    "# Modify the number of k's and metrics to try as you want\n",
    "num_ks = 50\n",
    "metrics = ['dot', 'cos', 'l2']"
   ]
  },
  {
   "cell_type": "code",
   "execution_count": 8,
   "metadata": {
    "id": "68AnUY2wSkMX"
   },
   "outputs": [
    {
     "name": "stdout",
     "output_type": "stream",
     "text": [
      "running KNN with dot distance metric\n",
      "    processing... k=  5\n",
      "    processing... k= 10\n",
      "    processing... k= 15\n",
      "    processing... k= 20\n",
      "    processing... k= 25\n",
      "    processing... k= 30\n",
      "    processing... k= 35\n",
      "    processing... k= 40\n",
      "    processing... k= 45\n",
      "    processing... k= 50\n",
      "\n",
      "running KNN with cos distance metric\n",
      "    processing... k=  5\n",
      "    processing... k= 10\n",
      "    processing... k= 15\n",
      "    processing... k= 20\n",
      "    processing... k= 25\n",
      "    processing... k= 30\n",
      "    processing... k= 35\n",
      "    processing... k= 40\n",
      "    processing... k= 45\n",
      "    processing... k= 50\n",
      "\n",
      "running KNN with l2 distance metric\n",
      "    processing... k=  5\n",
      "    processing... k= 10\n",
      "    processing... k= 15\n",
      "    processing... k= 20\n",
      "    processing... k= 25\n",
      "    processing... k= 30\n",
      "    processing... k= 35\n",
      "    processing... k= 40\n",
      "    processing... k= 45\n",
      "    processing... k= 50\n",
      "\n",
      "207.4887866973877 seconds\n"
     ]
    }
   ],
   "source": [
    "# Run experiments\n",
    "start=time.time()\n",
    "\n",
    "print_k_interval = 5\n",
    "result = dict(zip(metrics, [[] for _ in range(len(metrics))]))\n",
    "for metric in metrics:\n",
    "    print(\"running KNN with {} distance metric\".format(metric))\n",
    "    for k in range(1, num_ks+1):\n",
    "        if k % print_k_interval==0:\n",
    "            print(\"    processing... k={:3d}\".format(k))\n",
    "        y_pred = model.inference(X_test, k=k, dist_metric=metric)\n",
    "        acc = model.evaluate(y_test, y_pred)\n",
    "        result[metric].append(acc)\n",
    "    print()\n",
    "print(time.time()-start, \"seconds\")"
   ]
  },
  {
   "cell_type": "code",
   "execution_count": 9,
   "metadata": {
    "id": "Q47KrG6ch6MH"
   },
   "outputs": [
    {
     "data": {
      "image/png": "[encoded data removed]",
      "text/plain": [
       "<Figure size 720x360 with 1 Axes>"
      ]
     },
     "metadata": {
      "needs_background": "light"
     },
     "output_type": "display_data"
    }
   ],
   "source": [
    "# Visualize the result\n",
    "fig = plt.figure(figsize=(10,5))\n",
    "ax = fig.add_subplot(1,1,1)\n",
    "\n",
    "x_axis = np.arange(1, num_ks+1, 1)\n",
    "for i, metric in enumerate(metrics):\n",
    "    ax.scatter(x_axis, result[metric], label = metric)\n",
    "\n",
    "ax.set(title=\"K-Nearest Neighbor Accuracies on different Ks\")\n",
    "ax.set(xlabel='K', ylabel='Accuracy')\n",
    "ax.set(xticks=np.arange(0, num_ks+1,5), yticks=np.arange(0.5,1.0,0.05))\n",
    "ax.legend()\n",
    "plt.show()"
   ]
  },
  {
   "cell_type": "code",
   "execution_count": null,
   "metadata": {
    "id": "6dbMIK5-WP3b"
   },
   "outputs": [],
   "source": [
    "### \n",
    "# Question (c)\n",
    "# Briefly report what you observe in the plot above.\n",
    "###"
   ]
  },
  {
   "cell_type": "markdown",
   "metadata": {},
   "source": [
    " Write your answer to (c) in this cell.\n",
    "  (1)  Comparison between distance metric\n",
    "  - cos similarity is highly superior to other methods especially when k is large.\n",
    "  - There is no \"best\" distance function. It depends on the characteristics of input data structure [1]. In this case, characteristics of mnist database may affect the results. The fact that the accuracy of cosine similarity is higher than dot product means that the l2-norm of datasets are far from unit vectors (i.e. the length is not 1). \n",
    "  - It is noted that as k increases, l2 norm accuracy is much less than cosine similarity. it means that using angle is much better to predict neighbor than using distance.\n",
    "\n",
    "  (2) Optimal hyperparameter k\n",
    "  - optimal hyper parameter seems to be around 5~10, especially in l2 norm model. This is because when k is too small, the model is prone to be wiggly, which may lead to overfitting. In contrast, the model has less power to explain the given situation when k is too large.\n",
    "\n",
    "\n",
    "References: Hu LY, Huang MW, Ke SW, Tsai CF. The distance function effect on k-nearest neighbor classification for medical datasets. Springerplus. 2016;5(1):1304. Published 2016 Aug 9. doi:10.1186/s40064-016-2941-7"
   ]
  }
 ],
 "metadata": {
  "colab": {
   "collapsed_sections": [
    "f7MWUDI2IBYW",
    "rR3VeoqMIFbq",
    "jMw488CqIOhm",
    "yvwolO5qHzXl",
    "lZDHMwziIpja",
    "_-IRMbqqRtmh"
   ],
   "name": "hw3_knn.ipynb",
   "provenance": []
  },
  "kernelspec": {
   "display_name": "Python 3",
   "language": "python",
   "name": "python3"
  },
  "language_info": {
   "codemirror_mode": {
    "name": "ipython",
    "version": 3
   },
   "file_extension": ".py",
   "mimetype": "text/x-python",
   "name": "python",
   "nbconvert_exporter": "python",
   "pygments_lexer": "ipython3",
   "version": "3.8.8"
  }
 },
 "nbformat": 4,
 "nbformat_minor": 1
}
